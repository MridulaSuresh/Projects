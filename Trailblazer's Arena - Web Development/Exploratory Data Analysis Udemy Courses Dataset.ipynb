{
 "cells": [
  {
   "cell_type": "code",
   "execution_count": 100,
   "metadata": {},
   "outputs": [],
   "source": [
    "import numpy as np\n",
    "import pandas as pd\n",
    "import seaborn as sns\n",
    "sns.set(color_codes=True)"
   ]
  },
  {
   "cell_type": "markdown",
   "metadata": {},
   "source": [
    "## Reading the csv file"
   ]
  },
  {
   "cell_type": "code",
   "execution_count": 101,
   "metadata": {},
   "outputs": [
    {
     "data": {
      "text/html": [
       "<div>\n",
       "<style scoped>\n",
       "    .dataframe tbody tr th:only-of-type {\n",
       "        vertical-align: middle;\n",
       "    }\n",
       "\n",
       "    .dataframe tbody tr th {\n",
       "        vertical-align: top;\n",
       "    }\n",
       "\n",
       "    .dataframe thead th {\n",
       "        text-align: right;\n",
       "    }\n",
       "</style>\n",
       "<table border=\"1\" class=\"dataframe\">\n",
       "  <thead>\n",
       "    <tr style=\"text-align: right;\">\n",
       "      <th></th>\n",
       "      <th>course_id</th>\n",
       "      <th>course_title</th>\n",
       "      <th>url</th>\n",
       "      <th>is_paid</th>\n",
       "      <th>price</th>\n",
       "      <th>num_subscribers</th>\n",
       "      <th>num_reviews</th>\n",
       "      <th>num_lectures</th>\n",
       "      <th>level</th>\n",
       "      <th>content_duration</th>\n",
       "      <th>published_timestamp</th>\n",
       "      <th>subject</th>\n",
       "    </tr>\n",
       "  </thead>\n",
       "  <tbody>\n",
       "    <tr>\n",
       "      <th>0</th>\n",
       "      <td>1070968</td>\n",
       "      <td>Ultimate Investment Banking Course</td>\n",
       "      <td>NaN</td>\n",
       "      <td>True</td>\n",
       "      <td>200.0</td>\n",
       "      <td>2147</td>\n",
       "      <td>23</td>\n",
       "      <td>51</td>\n",
       "      <td>All Levels</td>\n",
       "      <td>1.5</td>\n",
       "      <td>2017-01-18T20:58:58Z</td>\n",
       "      <td>Business Finance</td>\n",
       "    </tr>\n",
       "    <tr>\n",
       "      <th>1</th>\n",
       "      <td>1113822</td>\n",
       "      <td>Complete GST Course &amp; Certification - Grow You...</td>\n",
       "      <td>https://www.udemy.com/goods-and-services-tax/</td>\n",
       "      <td>True</td>\n",
       "      <td>NaN</td>\n",
       "      <td>2792</td>\n",
       "      <td>923</td>\n",
       "      <td>274</td>\n",
       "      <td>All Levels</td>\n",
       "      <td>39.0</td>\n",
       "      <td>2017-03-09T16:34:20Z</td>\n",
       "      <td>Business Finance</td>\n",
       "    </tr>\n",
       "    <tr>\n",
       "      <th>2</th>\n",
       "      <td>1006314</td>\n",
       "      <td>Financial Modeling for Business Analysts and C...</td>\n",
       "      <td>https://www.udemy.com/financial-modeling-for-b...</td>\n",
       "      <td>True</td>\n",
       "      <td>45.0</td>\n",
       "      <td>2174</td>\n",
       "      <td>74</td>\n",
       "      <td>51</td>\n",
       "      <td>Intermediate Level</td>\n",
       "      <td>2.5</td>\n",
       "      <td>NaN</td>\n",
       "      <td>Business Finance</td>\n",
       "    </tr>\n",
       "    <tr>\n",
       "      <th>3</th>\n",
       "      <td>1210588</td>\n",
       "      <td>Beginner to Pro - Financial Analysis in Excel ...</td>\n",
       "      <td>NaN</td>\n",
       "      <td>True</td>\n",
       "      <td>95.0</td>\n",
       "      <td>2451</td>\n",
       "      <td>11</td>\n",
       "      <td>36</td>\n",
       "      <td>All Levels</td>\n",
       "      <td>3.0</td>\n",
       "      <td>2017-05-30T20:07:24Z</td>\n",
       "      <td>Business Finance</td>\n",
       "    </tr>\n",
       "    <tr>\n",
       "      <th>4</th>\n",
       "      <td>1011058</td>\n",
       "      <td>How To Maximize Your Profits Trading Options</td>\n",
       "      <td>https://www.udemy.com/how-to-maximize-your-pro...</td>\n",
       "      <td>True</td>\n",
       "      <td>200.0</td>\n",
       "      <td>1276</td>\n",
       "      <td>45</td>\n",
       "      <td>26</td>\n",
       "      <td>Intermediate Level</td>\n",
       "      <td>2.0</td>\n",
       "      <td>2016-12-13T14:57:18Z</td>\n",
       "      <td>Business Finance</td>\n",
       "    </tr>\n",
       "    <tr>\n",
       "      <th>...</th>\n",
       "      <td>...</td>\n",
       "      <td>...</td>\n",
       "      <td>...</td>\n",
       "      <td>...</td>\n",
       "      <td>...</td>\n",
       "      <td>...</td>\n",
       "      <td>...</td>\n",
       "      <td>...</td>\n",
       "      <td>...</td>\n",
       "      <td>...</td>\n",
       "      <td>...</td>\n",
       "      <td>...</td>\n",
       "    </tr>\n",
       "    <tr>\n",
       "      <th>3673</th>\n",
       "      <td>775618</td>\n",
       "      <td>Learn jQuery from Scratch - Master of JavaScri...</td>\n",
       "      <td>https://www.udemy.com/easy-jquery-for-beginner...</td>\n",
       "      <td>True</td>\n",
       "      <td>100.0</td>\n",
       "      <td>1040</td>\n",
       "      <td>14</td>\n",
       "      <td>21</td>\n",
       "      <td>All Levels</td>\n",
       "      <td>2.0</td>\n",
       "      <td>2016-06-14T17:36:46Z</td>\n",
       "      <td>Web Development</td>\n",
       "    </tr>\n",
       "    <tr>\n",
       "      <th>3674</th>\n",
       "      <td>1088178</td>\n",
       "      <td>How To Design A WordPress Website With No Codi...</td>\n",
       "      <td>https://www.udemy.com/how-to-make-a-wordpress-...</td>\n",
       "      <td>True</td>\n",
       "      <td>25.0</td>\n",
       "      <td>306</td>\n",
       "      <td>3</td>\n",
       "      <td>42</td>\n",
       "      <td>Beginner Level</td>\n",
       "      <td>3.5</td>\n",
       "      <td>2017-03-10T22:24:30Z</td>\n",
       "      <td>Web Development</td>\n",
       "    </tr>\n",
       "    <tr>\n",
       "      <th>3675</th>\n",
       "      <td>635248</td>\n",
       "      <td>Learn and Build using Polymer</td>\n",
       "      <td>https://www.udemy.com/learn-and-build-using-po...</td>\n",
       "      <td>True</td>\n",
       "      <td>40.0</td>\n",
       "      <td>513</td>\n",
       "      <td>169</td>\n",
       "      <td>48</td>\n",
       "      <td>All Levels</td>\n",
       "      <td>3.5</td>\n",
       "      <td>2015-12-30T16:41:42Z</td>\n",
       "      <td>Web Development</td>\n",
       "    </tr>\n",
       "    <tr>\n",
       "      <th>3676</th>\n",
       "      <td>905096</td>\n",
       "      <td>CSS Animations: Create Amazing Effects on Your...</td>\n",
       "      <td>https://www.udemy.com/css-animations-create-am...</td>\n",
       "      <td>True</td>\n",
       "      <td>50.0</td>\n",
       "      <td>300</td>\n",
       "      <td>31</td>\n",
       "      <td>38</td>\n",
       "      <td>All Levels</td>\n",
       "      <td>3.0</td>\n",
       "      <td>2016-08-11T19:06:15Z</td>\n",
       "      <td>Web Development</td>\n",
       "    </tr>\n",
       "    <tr>\n",
       "      <th>3677</th>\n",
       "      <td>297602</td>\n",
       "      <td>Using MODX CMS to Build Websites: A Beginner's...</td>\n",
       "      <td>https://www.udemy.com/using-modx-cms-to-build-...</td>\n",
       "      <td>True</td>\n",
       "      <td>45.0</td>\n",
       "      <td>901</td>\n",
       "      <td>36</td>\n",
       "      <td>20</td>\n",
       "      <td>Beginner Level</td>\n",
       "      <td>2.0</td>\n",
       "      <td>2014-09-28T19:51:11Z</td>\n",
       "      <td>Web Development</td>\n",
       "    </tr>\n",
       "  </tbody>\n",
       "</table>\n",
       "<p>3678 rows × 12 columns</p>\n",
       "</div>"
      ],
      "text/plain": [
       "      course_id                                       course_title  \\\n",
       "0       1070968                 Ultimate Investment Banking Course   \n",
       "1       1113822  Complete GST Course & Certification - Grow You...   \n",
       "2       1006314  Financial Modeling for Business Analysts and C...   \n",
       "3       1210588  Beginner to Pro - Financial Analysis in Excel ...   \n",
       "4       1011058       How To Maximize Your Profits Trading Options   \n",
       "...         ...                                                ...   \n",
       "3673     775618  Learn jQuery from Scratch - Master of JavaScri...   \n",
       "3674    1088178  How To Design A WordPress Website With No Codi...   \n",
       "3675     635248                      Learn and Build using Polymer   \n",
       "3676     905096  CSS Animations: Create Amazing Effects on Your...   \n",
       "3677     297602  Using MODX CMS to Build Websites: A Beginner's...   \n",
       "\n",
       "                                                    url  is_paid  price  \\\n",
       "0                                                   NaN     True  200.0   \n",
       "1         https://www.udemy.com/goods-and-services-tax/     True    NaN   \n",
       "2     https://www.udemy.com/financial-modeling-for-b...     True   45.0   \n",
       "3                                                   NaN     True   95.0   \n",
       "4     https://www.udemy.com/how-to-maximize-your-pro...     True  200.0   \n",
       "...                                                 ...      ...    ...   \n",
       "3673  https://www.udemy.com/easy-jquery-for-beginner...     True  100.0   \n",
       "3674  https://www.udemy.com/how-to-make-a-wordpress-...     True   25.0   \n",
       "3675  https://www.udemy.com/learn-and-build-using-po...     True   40.0   \n",
       "3676  https://www.udemy.com/css-animations-create-am...     True   50.0   \n",
       "3677  https://www.udemy.com/using-modx-cms-to-build-...     True   45.0   \n",
       "\n",
       "      num_subscribers  num_reviews  num_lectures               level  \\\n",
       "0                2147           23            51          All Levels   \n",
       "1                2792          923           274          All Levels   \n",
       "2                2174           74            51  Intermediate Level   \n",
       "3                2451           11            36          All Levels   \n",
       "4                1276           45            26  Intermediate Level   \n",
       "...               ...          ...           ...                 ...   \n",
       "3673             1040           14            21          All Levels   \n",
       "3674              306            3            42      Beginner Level   \n",
       "3675              513          169            48          All Levels   \n",
       "3676              300           31            38          All Levels   \n",
       "3677              901           36            20      Beginner Level   \n",
       "\n",
       "      content_duration   published_timestamp           subject  \n",
       "0                  1.5  2017-01-18T20:58:58Z  Business Finance  \n",
       "1                 39.0  2017-03-09T16:34:20Z  Business Finance  \n",
       "2                  2.5                   NaN  Business Finance  \n",
       "3                  3.0  2017-05-30T20:07:24Z  Business Finance  \n",
       "4                  2.0  2016-12-13T14:57:18Z  Business Finance  \n",
       "...                ...                   ...               ...  \n",
       "3673               2.0  2016-06-14T17:36:46Z   Web Development  \n",
       "3674               3.5  2017-03-10T22:24:30Z   Web Development  \n",
       "3675               3.5  2015-12-30T16:41:42Z   Web Development  \n",
       "3676               3.0  2016-08-11T19:06:15Z   Web Development  \n",
       "3677               2.0  2014-09-28T19:51:11Z   Web Development  \n",
       "\n",
       "[3678 rows x 12 columns]"
      ]
     },
     "execution_count": 101,
     "metadata": {},
     "output_type": "execute_result"
    }
   ],
   "source": [
    "data=pd.read_csv(\"udemy_courses.csv\")\n",
    "data"
   ]
  },
  {
   "cell_type": "markdown",
   "metadata": {},
   "source": [
    "## Size of the database"
   ]
  },
  {
   "cell_type": "code",
   "execution_count": 102,
   "metadata": {},
   "outputs": [
    {
     "data": {
      "text/plain": [
       "(3678, 12)"
      ]
     },
     "execution_count": 102,
     "metadata": {},
     "output_type": "execute_result"
    }
   ],
   "source": [
    "data.shape"
   ]
  },
  {
   "cell_type": "markdown",
   "metadata": {},
   "source": [
    "## Information about data and data type"
   ]
  },
  {
   "cell_type": "code",
   "execution_count": 103,
   "metadata": {},
   "outputs": [
    {
     "name": "stdout",
     "output_type": "stream",
     "text": [
      "<class 'pandas.core.frame.DataFrame'>\n",
      "RangeIndex: 3678 entries, 0 to 3677\n",
      "Data columns (total 12 columns):\n",
      " #   Column               Non-Null Count  Dtype  \n",
      "---  ------               --------------  -----  \n",
      " 0   course_id            3678 non-null   int64  \n",
      " 1   course_title         3678 non-null   object \n",
      " 2   url                  3676 non-null   object \n",
      " 3   is_paid              3678 non-null   bool   \n",
      " 4   price                3677 non-null   float64\n",
      " 5   num_subscribers      3678 non-null   int64  \n",
      " 6   num_reviews          3678 non-null   int64  \n",
      " 7   num_lectures         3678 non-null   int64  \n",
      " 8   level                3678 non-null   object \n",
      " 9   content_duration     3678 non-null   float64\n",
      " 10  published_timestamp  3677 non-null   object \n",
      " 11  subject              3678 non-null   object \n",
      "dtypes: bool(1), float64(2), int64(4), object(5)\n",
      "memory usage: 319.8+ KB\n"
     ]
    }
   ],
   "source": [
    "data.info()"
   ]
  },
  {
   "cell_type": "markdown",
   "metadata": {},
   "source": [
    "## First n rows of dataset"
   ]
  },
  {
   "cell_type": "code",
   "execution_count": 104,
   "metadata": {},
   "outputs": [
    {
     "data": {
      "text/html": [
       "<div>\n",
       "<style scoped>\n",
       "    .dataframe tbody tr th:only-of-type {\n",
       "        vertical-align: middle;\n",
       "    }\n",
       "\n",
       "    .dataframe tbody tr th {\n",
       "        vertical-align: top;\n",
       "    }\n",
       "\n",
       "    .dataframe thead th {\n",
       "        text-align: right;\n",
       "    }\n",
       "</style>\n",
       "<table border=\"1\" class=\"dataframe\">\n",
       "  <thead>\n",
       "    <tr style=\"text-align: right;\">\n",
       "      <th></th>\n",
       "      <th>course_id</th>\n",
       "      <th>course_title</th>\n",
       "      <th>url</th>\n",
       "      <th>is_paid</th>\n",
       "      <th>price</th>\n",
       "      <th>num_subscribers</th>\n",
       "      <th>num_reviews</th>\n",
       "      <th>num_lectures</th>\n",
       "      <th>level</th>\n",
       "      <th>content_duration</th>\n",
       "      <th>published_timestamp</th>\n",
       "      <th>subject</th>\n",
       "    </tr>\n",
       "  </thead>\n",
       "  <tbody>\n",
       "    <tr>\n",
       "      <th>0</th>\n",
       "      <td>1070968</td>\n",
       "      <td>Ultimate Investment Banking Course</td>\n",
       "      <td>NaN</td>\n",
       "      <td>True</td>\n",
       "      <td>200.0</td>\n",
       "      <td>2147</td>\n",
       "      <td>23</td>\n",
       "      <td>51</td>\n",
       "      <td>All Levels</td>\n",
       "      <td>1.5</td>\n",
       "      <td>2017-01-18T20:58:58Z</td>\n",
       "      <td>Business Finance</td>\n",
       "    </tr>\n",
       "    <tr>\n",
       "      <th>1</th>\n",
       "      <td>1113822</td>\n",
       "      <td>Complete GST Course &amp; Certification - Grow You...</td>\n",
       "      <td>https://www.udemy.com/goods-and-services-tax/</td>\n",
       "      <td>True</td>\n",
       "      <td>NaN</td>\n",
       "      <td>2792</td>\n",
       "      <td>923</td>\n",
       "      <td>274</td>\n",
       "      <td>All Levels</td>\n",
       "      <td>39.0</td>\n",
       "      <td>2017-03-09T16:34:20Z</td>\n",
       "      <td>Business Finance</td>\n",
       "    </tr>\n",
       "    <tr>\n",
       "      <th>2</th>\n",
       "      <td>1006314</td>\n",
       "      <td>Financial Modeling for Business Analysts and C...</td>\n",
       "      <td>https://www.udemy.com/financial-modeling-for-b...</td>\n",
       "      <td>True</td>\n",
       "      <td>45.0</td>\n",
       "      <td>2174</td>\n",
       "      <td>74</td>\n",
       "      <td>51</td>\n",
       "      <td>Intermediate Level</td>\n",
       "      <td>2.5</td>\n",
       "      <td>NaN</td>\n",
       "      <td>Business Finance</td>\n",
       "    </tr>\n",
       "    <tr>\n",
       "      <th>3</th>\n",
       "      <td>1210588</td>\n",
       "      <td>Beginner to Pro - Financial Analysis in Excel ...</td>\n",
       "      <td>NaN</td>\n",
       "      <td>True</td>\n",
       "      <td>95.0</td>\n",
       "      <td>2451</td>\n",
       "      <td>11</td>\n",
       "      <td>36</td>\n",
       "      <td>All Levels</td>\n",
       "      <td>3.0</td>\n",
       "      <td>2017-05-30T20:07:24Z</td>\n",
       "      <td>Business Finance</td>\n",
       "    </tr>\n",
       "    <tr>\n",
       "      <th>4</th>\n",
       "      <td>1011058</td>\n",
       "      <td>How To Maximize Your Profits Trading Options</td>\n",
       "      <td>https://www.udemy.com/how-to-maximize-your-pro...</td>\n",
       "      <td>True</td>\n",
       "      <td>200.0</td>\n",
       "      <td>1276</td>\n",
       "      <td>45</td>\n",
       "      <td>26</td>\n",
       "      <td>Intermediate Level</td>\n",
       "      <td>2.0</td>\n",
       "      <td>2016-12-13T14:57:18Z</td>\n",
       "      <td>Business Finance</td>\n",
       "    </tr>\n",
       "  </tbody>\n",
       "</table>\n",
       "</div>"
      ],
      "text/plain": [
       "   course_id                                       course_title  \\\n",
       "0    1070968                 Ultimate Investment Banking Course   \n",
       "1    1113822  Complete GST Course & Certification - Grow You...   \n",
       "2    1006314  Financial Modeling for Business Analysts and C...   \n",
       "3    1210588  Beginner to Pro - Financial Analysis in Excel ...   \n",
       "4    1011058       How To Maximize Your Profits Trading Options   \n",
       "\n",
       "                                                 url  is_paid  price  \\\n",
       "0                                                NaN     True  200.0   \n",
       "1      https://www.udemy.com/goods-and-services-tax/     True    NaN   \n",
       "2  https://www.udemy.com/financial-modeling-for-b...     True   45.0   \n",
       "3                                                NaN     True   95.0   \n",
       "4  https://www.udemy.com/how-to-maximize-your-pro...     True  200.0   \n",
       "\n",
       "   num_subscribers  num_reviews  num_lectures               level  \\\n",
       "0             2147           23            51          All Levels   \n",
       "1             2792          923           274          All Levels   \n",
       "2             2174           74            51  Intermediate Level   \n",
       "3             2451           11            36          All Levels   \n",
       "4             1276           45            26  Intermediate Level   \n",
       "\n",
       "   content_duration   published_timestamp           subject  \n",
       "0               1.5  2017-01-18T20:58:58Z  Business Finance  \n",
       "1              39.0  2017-03-09T16:34:20Z  Business Finance  \n",
       "2               2.5                   NaN  Business Finance  \n",
       "3               3.0  2017-05-30T20:07:24Z  Business Finance  \n",
       "4               2.0  2016-12-13T14:57:18Z  Business Finance  "
      ]
     },
     "execution_count": 104,
     "metadata": {},
     "output_type": "execute_result"
    }
   ],
   "source": [
    "data.head()"
   ]
  },
  {
   "cell_type": "code",
   "execution_count": 105,
   "metadata": {},
   "outputs": [
    {
     "data": {
      "text/html": [
       "<div>\n",
       "<style scoped>\n",
       "    .dataframe tbody tr th:only-of-type {\n",
       "        vertical-align: middle;\n",
       "    }\n",
       "\n",
       "    .dataframe tbody tr th {\n",
       "        vertical-align: top;\n",
       "    }\n",
       "\n",
       "    .dataframe thead th {\n",
       "        text-align: right;\n",
       "    }\n",
       "</style>\n",
       "<table border=\"1\" class=\"dataframe\">\n",
       "  <thead>\n",
       "    <tr style=\"text-align: right;\">\n",
       "      <th></th>\n",
       "      <th>course_id</th>\n",
       "      <th>course_title</th>\n",
       "      <th>url</th>\n",
       "      <th>is_paid</th>\n",
       "      <th>price</th>\n",
       "      <th>num_subscribers</th>\n",
       "      <th>num_reviews</th>\n",
       "      <th>num_lectures</th>\n",
       "      <th>level</th>\n",
       "      <th>content_duration</th>\n",
       "      <th>published_timestamp</th>\n",
       "      <th>subject</th>\n",
       "    </tr>\n",
       "  </thead>\n",
       "  <tbody>\n",
       "    <tr>\n",
       "      <th>0</th>\n",
       "      <td>1070968</td>\n",
       "      <td>Ultimate Investment Banking Course</td>\n",
       "      <td>NaN</td>\n",
       "      <td>True</td>\n",
       "      <td>200.0</td>\n",
       "      <td>2147</td>\n",
       "      <td>23</td>\n",
       "      <td>51</td>\n",
       "      <td>All Levels</td>\n",
       "      <td>1.5</td>\n",
       "      <td>2017-01-18T20:58:58Z</td>\n",
       "      <td>Business Finance</td>\n",
       "    </tr>\n",
       "    <tr>\n",
       "      <th>1</th>\n",
       "      <td>1113822</td>\n",
       "      <td>Complete GST Course &amp; Certification - Grow You...</td>\n",
       "      <td>https://www.udemy.com/goods-and-services-tax/</td>\n",
       "      <td>True</td>\n",
       "      <td>NaN</td>\n",
       "      <td>2792</td>\n",
       "      <td>923</td>\n",
       "      <td>274</td>\n",
       "      <td>All Levels</td>\n",
       "      <td>39.0</td>\n",
       "      <td>2017-03-09T16:34:20Z</td>\n",
       "      <td>Business Finance</td>\n",
       "    </tr>\n",
       "    <tr>\n",
       "      <th>2</th>\n",
       "      <td>1006314</td>\n",
       "      <td>Financial Modeling for Business Analysts and C...</td>\n",
       "      <td>https://www.udemy.com/financial-modeling-for-b...</td>\n",
       "      <td>True</td>\n",
       "      <td>45.0</td>\n",
       "      <td>2174</td>\n",
       "      <td>74</td>\n",
       "      <td>51</td>\n",
       "      <td>Intermediate Level</td>\n",
       "      <td>2.5</td>\n",
       "      <td>NaN</td>\n",
       "      <td>Business Finance</td>\n",
       "    </tr>\n",
       "    <tr>\n",
       "      <th>3</th>\n",
       "      <td>1210588</td>\n",
       "      <td>Beginner to Pro - Financial Analysis in Excel ...</td>\n",
       "      <td>NaN</td>\n",
       "      <td>True</td>\n",
       "      <td>95.0</td>\n",
       "      <td>2451</td>\n",
       "      <td>11</td>\n",
       "      <td>36</td>\n",
       "      <td>All Levels</td>\n",
       "      <td>3.0</td>\n",
       "      <td>2017-05-30T20:07:24Z</td>\n",
       "      <td>Business Finance</td>\n",
       "    </tr>\n",
       "    <tr>\n",
       "      <th>4</th>\n",
       "      <td>1011058</td>\n",
       "      <td>How To Maximize Your Profits Trading Options</td>\n",
       "      <td>https://www.udemy.com/how-to-maximize-your-pro...</td>\n",
       "      <td>True</td>\n",
       "      <td>200.0</td>\n",
       "      <td>1276</td>\n",
       "      <td>45</td>\n",
       "      <td>26</td>\n",
       "      <td>Intermediate Level</td>\n",
       "      <td>2.0</td>\n",
       "      <td>2016-12-13T14:57:18Z</td>\n",
       "      <td>Business Finance</td>\n",
       "    </tr>\n",
       "    <tr>\n",
       "      <th>5</th>\n",
       "      <td>192870</td>\n",
       "      <td>Trading Penny Stocks: A Guide for All Levels I...</td>\n",
       "      <td>https://www.udemy.com/trading-penny-stocks-a-g...</td>\n",
       "      <td>True</td>\n",
       "      <td>150.0</td>\n",
       "      <td>9221</td>\n",
       "      <td>138</td>\n",
       "      <td>25</td>\n",
       "      <td>All Levels</td>\n",
       "      <td>3.0</td>\n",
       "      <td>2014-05-02T15:13:30Z</td>\n",
       "      <td>Business Finance</td>\n",
       "    </tr>\n",
       "    <tr>\n",
       "      <th>6</th>\n",
       "      <td>739964</td>\n",
       "      <td>Investing And Trading For Beginners: Mastering...</td>\n",
       "      <td>https://www.udemy.com/investing-and-trading-fo...</td>\n",
       "      <td>True</td>\n",
       "      <td>65.0</td>\n",
       "      <td>1540</td>\n",
       "      <td>178</td>\n",
       "      <td>26</td>\n",
       "      <td>Beginner Level</td>\n",
       "      <td>1.0</td>\n",
       "      <td>2016-02-21T18:23:12Z</td>\n",
       "      <td>Business Finance</td>\n",
       "    </tr>\n",
       "  </tbody>\n",
       "</table>\n",
       "</div>"
      ],
      "text/plain": [
       "   course_id                                       course_title  \\\n",
       "0    1070968                 Ultimate Investment Banking Course   \n",
       "1    1113822  Complete GST Course & Certification - Grow You...   \n",
       "2    1006314  Financial Modeling for Business Analysts and C...   \n",
       "3    1210588  Beginner to Pro - Financial Analysis in Excel ...   \n",
       "4    1011058       How To Maximize Your Profits Trading Options   \n",
       "5     192870  Trading Penny Stocks: A Guide for All Levels I...   \n",
       "6     739964  Investing And Trading For Beginners: Mastering...   \n",
       "\n",
       "                                                 url  is_paid  price  \\\n",
       "0                                                NaN     True  200.0   \n",
       "1      https://www.udemy.com/goods-and-services-tax/     True    NaN   \n",
       "2  https://www.udemy.com/financial-modeling-for-b...     True   45.0   \n",
       "3                                                NaN     True   95.0   \n",
       "4  https://www.udemy.com/how-to-maximize-your-pro...     True  200.0   \n",
       "5  https://www.udemy.com/trading-penny-stocks-a-g...     True  150.0   \n",
       "6  https://www.udemy.com/investing-and-trading-fo...     True   65.0   \n",
       "\n",
       "   num_subscribers  num_reviews  num_lectures               level  \\\n",
       "0             2147           23            51          All Levels   \n",
       "1             2792          923           274          All Levels   \n",
       "2             2174           74            51  Intermediate Level   \n",
       "3             2451           11            36          All Levels   \n",
       "4             1276           45            26  Intermediate Level   \n",
       "5             9221          138            25          All Levels   \n",
       "6             1540          178            26      Beginner Level   \n",
       "\n",
       "   content_duration   published_timestamp           subject  \n",
       "0               1.5  2017-01-18T20:58:58Z  Business Finance  \n",
       "1              39.0  2017-03-09T16:34:20Z  Business Finance  \n",
       "2               2.5                   NaN  Business Finance  \n",
       "3               3.0  2017-05-30T20:07:24Z  Business Finance  \n",
       "4               2.0  2016-12-13T14:57:18Z  Business Finance  \n",
       "5               3.0  2014-05-02T15:13:30Z  Business Finance  \n",
       "6               1.0  2016-02-21T18:23:12Z  Business Finance  "
      ]
     },
     "execution_count": 105,
     "metadata": {},
     "output_type": "execute_result"
    }
   ],
   "source": [
    "data.head(7)"
   ]
  },
  {
   "cell_type": "markdown",
   "metadata": {},
   "source": [
    "## Last n rows of dataset"
   ]
  },
  {
   "cell_type": "code",
   "execution_count": 106,
   "metadata": {},
   "outputs": [
    {
     "data": {
      "text/html": [
       "<div>\n",
       "<style scoped>\n",
       "    .dataframe tbody tr th:only-of-type {\n",
       "        vertical-align: middle;\n",
       "    }\n",
       "\n",
       "    .dataframe tbody tr th {\n",
       "        vertical-align: top;\n",
       "    }\n",
       "\n",
       "    .dataframe thead th {\n",
       "        text-align: right;\n",
       "    }\n",
       "</style>\n",
       "<table border=\"1\" class=\"dataframe\">\n",
       "  <thead>\n",
       "    <tr style=\"text-align: right;\">\n",
       "      <th></th>\n",
       "      <th>course_id</th>\n",
       "      <th>course_title</th>\n",
       "      <th>url</th>\n",
       "      <th>is_paid</th>\n",
       "      <th>price</th>\n",
       "      <th>num_subscribers</th>\n",
       "      <th>num_reviews</th>\n",
       "      <th>num_lectures</th>\n",
       "      <th>level</th>\n",
       "      <th>content_duration</th>\n",
       "      <th>published_timestamp</th>\n",
       "      <th>subject</th>\n",
       "    </tr>\n",
       "  </thead>\n",
       "  <tbody>\n",
       "    <tr>\n",
       "      <th>3673</th>\n",
       "      <td>775618</td>\n",
       "      <td>Learn jQuery from Scratch - Master of JavaScri...</td>\n",
       "      <td>https://www.udemy.com/easy-jquery-for-beginner...</td>\n",
       "      <td>True</td>\n",
       "      <td>100.0</td>\n",
       "      <td>1040</td>\n",
       "      <td>14</td>\n",
       "      <td>21</td>\n",
       "      <td>All Levels</td>\n",
       "      <td>2.0</td>\n",
       "      <td>2016-06-14T17:36:46Z</td>\n",
       "      <td>Web Development</td>\n",
       "    </tr>\n",
       "    <tr>\n",
       "      <th>3674</th>\n",
       "      <td>1088178</td>\n",
       "      <td>How To Design A WordPress Website With No Codi...</td>\n",
       "      <td>https://www.udemy.com/how-to-make-a-wordpress-...</td>\n",
       "      <td>True</td>\n",
       "      <td>25.0</td>\n",
       "      <td>306</td>\n",
       "      <td>3</td>\n",
       "      <td>42</td>\n",
       "      <td>Beginner Level</td>\n",
       "      <td>3.5</td>\n",
       "      <td>2017-03-10T22:24:30Z</td>\n",
       "      <td>Web Development</td>\n",
       "    </tr>\n",
       "    <tr>\n",
       "      <th>3675</th>\n",
       "      <td>635248</td>\n",
       "      <td>Learn and Build using Polymer</td>\n",
       "      <td>https://www.udemy.com/learn-and-build-using-po...</td>\n",
       "      <td>True</td>\n",
       "      <td>40.0</td>\n",
       "      <td>513</td>\n",
       "      <td>169</td>\n",
       "      <td>48</td>\n",
       "      <td>All Levels</td>\n",
       "      <td>3.5</td>\n",
       "      <td>2015-12-30T16:41:42Z</td>\n",
       "      <td>Web Development</td>\n",
       "    </tr>\n",
       "    <tr>\n",
       "      <th>3676</th>\n",
       "      <td>905096</td>\n",
       "      <td>CSS Animations: Create Amazing Effects on Your...</td>\n",
       "      <td>https://www.udemy.com/css-animations-create-am...</td>\n",
       "      <td>True</td>\n",
       "      <td>50.0</td>\n",
       "      <td>300</td>\n",
       "      <td>31</td>\n",
       "      <td>38</td>\n",
       "      <td>All Levels</td>\n",
       "      <td>3.0</td>\n",
       "      <td>2016-08-11T19:06:15Z</td>\n",
       "      <td>Web Development</td>\n",
       "    </tr>\n",
       "    <tr>\n",
       "      <th>3677</th>\n",
       "      <td>297602</td>\n",
       "      <td>Using MODX CMS to Build Websites: A Beginner's...</td>\n",
       "      <td>https://www.udemy.com/using-modx-cms-to-build-...</td>\n",
       "      <td>True</td>\n",
       "      <td>45.0</td>\n",
       "      <td>901</td>\n",
       "      <td>36</td>\n",
       "      <td>20</td>\n",
       "      <td>Beginner Level</td>\n",
       "      <td>2.0</td>\n",
       "      <td>2014-09-28T19:51:11Z</td>\n",
       "      <td>Web Development</td>\n",
       "    </tr>\n",
       "  </tbody>\n",
       "</table>\n",
       "</div>"
      ],
      "text/plain": [
       "      course_id                                       course_title  \\\n",
       "3673     775618  Learn jQuery from Scratch - Master of JavaScri...   \n",
       "3674    1088178  How To Design A WordPress Website With No Codi...   \n",
       "3675     635248                      Learn and Build using Polymer   \n",
       "3676     905096  CSS Animations: Create Amazing Effects on Your...   \n",
       "3677     297602  Using MODX CMS to Build Websites: A Beginner's...   \n",
       "\n",
       "                                                    url  is_paid  price  \\\n",
       "3673  https://www.udemy.com/easy-jquery-for-beginner...     True  100.0   \n",
       "3674  https://www.udemy.com/how-to-make-a-wordpress-...     True   25.0   \n",
       "3675  https://www.udemy.com/learn-and-build-using-po...     True   40.0   \n",
       "3676  https://www.udemy.com/css-animations-create-am...     True   50.0   \n",
       "3677  https://www.udemy.com/using-modx-cms-to-build-...     True   45.0   \n",
       "\n",
       "      num_subscribers  num_reviews  num_lectures           level  \\\n",
       "3673             1040           14            21      All Levels   \n",
       "3674              306            3            42  Beginner Level   \n",
       "3675              513          169            48      All Levels   \n",
       "3676              300           31            38      All Levels   \n",
       "3677              901           36            20  Beginner Level   \n",
       "\n",
       "      content_duration   published_timestamp          subject  \n",
       "3673               2.0  2016-06-14T17:36:46Z  Web Development  \n",
       "3674               3.5  2017-03-10T22:24:30Z  Web Development  \n",
       "3675               3.5  2015-12-30T16:41:42Z  Web Development  \n",
       "3676               3.0  2016-08-11T19:06:15Z  Web Development  \n",
       "3677               2.0  2014-09-28T19:51:11Z  Web Development  "
      ]
     },
     "execution_count": 106,
     "metadata": {},
     "output_type": "execute_result"
    }
   ],
   "source": [
    "data.tail()"
   ]
  },
  {
   "cell_type": "code",
   "execution_count": 107,
   "metadata": {},
   "outputs": [
    {
     "data": {
      "text/html": [
       "<div>\n",
       "<style scoped>\n",
       "    .dataframe tbody tr th:only-of-type {\n",
       "        vertical-align: middle;\n",
       "    }\n",
       "\n",
       "    .dataframe tbody tr th {\n",
       "        vertical-align: top;\n",
       "    }\n",
       "\n",
       "    .dataframe thead th {\n",
       "        text-align: right;\n",
       "    }\n",
       "</style>\n",
       "<table border=\"1\" class=\"dataframe\">\n",
       "  <thead>\n",
       "    <tr style=\"text-align: right;\">\n",
       "      <th></th>\n",
       "      <th>course_id</th>\n",
       "      <th>course_title</th>\n",
       "      <th>url</th>\n",
       "      <th>is_paid</th>\n",
       "      <th>price</th>\n",
       "      <th>num_subscribers</th>\n",
       "      <th>num_reviews</th>\n",
       "      <th>num_lectures</th>\n",
       "      <th>level</th>\n",
       "      <th>content_duration</th>\n",
       "      <th>published_timestamp</th>\n",
       "      <th>subject</th>\n",
       "    </tr>\n",
       "  </thead>\n",
       "  <tbody>\n",
       "    <tr>\n",
       "      <th>3671</th>\n",
       "      <td>667122</td>\n",
       "      <td>Build A Stock Downloader With Visual Studio 20...</td>\n",
       "      <td>https://www.udemy.com/csharpyahoostockdownloader/</td>\n",
       "      <td>True</td>\n",
       "      <td>20.0</td>\n",
       "      <td>436</td>\n",
       "      <td>36</td>\n",
       "      <td>22</td>\n",
       "      <td>Intermediate Level</td>\n",
       "      <td>1.5</td>\n",
       "      <td>2015-11-19T17:22:47Z</td>\n",
       "      <td>Web Development</td>\n",
       "    </tr>\n",
       "    <tr>\n",
       "      <th>3672</th>\n",
       "      <td>865438</td>\n",
       "      <td>jQuery UI in Action: Build 5 jQuery UI Projects</td>\n",
       "      <td>https://www.udemy.com/jquery-ui-practical-buil...</td>\n",
       "      <td>True</td>\n",
       "      <td>150.0</td>\n",
       "      <td>382</td>\n",
       "      <td>28</td>\n",
       "      <td>140</td>\n",
       "      <td>All Levels</td>\n",
       "      <td>15.5</td>\n",
       "      <td>2016-10-10T22:00:32Z</td>\n",
       "      <td>Web Development</td>\n",
       "    </tr>\n",
       "    <tr>\n",
       "      <th>3673</th>\n",
       "      <td>775618</td>\n",
       "      <td>Learn jQuery from Scratch - Master of JavaScri...</td>\n",
       "      <td>https://www.udemy.com/easy-jquery-for-beginner...</td>\n",
       "      <td>True</td>\n",
       "      <td>100.0</td>\n",
       "      <td>1040</td>\n",
       "      <td>14</td>\n",
       "      <td>21</td>\n",
       "      <td>All Levels</td>\n",
       "      <td>2.0</td>\n",
       "      <td>2016-06-14T17:36:46Z</td>\n",
       "      <td>Web Development</td>\n",
       "    </tr>\n",
       "    <tr>\n",
       "      <th>3674</th>\n",
       "      <td>1088178</td>\n",
       "      <td>How To Design A WordPress Website With No Codi...</td>\n",
       "      <td>https://www.udemy.com/how-to-make-a-wordpress-...</td>\n",
       "      <td>True</td>\n",
       "      <td>25.0</td>\n",
       "      <td>306</td>\n",
       "      <td>3</td>\n",
       "      <td>42</td>\n",
       "      <td>Beginner Level</td>\n",
       "      <td>3.5</td>\n",
       "      <td>2017-03-10T22:24:30Z</td>\n",
       "      <td>Web Development</td>\n",
       "    </tr>\n",
       "    <tr>\n",
       "      <th>3675</th>\n",
       "      <td>635248</td>\n",
       "      <td>Learn and Build using Polymer</td>\n",
       "      <td>https://www.udemy.com/learn-and-build-using-po...</td>\n",
       "      <td>True</td>\n",
       "      <td>40.0</td>\n",
       "      <td>513</td>\n",
       "      <td>169</td>\n",
       "      <td>48</td>\n",
       "      <td>All Levels</td>\n",
       "      <td>3.5</td>\n",
       "      <td>2015-12-30T16:41:42Z</td>\n",
       "      <td>Web Development</td>\n",
       "    </tr>\n",
       "    <tr>\n",
       "      <th>3676</th>\n",
       "      <td>905096</td>\n",
       "      <td>CSS Animations: Create Amazing Effects on Your...</td>\n",
       "      <td>https://www.udemy.com/css-animations-create-am...</td>\n",
       "      <td>True</td>\n",
       "      <td>50.0</td>\n",
       "      <td>300</td>\n",
       "      <td>31</td>\n",
       "      <td>38</td>\n",
       "      <td>All Levels</td>\n",
       "      <td>3.0</td>\n",
       "      <td>2016-08-11T19:06:15Z</td>\n",
       "      <td>Web Development</td>\n",
       "    </tr>\n",
       "    <tr>\n",
       "      <th>3677</th>\n",
       "      <td>297602</td>\n",
       "      <td>Using MODX CMS to Build Websites: A Beginner's...</td>\n",
       "      <td>https://www.udemy.com/using-modx-cms-to-build-...</td>\n",
       "      <td>True</td>\n",
       "      <td>45.0</td>\n",
       "      <td>901</td>\n",
       "      <td>36</td>\n",
       "      <td>20</td>\n",
       "      <td>Beginner Level</td>\n",
       "      <td>2.0</td>\n",
       "      <td>2014-09-28T19:51:11Z</td>\n",
       "      <td>Web Development</td>\n",
       "    </tr>\n",
       "  </tbody>\n",
       "</table>\n",
       "</div>"
      ],
      "text/plain": [
       "      course_id                                       course_title  \\\n",
       "3671     667122  Build A Stock Downloader With Visual Studio 20...   \n",
       "3672     865438    jQuery UI in Action: Build 5 jQuery UI Projects   \n",
       "3673     775618  Learn jQuery from Scratch - Master of JavaScri...   \n",
       "3674    1088178  How To Design A WordPress Website With No Codi...   \n",
       "3675     635248                      Learn and Build using Polymer   \n",
       "3676     905096  CSS Animations: Create Amazing Effects on Your...   \n",
       "3677     297602  Using MODX CMS to Build Websites: A Beginner's...   \n",
       "\n",
       "                                                    url  is_paid  price  \\\n",
       "3671  https://www.udemy.com/csharpyahoostockdownloader/     True   20.0   \n",
       "3672  https://www.udemy.com/jquery-ui-practical-buil...     True  150.0   \n",
       "3673  https://www.udemy.com/easy-jquery-for-beginner...     True  100.0   \n",
       "3674  https://www.udemy.com/how-to-make-a-wordpress-...     True   25.0   \n",
       "3675  https://www.udemy.com/learn-and-build-using-po...     True   40.0   \n",
       "3676  https://www.udemy.com/css-animations-create-am...     True   50.0   \n",
       "3677  https://www.udemy.com/using-modx-cms-to-build-...     True   45.0   \n",
       "\n",
       "      num_subscribers  num_reviews  num_lectures               level  \\\n",
       "3671              436           36            22  Intermediate Level   \n",
       "3672              382           28           140          All Levels   \n",
       "3673             1040           14            21          All Levels   \n",
       "3674              306            3            42      Beginner Level   \n",
       "3675              513          169            48          All Levels   \n",
       "3676              300           31            38          All Levels   \n",
       "3677              901           36            20      Beginner Level   \n",
       "\n",
       "      content_duration   published_timestamp          subject  \n",
       "3671               1.5  2015-11-19T17:22:47Z  Web Development  \n",
       "3672              15.5  2016-10-10T22:00:32Z  Web Development  \n",
       "3673               2.0  2016-06-14T17:36:46Z  Web Development  \n",
       "3674               3.5  2017-03-10T22:24:30Z  Web Development  \n",
       "3675               3.5  2015-12-30T16:41:42Z  Web Development  \n",
       "3676               3.0  2016-08-11T19:06:15Z  Web Development  \n",
       "3677               2.0  2014-09-28T19:51:11Z  Web Development  "
      ]
     },
     "execution_count": 107,
     "metadata": {},
     "output_type": "execute_result"
    }
   ],
   "source": [
    "data.tail(7)"
   ]
  },
  {
   "cell_type": "markdown",
   "metadata": {},
   "source": [
    "## Description about numerical data"
   ]
  },
  {
   "cell_type": "code",
   "execution_count": 108,
   "metadata": {},
   "outputs": [
    {
     "data": {
      "text/html": [
       "<div>\n",
       "<style scoped>\n",
       "    .dataframe tbody tr th:only-of-type {\n",
       "        vertical-align: middle;\n",
       "    }\n",
       "\n",
       "    .dataframe tbody tr th {\n",
       "        vertical-align: top;\n",
       "    }\n",
       "\n",
       "    .dataframe thead th {\n",
       "        text-align: right;\n",
       "    }\n",
       "</style>\n",
       "<table border=\"1\" class=\"dataframe\">\n",
       "  <thead>\n",
       "    <tr style=\"text-align: right;\">\n",
       "      <th></th>\n",
       "      <th>course_id</th>\n",
       "      <th>price</th>\n",
       "      <th>num_subscribers</th>\n",
       "      <th>num_reviews</th>\n",
       "      <th>num_lectures</th>\n",
       "      <th>content_duration</th>\n",
       "    </tr>\n",
       "  </thead>\n",
       "  <tbody>\n",
       "    <tr>\n",
       "      <th>count</th>\n",
       "      <td>3.678000e+03</td>\n",
       "      <td>3677.000000</td>\n",
       "      <td>3678.000000</td>\n",
       "      <td>3678.000000</td>\n",
       "      <td>3678.000000</td>\n",
       "      <td>3678.000000</td>\n",
       "    </tr>\n",
       "    <tr>\n",
       "      <th>mean</th>\n",
       "      <td>6.759720e+05</td>\n",
       "      <td>66.047049</td>\n",
       "      <td>3197.150625</td>\n",
       "      <td>156.259108</td>\n",
       "      <td>40.108755</td>\n",
       "      <td>4.094517</td>\n",
       "    </tr>\n",
       "    <tr>\n",
       "      <th>std</th>\n",
       "      <td>3.432732e+05</td>\n",
       "      <td>61.013874</td>\n",
       "      <td>9504.117010</td>\n",
       "      <td>935.452044</td>\n",
       "      <td>50.383346</td>\n",
       "      <td>6.053840</td>\n",
       "    </tr>\n",
       "    <tr>\n",
       "      <th>min</th>\n",
       "      <td>8.324000e+03</td>\n",
       "      <td>0.000000</td>\n",
       "      <td>0.000000</td>\n",
       "      <td>0.000000</td>\n",
       "      <td>0.000000</td>\n",
       "      <td>0.000000</td>\n",
       "    </tr>\n",
       "    <tr>\n",
       "      <th>25%</th>\n",
       "      <td>4.076925e+05</td>\n",
       "      <td>20.000000</td>\n",
       "      <td>111.000000</td>\n",
       "      <td>4.000000</td>\n",
       "      <td>15.000000</td>\n",
       "      <td>1.000000</td>\n",
       "    </tr>\n",
       "    <tr>\n",
       "      <th>50%</th>\n",
       "      <td>6.879170e+05</td>\n",
       "      <td>45.000000</td>\n",
       "      <td>911.500000</td>\n",
       "      <td>18.000000</td>\n",
       "      <td>25.000000</td>\n",
       "      <td>2.000000</td>\n",
       "    </tr>\n",
       "    <tr>\n",
       "      <th>75%</th>\n",
       "      <td>9.613555e+05</td>\n",
       "      <td>95.000000</td>\n",
       "      <td>2546.000000</td>\n",
       "      <td>67.000000</td>\n",
       "      <td>45.750000</td>\n",
       "      <td>4.500000</td>\n",
       "    </tr>\n",
       "    <tr>\n",
       "      <th>max</th>\n",
       "      <td>1.282064e+06</td>\n",
       "      <td>200.000000</td>\n",
       "      <td>268923.000000</td>\n",
       "      <td>27445.000000</td>\n",
       "      <td>779.000000</td>\n",
       "      <td>78.500000</td>\n",
       "    </tr>\n",
       "  </tbody>\n",
       "</table>\n",
       "</div>"
      ],
      "text/plain": [
       "          course_id        price  num_subscribers   num_reviews  num_lectures  \\\n",
       "count  3.678000e+03  3677.000000      3678.000000   3678.000000   3678.000000   \n",
       "mean   6.759720e+05    66.047049      3197.150625    156.259108     40.108755   \n",
       "std    3.432732e+05    61.013874      9504.117010    935.452044     50.383346   \n",
       "min    8.324000e+03     0.000000         0.000000      0.000000      0.000000   \n",
       "25%    4.076925e+05    20.000000       111.000000      4.000000     15.000000   \n",
       "50%    6.879170e+05    45.000000       911.500000     18.000000     25.000000   \n",
       "75%    9.613555e+05    95.000000      2546.000000     67.000000     45.750000   \n",
       "max    1.282064e+06   200.000000    268923.000000  27445.000000    779.000000   \n",
       "\n",
       "       content_duration  \n",
       "count       3678.000000  \n",
       "mean           4.094517  \n",
       "std            6.053840  \n",
       "min            0.000000  \n",
       "25%            1.000000  \n",
       "50%            2.000000  \n",
       "75%            4.500000  \n",
       "max           78.500000  "
      ]
     },
     "execution_count": 108,
     "metadata": {},
     "output_type": "execute_result"
    }
   ],
   "source": [
    "data.describe()"
   ]
  },
  {
   "cell_type": "markdown",
   "metadata": {},
   "source": [
    "## Columns in dataset"
   ]
  },
  {
   "cell_type": "code",
   "execution_count": 109,
   "metadata": {},
   "outputs": [
    {
     "data": {
      "text/plain": [
       "Index(['course_id', 'course_title', 'url', 'is_paid', 'price',\n",
       "       'num_subscribers', 'num_reviews', 'num_lectures', 'level',\n",
       "       'content_duration', 'published_timestamp', 'subject'],\n",
       "      dtype='object')"
      ]
     },
     "execution_count": 109,
     "metadata": {},
     "output_type": "execute_result"
    }
   ],
   "source": [
    "data.columns"
   ]
  },
  {
   "cell_type": "markdown",
   "metadata": {},
   "source": [
    "## Unique values in dataset"
   ]
  },
  {
   "cell_type": "code",
   "execution_count": 110,
   "metadata": {},
   "outputs": [
    {
     "data": {
      "text/plain": [
       "course_id              3672\n",
       "course_title           3663\n",
       "url                    3670\n",
       "is_paid                   2\n",
       "price                    38\n",
       "num_subscribers        2197\n",
       "num_reviews             511\n",
       "num_lectures            229\n",
       "level                     4\n",
       "content_duration        105\n",
       "published_timestamp    3671\n",
       "subject                   4\n",
       "dtype: int64"
      ]
     },
     "execution_count": 110,
     "metadata": {},
     "output_type": "execute_result"
    }
   ],
   "source": [
    "data.nunique()"
   ]
  },
  {
   "cell_type": "code",
   "execution_count": 111,
   "metadata": {},
   "outputs": [
    {
     "data": {
      "text/plain": [
       "4"
      ]
     },
     "execution_count": 111,
     "metadata": {},
     "output_type": "execute_result"
    }
   ],
   "source": [
    "data['subject'].nunique()"
   ]
  },
  {
   "cell_type": "code",
   "execution_count": 112,
   "metadata": {},
   "outputs": [
    {
     "data": {
      "text/plain": [
       "array(['Business Finance', 'Graphic Design', 'Musical Instruments',\n",
       "       'Web Development'], dtype=object)"
      ]
     },
     "execution_count": 112,
     "metadata": {},
     "output_type": "execute_result"
    }
   ],
   "source": [
    "data['subject'].unique()"
   ]
  },
  {
   "cell_type": "markdown",
   "metadata": {},
   "source": [
    "## null values in dataset"
   ]
  },
  {
   "cell_type": "code",
   "execution_count": 113,
   "metadata": {},
   "outputs": [
    {
     "data": {
      "text/html": [
       "<div>\n",
       "<style scoped>\n",
       "    .dataframe tbody tr th:only-of-type {\n",
       "        vertical-align: middle;\n",
       "    }\n",
       "\n",
       "    .dataframe tbody tr th {\n",
       "        vertical-align: top;\n",
       "    }\n",
       "\n",
       "    .dataframe thead th {\n",
       "        text-align: right;\n",
       "    }\n",
       "</style>\n",
       "<table border=\"1\" class=\"dataframe\">\n",
       "  <thead>\n",
       "    <tr style=\"text-align: right;\">\n",
       "      <th></th>\n",
       "      <th>course_id</th>\n",
       "      <th>course_title</th>\n",
       "      <th>url</th>\n",
       "      <th>is_paid</th>\n",
       "      <th>price</th>\n",
       "      <th>num_subscribers</th>\n",
       "      <th>num_reviews</th>\n",
       "      <th>num_lectures</th>\n",
       "      <th>level</th>\n",
       "      <th>content_duration</th>\n",
       "      <th>published_timestamp</th>\n",
       "      <th>subject</th>\n",
       "    </tr>\n",
       "  </thead>\n",
       "  <tbody>\n",
       "    <tr>\n",
       "      <th>0</th>\n",
       "      <td>False</td>\n",
       "      <td>False</td>\n",
       "      <td>True</td>\n",
       "      <td>False</td>\n",
       "      <td>False</td>\n",
       "      <td>False</td>\n",
       "      <td>False</td>\n",
       "      <td>False</td>\n",
       "      <td>False</td>\n",
       "      <td>False</td>\n",
       "      <td>False</td>\n",
       "      <td>False</td>\n",
       "    </tr>\n",
       "    <tr>\n",
       "      <th>1</th>\n",
       "      <td>False</td>\n",
       "      <td>False</td>\n",
       "      <td>False</td>\n",
       "      <td>False</td>\n",
       "      <td>True</td>\n",
       "      <td>False</td>\n",
       "      <td>False</td>\n",
       "      <td>False</td>\n",
       "      <td>False</td>\n",
       "      <td>False</td>\n",
       "      <td>False</td>\n",
       "      <td>False</td>\n",
       "    </tr>\n",
       "    <tr>\n",
       "      <th>2</th>\n",
       "      <td>False</td>\n",
       "      <td>False</td>\n",
       "      <td>False</td>\n",
       "      <td>False</td>\n",
       "      <td>False</td>\n",
       "      <td>False</td>\n",
       "      <td>False</td>\n",
       "      <td>False</td>\n",
       "      <td>False</td>\n",
       "      <td>False</td>\n",
       "      <td>True</td>\n",
       "      <td>False</td>\n",
       "    </tr>\n",
       "    <tr>\n",
       "      <th>3</th>\n",
       "      <td>False</td>\n",
       "      <td>False</td>\n",
       "      <td>True</td>\n",
       "      <td>False</td>\n",
       "      <td>False</td>\n",
       "      <td>False</td>\n",
       "      <td>False</td>\n",
       "      <td>False</td>\n",
       "      <td>False</td>\n",
       "      <td>False</td>\n",
       "      <td>False</td>\n",
       "      <td>False</td>\n",
       "    </tr>\n",
       "    <tr>\n",
       "      <th>4</th>\n",
       "      <td>False</td>\n",
       "      <td>False</td>\n",
       "      <td>False</td>\n",
       "      <td>False</td>\n",
       "      <td>False</td>\n",
       "      <td>False</td>\n",
       "      <td>False</td>\n",
       "      <td>False</td>\n",
       "      <td>False</td>\n",
       "      <td>False</td>\n",
       "      <td>False</td>\n",
       "      <td>False</td>\n",
       "    </tr>\n",
       "    <tr>\n",
       "      <th>...</th>\n",
       "      <td>...</td>\n",
       "      <td>...</td>\n",
       "      <td>...</td>\n",
       "      <td>...</td>\n",
       "      <td>...</td>\n",
       "      <td>...</td>\n",
       "      <td>...</td>\n",
       "      <td>...</td>\n",
       "      <td>...</td>\n",
       "      <td>...</td>\n",
       "      <td>...</td>\n",
       "      <td>...</td>\n",
       "    </tr>\n",
       "    <tr>\n",
       "      <th>3673</th>\n",
       "      <td>False</td>\n",
       "      <td>False</td>\n",
       "      <td>False</td>\n",
       "      <td>False</td>\n",
       "      <td>False</td>\n",
       "      <td>False</td>\n",
       "      <td>False</td>\n",
       "      <td>False</td>\n",
       "      <td>False</td>\n",
       "      <td>False</td>\n",
       "      <td>False</td>\n",
       "      <td>False</td>\n",
       "    </tr>\n",
       "    <tr>\n",
       "      <th>3674</th>\n",
       "      <td>False</td>\n",
       "      <td>False</td>\n",
       "      <td>False</td>\n",
       "      <td>False</td>\n",
       "      <td>False</td>\n",
       "      <td>False</td>\n",
       "      <td>False</td>\n",
       "      <td>False</td>\n",
       "      <td>False</td>\n",
       "      <td>False</td>\n",
       "      <td>False</td>\n",
       "      <td>False</td>\n",
       "    </tr>\n",
       "    <tr>\n",
       "      <th>3675</th>\n",
       "      <td>False</td>\n",
       "      <td>False</td>\n",
       "      <td>False</td>\n",
       "      <td>False</td>\n",
       "      <td>False</td>\n",
       "      <td>False</td>\n",
       "      <td>False</td>\n",
       "      <td>False</td>\n",
       "      <td>False</td>\n",
       "      <td>False</td>\n",
       "      <td>False</td>\n",
       "      <td>False</td>\n",
       "    </tr>\n",
       "    <tr>\n",
       "      <th>3676</th>\n",
       "      <td>False</td>\n",
       "      <td>False</td>\n",
       "      <td>False</td>\n",
       "      <td>False</td>\n",
       "      <td>False</td>\n",
       "      <td>False</td>\n",
       "      <td>False</td>\n",
       "      <td>False</td>\n",
       "      <td>False</td>\n",
       "      <td>False</td>\n",
       "      <td>False</td>\n",
       "      <td>False</td>\n",
       "    </tr>\n",
       "    <tr>\n",
       "      <th>3677</th>\n",
       "      <td>False</td>\n",
       "      <td>False</td>\n",
       "      <td>False</td>\n",
       "      <td>False</td>\n",
       "      <td>False</td>\n",
       "      <td>False</td>\n",
       "      <td>False</td>\n",
       "      <td>False</td>\n",
       "      <td>False</td>\n",
       "      <td>False</td>\n",
       "      <td>False</td>\n",
       "      <td>False</td>\n",
       "    </tr>\n",
       "  </tbody>\n",
       "</table>\n",
       "<p>3678 rows × 12 columns</p>\n",
       "</div>"
      ],
      "text/plain": [
       "      course_id  course_title    url  is_paid  price  num_subscribers  \\\n",
       "0         False         False   True    False  False            False   \n",
       "1         False         False  False    False   True            False   \n",
       "2         False         False  False    False  False            False   \n",
       "3         False         False   True    False  False            False   \n",
       "4         False         False  False    False  False            False   \n",
       "...         ...           ...    ...      ...    ...              ...   \n",
       "3673      False         False  False    False  False            False   \n",
       "3674      False         False  False    False  False            False   \n",
       "3675      False         False  False    False  False            False   \n",
       "3676      False         False  False    False  False            False   \n",
       "3677      False         False  False    False  False            False   \n",
       "\n",
       "      num_reviews  num_lectures  level  content_duration  published_timestamp  \\\n",
       "0           False         False  False             False                False   \n",
       "1           False         False  False             False                False   \n",
       "2           False         False  False             False                 True   \n",
       "3           False         False  False             False                False   \n",
       "4           False         False  False             False                False   \n",
       "...           ...           ...    ...               ...                  ...   \n",
       "3673        False         False  False             False                False   \n",
       "3674        False         False  False             False                False   \n",
       "3675        False         False  False             False                False   \n",
       "3676        False         False  False             False                False   \n",
       "3677        False         False  False             False                False   \n",
       "\n",
       "      subject  \n",
       "0       False  \n",
       "1       False  \n",
       "2       False  \n",
       "3       False  \n",
       "4       False  \n",
       "...       ...  \n",
       "3673    False  \n",
       "3674    False  \n",
       "3675    False  \n",
       "3676    False  \n",
       "3677    False  \n",
       "\n",
       "[3678 rows x 12 columns]"
      ]
     },
     "execution_count": 113,
     "metadata": {},
     "output_type": "execute_result"
    }
   ],
   "source": [
    "data.isnull()"
   ]
  },
  {
   "cell_type": "markdown",
   "metadata": {},
   "source": [
    "## null values sum"
   ]
  },
  {
   "cell_type": "code",
   "execution_count": 114,
   "metadata": {},
   "outputs": [
    {
     "data": {
      "text/plain": [
       "course_id              0\n",
       "course_title           0\n",
       "url                    2\n",
       "is_paid                0\n",
       "price                  1\n",
       "num_subscribers        0\n",
       "num_reviews            0\n",
       "num_lectures           0\n",
       "level                  0\n",
       "content_duration       0\n",
       "published_timestamp    1\n",
       "subject                0\n",
       "dtype: int64"
      ]
     },
     "execution_count": 114,
     "metadata": {},
     "output_type": "execute_result"
    }
   ],
   "source": [
    "data.isnull().sum()"
   ]
  },
  {
   "cell_type": "code",
   "execution_count": 115,
   "metadata": {},
   "outputs": [
    {
     "data": {
      "text/html": [
       "<div>\n",
       "<style scoped>\n",
       "    .dataframe tbody tr th:only-of-type {\n",
       "        vertical-align: middle;\n",
       "    }\n",
       "\n",
       "    .dataframe tbody tr th {\n",
       "        vertical-align: top;\n",
       "    }\n",
       "\n",
       "    .dataframe thead th {\n",
       "        text-align: right;\n",
       "    }\n",
       "</style>\n",
       "<table border=\"1\" class=\"dataframe\">\n",
       "  <thead>\n",
       "    <tr style=\"text-align: right;\">\n",
       "      <th></th>\n",
       "      <th>course_id</th>\n",
       "      <th>course_title</th>\n",
       "      <th>url</th>\n",
       "      <th>is_paid</th>\n",
       "      <th>price</th>\n",
       "      <th>num_subscribers</th>\n",
       "      <th>num_reviews</th>\n",
       "      <th>num_lectures</th>\n",
       "      <th>level</th>\n",
       "      <th>content_duration</th>\n",
       "      <th>published_timestamp</th>\n",
       "      <th>subject</th>\n",
       "    </tr>\n",
       "  </thead>\n",
       "  <tbody>\n",
       "    <tr>\n",
       "      <th>0</th>\n",
       "      <td>1070968</td>\n",
       "      <td>Ultimate Investment Banking Course</td>\n",
       "      <td>NaN</td>\n",
       "      <td>True</td>\n",
       "      <td>200.0</td>\n",
       "      <td>2147</td>\n",
       "      <td>23</td>\n",
       "      <td>51</td>\n",
       "      <td>All Levels</td>\n",
       "      <td>1.5</td>\n",
       "      <td>2017-01-18T20:58:58Z</td>\n",
       "      <td>Business Finance</td>\n",
       "    </tr>\n",
       "    <tr>\n",
       "      <th>1</th>\n",
       "      <td>1113822</td>\n",
       "      <td>Complete GST Course &amp; Certification - Grow You...</td>\n",
       "      <td>https://www.udemy.com/goods-and-services-tax/</td>\n",
       "      <td>True</td>\n",
       "      <td>NaN</td>\n",
       "      <td>2792</td>\n",
       "      <td>923</td>\n",
       "      <td>274</td>\n",
       "      <td>All Levels</td>\n",
       "      <td>39.0</td>\n",
       "      <td>2017-03-09T16:34:20Z</td>\n",
       "      <td>Business Finance</td>\n",
       "    </tr>\n",
       "    <tr>\n",
       "      <th>2</th>\n",
       "      <td>1006314</td>\n",
       "      <td>Financial Modeling for Business Analysts and C...</td>\n",
       "      <td>https://www.udemy.com/financial-modeling-for-b...</td>\n",
       "      <td>True</td>\n",
       "      <td>45.0</td>\n",
       "      <td>2174</td>\n",
       "      <td>74</td>\n",
       "      <td>51</td>\n",
       "      <td>Intermediate Level</td>\n",
       "      <td>2.5</td>\n",
       "      <td>NaN</td>\n",
       "      <td>Business Finance</td>\n",
       "    </tr>\n",
       "    <tr>\n",
       "      <th>3</th>\n",
       "      <td>1210588</td>\n",
       "      <td>Beginner to Pro - Financial Analysis in Excel ...</td>\n",
       "      <td>NaN</td>\n",
       "      <td>True</td>\n",
       "      <td>95.0</td>\n",
       "      <td>2451</td>\n",
       "      <td>11</td>\n",
       "      <td>36</td>\n",
       "      <td>All Levels</td>\n",
       "      <td>3.0</td>\n",
       "      <td>2017-05-30T20:07:24Z</td>\n",
       "      <td>Business Finance</td>\n",
       "    </tr>\n",
       "    <tr>\n",
       "      <th>4</th>\n",
       "      <td>1011058</td>\n",
       "      <td>How To Maximize Your Profits Trading Options</td>\n",
       "      <td>https://www.udemy.com/how-to-maximize-your-pro...</td>\n",
       "      <td>True</td>\n",
       "      <td>200.0</td>\n",
       "      <td>1276</td>\n",
       "      <td>45</td>\n",
       "      <td>26</td>\n",
       "      <td>Intermediate Level</td>\n",
       "      <td>2.0</td>\n",
       "      <td>2016-12-13T14:57:18Z</td>\n",
       "      <td>Business Finance</td>\n",
       "    </tr>\n",
       "    <tr>\n",
       "      <th>5</th>\n",
       "      <td>192870</td>\n",
       "      <td>Trading Penny Stocks: A Guide for All Levels I...</td>\n",
       "      <td>https://www.udemy.com/trading-penny-stocks-a-g...</td>\n",
       "      <td>True</td>\n",
       "      <td>150.0</td>\n",
       "      <td>9221</td>\n",
       "      <td>138</td>\n",
       "      <td>25</td>\n",
       "      <td>All Levels</td>\n",
       "      <td>3.0</td>\n",
       "      <td>2014-05-02T15:13:30Z</td>\n",
       "      <td>Business Finance</td>\n",
       "    </tr>\n",
       "    <tr>\n",
       "      <th>6</th>\n",
       "      <td>739964</td>\n",
       "      <td>Investing And Trading For Beginners: Mastering...</td>\n",
       "      <td>https://www.udemy.com/investing-and-trading-fo...</td>\n",
       "      <td>True</td>\n",
       "      <td>65.0</td>\n",
       "      <td>1540</td>\n",
       "      <td>178</td>\n",
       "      <td>26</td>\n",
       "      <td>Beginner Level</td>\n",
       "      <td>1.0</td>\n",
       "      <td>2016-02-21T18:23:12Z</td>\n",
       "      <td>Business Finance</td>\n",
       "    </tr>\n",
       "  </tbody>\n",
       "</table>\n",
       "</div>"
      ],
      "text/plain": [
       "   course_id                                       course_title  \\\n",
       "0    1070968                 Ultimate Investment Banking Course   \n",
       "1    1113822  Complete GST Course & Certification - Grow You...   \n",
       "2    1006314  Financial Modeling for Business Analysts and C...   \n",
       "3    1210588  Beginner to Pro - Financial Analysis in Excel ...   \n",
       "4    1011058       How To Maximize Your Profits Trading Options   \n",
       "5     192870  Trading Penny Stocks: A Guide for All Levels I...   \n",
       "6     739964  Investing And Trading For Beginners: Mastering...   \n",
       "\n",
       "                                                 url  is_paid  price  \\\n",
       "0                                                NaN     True  200.0   \n",
       "1      https://www.udemy.com/goods-and-services-tax/     True    NaN   \n",
       "2  https://www.udemy.com/financial-modeling-for-b...     True   45.0   \n",
       "3                                                NaN     True   95.0   \n",
       "4  https://www.udemy.com/how-to-maximize-your-pro...     True  200.0   \n",
       "5  https://www.udemy.com/trading-penny-stocks-a-g...     True  150.0   \n",
       "6  https://www.udemy.com/investing-and-trading-fo...     True   65.0   \n",
       "\n",
       "   num_subscribers  num_reviews  num_lectures               level  \\\n",
       "0             2147           23            51          All Levels   \n",
       "1             2792          923           274          All Levels   \n",
       "2             2174           74            51  Intermediate Level   \n",
       "3             2451           11            36          All Levels   \n",
       "4             1276           45            26  Intermediate Level   \n",
       "5             9221          138            25          All Levels   \n",
       "6             1540          178            26      Beginner Level   \n",
       "\n",
       "   content_duration   published_timestamp           subject  \n",
       "0               1.5  2017-01-18T20:58:58Z  Business Finance  \n",
       "1              39.0  2017-03-09T16:34:20Z  Business Finance  \n",
       "2               2.5                   NaN  Business Finance  \n",
       "3               3.0  2017-05-30T20:07:24Z  Business Finance  \n",
       "4               2.0  2016-12-13T14:57:18Z  Business Finance  \n",
       "5               3.0  2014-05-02T15:13:30Z  Business Finance  \n",
       "6               1.0  2016-02-21T18:23:12Z  Business Finance  "
      ]
     },
     "execution_count": 115,
     "metadata": {},
     "output_type": "execute_result"
    }
   ],
   "source": [
    "data.head(7)"
   ]
  },
  {
   "cell_type": "markdown",
   "metadata": {},
   "source": [
    "# drop null values"
   ]
  },
  {
   "cell_type": "code",
   "execution_count": 116,
   "metadata": {},
   "outputs": [
    {
     "data": {
      "text/html": [
       "<div>\n",
       "<style scoped>\n",
       "    .dataframe tbody tr th:only-of-type {\n",
       "        vertical-align: middle;\n",
       "    }\n",
       "\n",
       "    .dataframe tbody tr th {\n",
       "        vertical-align: top;\n",
       "    }\n",
       "\n",
       "    .dataframe thead th {\n",
       "        text-align: right;\n",
       "    }\n",
       "</style>\n",
       "<table border=\"1\" class=\"dataframe\">\n",
       "  <thead>\n",
       "    <tr style=\"text-align: right;\">\n",
       "      <th></th>\n",
       "      <th>course_id</th>\n",
       "      <th>course_title</th>\n",
       "      <th>url</th>\n",
       "      <th>is_paid</th>\n",
       "      <th>price</th>\n",
       "      <th>num_subscribers</th>\n",
       "      <th>num_reviews</th>\n",
       "      <th>num_lectures</th>\n",
       "      <th>level</th>\n",
       "      <th>content_duration</th>\n",
       "      <th>published_timestamp</th>\n",
       "      <th>subject</th>\n",
       "    </tr>\n",
       "  </thead>\n",
       "  <tbody>\n",
       "    <tr>\n",
       "      <th>4</th>\n",
       "      <td>1011058</td>\n",
       "      <td>How To Maximize Your Profits Trading Options</td>\n",
       "      <td>https://www.udemy.com/how-to-maximize-your-pro...</td>\n",
       "      <td>True</td>\n",
       "      <td>200.0</td>\n",
       "      <td>1276</td>\n",
       "      <td>45</td>\n",
       "      <td>26</td>\n",
       "      <td>Intermediate Level</td>\n",
       "      <td>2.0</td>\n",
       "      <td>2016-12-13T14:57:18Z</td>\n",
       "      <td>Business Finance</td>\n",
       "    </tr>\n",
       "    <tr>\n",
       "      <th>5</th>\n",
       "      <td>192870</td>\n",
       "      <td>Trading Penny Stocks: A Guide for All Levels I...</td>\n",
       "      <td>https://www.udemy.com/trading-penny-stocks-a-g...</td>\n",
       "      <td>True</td>\n",
       "      <td>150.0</td>\n",
       "      <td>9221</td>\n",
       "      <td>138</td>\n",
       "      <td>25</td>\n",
       "      <td>All Levels</td>\n",
       "      <td>3.0</td>\n",
       "      <td>2014-05-02T15:13:30Z</td>\n",
       "      <td>Business Finance</td>\n",
       "    </tr>\n",
       "    <tr>\n",
       "      <th>6</th>\n",
       "      <td>739964</td>\n",
       "      <td>Investing And Trading For Beginners: Mastering...</td>\n",
       "      <td>https://www.udemy.com/investing-and-trading-fo...</td>\n",
       "      <td>True</td>\n",
       "      <td>65.0</td>\n",
       "      <td>1540</td>\n",
       "      <td>178</td>\n",
       "      <td>26</td>\n",
       "      <td>Beginner Level</td>\n",
       "      <td>1.0</td>\n",
       "      <td>2016-02-21T18:23:12Z</td>\n",
       "      <td>Business Finance</td>\n",
       "    </tr>\n",
       "    <tr>\n",
       "      <th>7</th>\n",
       "      <td>403100</td>\n",
       "      <td>Trading Stock Chart Patterns For Immediate, Ex...</td>\n",
       "      <td>https://www.udemy.com/trading-chart-patterns-f...</td>\n",
       "      <td>True</td>\n",
       "      <td>95.0</td>\n",
       "      <td>2917</td>\n",
       "      <td>148</td>\n",
       "      <td>23</td>\n",
       "      <td>All Levels</td>\n",
       "      <td>2.5</td>\n",
       "      <td>2015-01-30T22:13:03Z</td>\n",
       "      <td>Business Finance</td>\n",
       "    </tr>\n",
       "    <tr>\n",
       "      <th>8</th>\n",
       "      <td>476268</td>\n",
       "      <td>Options Trading 3 : Advanced Stock Profit and ...</td>\n",
       "      <td>https://www.udemy.com/day-trading-stock-option...</td>\n",
       "      <td>True</td>\n",
       "      <td>195.0</td>\n",
       "      <td>5172</td>\n",
       "      <td>34</td>\n",
       "      <td>38</td>\n",
       "      <td>Expert Level</td>\n",
       "      <td>2.5</td>\n",
       "      <td>2015-05-28T00:14:03Z</td>\n",
       "      <td>Business Finance</td>\n",
       "    </tr>\n",
       "    <tr>\n",
       "      <th>9</th>\n",
       "      <td>1167710</td>\n",
       "      <td>The Only Investment Strategy You Need For Your...</td>\n",
       "      <td>https://www.udemy.com/the-only-investment-stra...</td>\n",
       "      <td>True</td>\n",
       "      <td>200.0</td>\n",
       "      <td>827</td>\n",
       "      <td>14</td>\n",
       "      <td>15</td>\n",
       "      <td>All Levels</td>\n",
       "      <td>1.0</td>\n",
       "      <td>2017-04-18T18:13:32Z</td>\n",
       "      <td>Business Finance</td>\n",
       "    </tr>\n",
       "    <tr>\n",
       "      <th>10</th>\n",
       "      <td>592338</td>\n",
       "      <td>Forex Trading Secrets of the Pros With Amazon'...</td>\n",
       "      <td>https://www.udemy.com/trading-with-amazons-aws...</td>\n",
       "      <td>True</td>\n",
       "      <td>200.0</td>\n",
       "      <td>4284</td>\n",
       "      <td>93</td>\n",
       "      <td>76</td>\n",
       "      <td>All Levels</td>\n",
       "      <td>5.0</td>\n",
       "      <td>2015-09-11T16:47:02Z</td>\n",
       "      <td>Business Finance</td>\n",
       "    </tr>\n",
       "  </tbody>\n",
       "</table>\n",
       "</div>"
      ],
      "text/plain": [
       "    course_id                                       course_title  \\\n",
       "4     1011058       How To Maximize Your Profits Trading Options   \n",
       "5      192870  Trading Penny Stocks: A Guide for All Levels I...   \n",
       "6      739964  Investing And Trading For Beginners: Mastering...   \n",
       "7      403100  Trading Stock Chart Patterns For Immediate, Ex...   \n",
       "8      476268  Options Trading 3 : Advanced Stock Profit and ...   \n",
       "9     1167710  The Only Investment Strategy You Need For Your...   \n",
       "10     592338  Forex Trading Secrets of the Pros With Amazon'...   \n",
       "\n",
       "                                                  url  is_paid  price  \\\n",
       "4   https://www.udemy.com/how-to-maximize-your-pro...     True  200.0   \n",
       "5   https://www.udemy.com/trading-penny-stocks-a-g...     True  150.0   \n",
       "6   https://www.udemy.com/investing-and-trading-fo...     True   65.0   \n",
       "7   https://www.udemy.com/trading-chart-patterns-f...     True   95.0   \n",
       "8   https://www.udemy.com/day-trading-stock-option...     True  195.0   \n",
       "9   https://www.udemy.com/the-only-investment-stra...     True  200.0   \n",
       "10  https://www.udemy.com/trading-with-amazons-aws...     True  200.0   \n",
       "\n",
       "    num_subscribers  num_reviews  num_lectures               level  \\\n",
       "4              1276           45            26  Intermediate Level   \n",
       "5              9221          138            25          All Levels   \n",
       "6              1540          178            26      Beginner Level   \n",
       "7              2917          148            23          All Levels   \n",
       "8              5172           34            38        Expert Level   \n",
       "9               827           14            15          All Levels   \n",
       "10             4284           93            76          All Levels   \n",
       "\n",
       "    content_duration   published_timestamp           subject  \n",
       "4                2.0  2016-12-13T14:57:18Z  Business Finance  \n",
       "5                3.0  2014-05-02T15:13:30Z  Business Finance  \n",
       "6                1.0  2016-02-21T18:23:12Z  Business Finance  \n",
       "7                2.5  2015-01-30T22:13:03Z  Business Finance  \n",
       "8                2.5  2015-05-28T00:14:03Z  Business Finance  \n",
       "9                1.0  2017-04-18T18:13:32Z  Business Finance  \n",
       "10               5.0  2015-09-11T16:47:02Z  Business Finance  "
      ]
     },
     "execution_count": 116,
     "metadata": {},
     "output_type": "execute_result"
    }
   ],
   "source": [
    "data2=data.dropna()\n",
    "data2.head(7)"
   ]
  },
  {
   "cell_type": "code",
   "execution_count": 117,
   "metadata": {},
   "outputs": [
    {
     "data": {
      "text/plain": [
       "course_id              0\n",
       "course_title           0\n",
       "url                    0\n",
       "is_paid                0\n",
       "price                  0\n",
       "num_subscribers        0\n",
       "num_reviews            0\n",
       "num_lectures           0\n",
       "level                  0\n",
       "content_duration       0\n",
       "published_timestamp    0\n",
       "subject                0\n",
       "dtype: int64"
      ]
     },
     "execution_count": 117,
     "metadata": {},
     "output_type": "execute_result"
    }
   ],
   "source": [
    "data2.isnull().sum()"
   ]
  },
  {
   "cell_type": "markdown",
   "metadata": {},
   "source": [
    "## Data visualization"
   ]
  },
  {
   "cell_type": "markdown",
   "metadata": {},
   "source": [
    "## outliers"
   ]
  },
  {
   "cell_type": "markdown",
   "metadata": {},
   "source": [
    "### Number of lectures"
   ]
  },
  {
   "cell_type": "code",
   "execution_count": 118,
   "metadata": {
    "scrolled": true
   },
   "outputs": [
    {
     "data": {
      "text/plain": [
       "<matplotlib.axes._subplots.AxesSubplot at 0x2aef6439d00>"
      ]
     },
     "execution_count": 118,
     "metadata": {},
     "output_type": "execute_result"
    },
    {
     "data": {
      "image/png": "[encoded data removed]",
      "text/plain": [
       "<Figure size 432x288 with 1 Axes>"
      ]
     },
     "metadata": {},
     "output_type": "display_data"
    }
   ],
   "source": [
    "sns.boxplot(x=data2['num_lectures'])"
   ]
  },
  {
   "cell_type": "code",
   "execution_count": 119,
   "metadata": {},
   "outputs": [
    {
     "data": {
      "text/plain": [
       "count    3674.000000\n",
       "mean       40.040283\n",
       "std        50.262096\n",
       "min         0.000000\n",
       "25%        15.000000\n",
       "50%        25.000000\n",
       "75%        45.000000\n",
       "max       779.000000\n",
       "Name: num_lectures, dtype: float64"
      ]
     },
     "execution_count": 119,
     "metadata": {},
     "output_type": "execute_result"
    }
   ],
   "source": [
    "data2['num_lectures'].describe()"
   ]
  },
  {
   "cell_type": "markdown",
   "metadata": {},
   "source": [
    "### Price"
   ]
  },
  {
   "cell_type": "code",
   "execution_count": 120,
   "metadata": {},
   "outputs": [
    {
     "data": {
      "text/plain": [
       "<matplotlib.axes._subplots.AxesSubplot at 0x2aef65016d0>"
      ]
     },
     "execution_count": 120,
     "metadata": {},
     "output_type": "execute_result"
    },
    {
     "data": {
      "image/png": "[encoded data removed]",
      "text/plain": [
       "<Figure size 432x288 with 1 Axes>"
      ]
     },
     "metadata": {},
     "output_type": "display_data"
    }
   ],
   "source": [
    "sns.boxplot(x=data2['price'])"
   ]
  },
  {
   "cell_type": "code",
   "execution_count": 121,
   "metadata": {},
   "outputs": [
    {
     "data": {
      "text/plain": [
       "count    3674.000000\n",
       "mean       66.008438\n",
       "std        60.995884\n",
       "min         0.000000\n",
       "25%        20.000000\n",
       "50%        45.000000\n",
       "75%        95.000000\n",
       "max       200.000000\n",
       "Name: price, dtype: float64"
      ]
     },
     "execution_count": 121,
     "metadata": {},
     "output_type": "execute_result"
    }
   ],
   "source": [
    "data2['price'].describe()"
   ]
  },
  {
   "cell_type": "markdown",
   "metadata": {},
   "source": [
    "### number of subscribers"
   ]
  },
  {
   "cell_type": "code",
   "execution_count": 122,
   "metadata": {},
   "outputs": [
    {
     "data": {
      "text/plain": [
       "<matplotlib.axes._subplots.AxesSubplot at 0x2aef6531a00>"
      ]
     },
     "execution_count": 122,
     "metadata": {},
     "output_type": "execute_result"
    },
    {
     "data": {
      "image/png": "[encoded data removed]",
      "text/plain": [
       "<Figure size 432x288 with 1 Axes>"
      ]
     },
     "metadata": {},
     "output_type": "display_data"
    }
   ],
   "source": [
    "sns.boxplot(x=data2['num_subscribers'])"
   ]
  },
  {
   "cell_type": "code",
   "execution_count": 123,
   "metadata": {},
   "outputs": [
    {
     "data": {
      "text/plain": [
       "count      3674.000000\n",
       "mean       3198.028307\n",
       "std        9509.249594\n",
       "min           0.000000\n",
       "25%         110.250000\n",
       "50%         906.000000\n",
       "75%        2546.000000\n",
       "max      268923.000000\n",
       "Name: num_subscribers, dtype: float64"
      ]
     },
     "execution_count": 123,
     "metadata": {},
     "output_type": "execute_result"
    }
   ],
   "source": [
    "data2['num_subscribers'].describe()"
   ]
  },
  {
   "cell_type": "markdown",
   "metadata": {},
   "source": [
    "### number of reviews"
   ]
  },
  {
   "cell_type": "code",
   "execution_count": 124,
   "metadata": {},
   "outputs": [
    {
     "data": {
      "text/plain": [
       "<matplotlib.axes._subplots.AxesSubplot at 0x2aef659fdc0>"
      ]
     },
     "execution_count": 124,
     "metadata": {},
     "output_type": "execute_result"
    },
    {
     "data": {
      "image/png": "[encoded data removed]",
      "text/plain": [
       "<Figure size 432x288 with 1 Axes>"
      ]
     },
     "metadata": {},
     "output_type": "display_data"
    }
   ],
   "source": [
    "sns.boxplot(x=data2['num_reviews'])"
   ]
  },
  {
   "cell_type": "code",
   "execution_count": 125,
   "metadata": {},
   "outputs": [
    {
     "data": {
      "text/plain": [
       "count     3674.000000\n",
       "mean       156.148612\n",
       "std        935.869121\n",
       "min          0.000000\n",
       "25%          4.000000\n",
       "50%         18.000000\n",
       "75%         67.000000\n",
       "max      27445.000000\n",
       "Name: num_reviews, dtype: float64"
      ]
     },
     "execution_count": 125,
     "metadata": {},
     "output_type": "execute_result"
    }
   ],
   "source": [
    "data2['num_reviews'].describe()"
   ]
  },
  {
   "cell_type": "markdown",
   "metadata": {},
   "source": [
    "### content duration"
   ]
  },
  {
   "cell_type": "code",
   "execution_count": 126,
   "metadata": {},
   "outputs": [
    {
     "data": {
      "text/plain": [
       "<matplotlib.axes._subplots.AxesSubplot at 0x2aef76d8190>"
      ]
     },
     "execution_count": 126,
     "metadata": {},
     "output_type": "execute_result"
    },
    {
     "data": {
      "image/png": "[encoded data removed]",
      "text/plain": [
       "<Figure size 432x288 with 1 Axes>"
      ]
     },
     "metadata": {},
     "output_type": "display_data"
    }
   ],
   "source": [
    "sns.boxplot(x=data2['content_duration'])"
   ]
  },
  {
   "cell_type": "code",
   "execution_count": 127,
   "metadata": {},
   "outputs": [
    {
     "data": {
      "text/plain": [
       "count    3674.000000\n",
       "mean        4.086454\n",
       "std         6.029450\n",
       "min         0.000000\n",
       "25%         1.000000\n",
       "50%         2.000000\n",
       "75%         4.500000\n",
       "max        78.500000\n",
       "Name: content_duration, dtype: float64"
      ]
     },
     "execution_count": 127,
     "metadata": {},
     "output_type": "execute_result"
    }
   ],
   "source": [
    "data2['content_duration'].describe()"
   ]
  },
  {
   "cell_type": "markdown",
   "metadata": {},
   "source": [
    "### 25th and 75th percentile"
   ]
  },
  {
   "cell_type": "markdown",
   "metadata": {},
   "source": [
    "### number of lectures"
   ]
  },
  {
   "cell_type": "code",
   "execution_count": 128,
   "metadata": {},
   "outputs": [
    {
     "data": {
      "text/plain": [
       "(15.0, 45.0)"
      ]
     },
     "execution_count": 128,
     "metadata": {},
     "output_type": "execute_result"
    }
   ],
   "source": [
    "Q1=data2.num_lectures.quantile(0.25)\n",
    "Q3=data2.num_lectures.quantile(0.75)\n",
    "Q1,Q3"
   ]
  },
  {
   "cell_type": "markdown",
   "metadata": {},
   "source": [
    "### Interquartile range"
   ]
  },
  {
   "cell_type": "code",
   "execution_count": 129,
   "metadata": {},
   "outputs": [
    {
     "data": {
      "text/plain": [
       "30.0"
      ]
     },
     "execution_count": 129,
     "metadata": {},
     "output_type": "execute_result"
    }
   ],
   "source": [
    "IQR=Q3-Q1\n",
    "IQR"
   ]
  },
  {
   "cell_type": "markdown",
   "metadata": {},
   "source": [
    "### lower and upper limits"
   ]
  },
  {
   "cell_type": "code",
   "execution_count": 130,
   "metadata": {},
   "outputs": [
    {
     "data": {
      "text/plain": [
       "(-30.0, 90.0)"
      ]
     },
     "execution_count": 130,
     "metadata": {},
     "output_type": "execute_result"
    }
   ],
   "source": [
    "lower_limit=Q1-1.5*IQR\n",
    "upper_limit=Q3+1.5*IQR\n",
    "lower_limit,upper_limit"
   ]
  },
  {
   "cell_type": "markdown",
   "metadata": {},
   "source": [
    "### Dataset where number of lectures are not within the limits"
   ]
  },
  {
   "cell_type": "code",
   "execution_count": 131,
   "metadata": {},
   "outputs": [
    {
     "data": {
      "text/html": [
       "<div>\n",
       "<style scoped>\n",
       "    .dataframe tbody tr th:only-of-type {\n",
       "        vertical-align: middle;\n",
       "    }\n",
       "\n",
       "    .dataframe tbody tr th {\n",
       "        vertical-align: top;\n",
       "    }\n",
       "\n",
       "    .dataframe thead th {\n",
       "        text-align: right;\n",
       "    }\n",
       "</style>\n",
       "<table border=\"1\" class=\"dataframe\">\n",
       "  <thead>\n",
       "    <tr style=\"text-align: right;\">\n",
       "      <th></th>\n",
       "      <th>course_id</th>\n",
       "      <th>course_title</th>\n",
       "      <th>url</th>\n",
       "      <th>is_paid</th>\n",
       "      <th>price</th>\n",
       "      <th>num_subscribers</th>\n",
       "      <th>num_reviews</th>\n",
       "      <th>num_lectures</th>\n",
       "      <th>level</th>\n",
       "      <th>content_duration</th>\n",
       "      <th>published_timestamp</th>\n",
       "      <th>subject</th>\n",
       "    </tr>\n",
       "  </thead>\n",
       "  <tbody>\n",
       "    <tr>\n",
       "      <th>38</th>\n",
       "      <td>321410</td>\n",
       "      <td>Beginner to Pro in Excel: Financial Modeling a...</td>\n",
       "      <td>https://www.udemy.com/beginner-to-pro-in-excel...</td>\n",
       "      <td>True</td>\n",
       "      <td>195.0</td>\n",
       "      <td>22257</td>\n",
       "      <td>2697</td>\n",
       "      <td>138</td>\n",
       "      <td>All Levels</td>\n",
       "      <td>7.5</td>\n",
       "      <td>2014-11-25T23:00:40Z</td>\n",
       "      <td>Business Finance</td>\n",
       "    </tr>\n",
       "    <tr>\n",
       "      <th>39</th>\n",
       "      <td>965832</td>\n",
       "      <td>The Complete Investment Banking Course 2017</td>\n",
       "      <td>https://www.udemy.com/the-complete-investment-...</td>\n",
       "      <td>True</td>\n",
       "      <td>195.0</td>\n",
       "      <td>8575</td>\n",
       "      <td>809</td>\n",
       "      <td>110</td>\n",
       "      <td>All Levels</td>\n",
       "      <td>5.5</td>\n",
       "      <td>2016-10-10T16:16:26Z</td>\n",
       "      <td>Business Finance</td>\n",
       "    </tr>\n",
       "    <tr>\n",
       "      <th>40</th>\n",
       "      <td>648826</td>\n",
       "      <td>The Complete Financial Analyst Course 2017</td>\n",
       "      <td>https://www.udemy.com/the-complete-financial-a...</td>\n",
       "      <td>True</td>\n",
       "      <td>195.0</td>\n",
       "      <td>24481</td>\n",
       "      <td>2347</td>\n",
       "      <td>174</td>\n",
       "      <td>All Levels</td>\n",
       "      <td>10.0</td>\n",
       "      <td>2016-01-21T01:38:48Z</td>\n",
       "      <td>Business Finance</td>\n",
       "    </tr>\n",
       "    <tr>\n",
       "      <th>41</th>\n",
       "      <td>1035472</td>\n",
       "      <td>Python for Finance: Investment Fundamentals &amp; ...</td>\n",
       "      <td>https://www.udemy.com/python-for-finance-inves...</td>\n",
       "      <td>True</td>\n",
       "      <td>195.0</td>\n",
       "      <td>3811</td>\n",
       "      <td>278</td>\n",
       "      <td>103</td>\n",
       "      <td>All Levels</td>\n",
       "      <td>6.5</td>\n",
       "      <td>2017-03-30T22:17:09Z</td>\n",
       "      <td>Business Finance</td>\n",
       "    </tr>\n",
       "    <tr>\n",
       "      <th>44</th>\n",
       "      <td>301442</td>\n",
       "      <td>Black Algo Trading: Build Your Trading Robot</td>\n",
       "      <td>https://www.udemy.com/build-your-trading-robot/</td>\n",
       "      <td>True</td>\n",
       "      <td>200.0</td>\n",
       "      <td>20195</td>\n",
       "      <td>1113</td>\n",
       "      <td>227</td>\n",
       "      <td>All Levels</td>\n",
       "      <td>16.0</td>\n",
       "      <td>2014-10-27T22:01:36Z</td>\n",
       "      <td>Business Finance</td>\n",
       "    </tr>\n",
       "    <tr>\n",
       "      <th>...</th>\n",
       "      <td>...</td>\n",
       "      <td>...</td>\n",
       "      <td>...</td>\n",
       "      <td>...</td>\n",
       "      <td>...</td>\n",
       "      <td>...</td>\n",
       "      <td>...</td>\n",
       "      <td>...</td>\n",
       "      <td>...</td>\n",
       "      <td>...</td>\n",
       "      <td>...</td>\n",
       "      <td>...</td>\n",
       "    </tr>\n",
       "    <tr>\n",
       "      <th>3647</th>\n",
       "      <td>975916</td>\n",
       "      <td>17 Complete JavaScript   projects explained st...</td>\n",
       "      <td>https://www.udemy.com/17-complete-javascript-p...</td>\n",
       "      <td>True</td>\n",
       "      <td>185.0</td>\n",
       "      <td>327</td>\n",
       "      <td>26</td>\n",
       "      <td>106</td>\n",
       "      <td>Beginner Level</td>\n",
       "      <td>9.5</td>\n",
       "      <td>2016-10-26T14:03:38Z</td>\n",
       "      <td>Web Development</td>\n",
       "    </tr>\n",
       "    <tr>\n",
       "      <th>3652</th>\n",
       "      <td>919354</td>\n",
       "      <td>Learn Bootstrap 4 The Most Popular HTML5 CSS3 ...</td>\n",
       "      <td>https://www.udemy.com/learn-bootstrap-4-the-mo...</td>\n",
       "      <td>True</td>\n",
       "      <td>200.0</td>\n",
       "      <td>279</td>\n",
       "      <td>37</td>\n",
       "      <td>119</td>\n",
       "      <td>All Levels</td>\n",
       "      <td>10.0</td>\n",
       "      <td>2017-04-25T00:57:35Z</td>\n",
       "      <td>Web Development</td>\n",
       "    </tr>\n",
       "    <tr>\n",
       "      <th>3654</th>\n",
       "      <td>949134</td>\n",
       "      <td>The Extreme Web Development Course - For Begin...</td>\n",
       "      <td>https://www.udemy.com/the-extreme-web-developm...</td>\n",
       "      <td>True</td>\n",
       "      <td>200.0</td>\n",
       "      <td>1420</td>\n",
       "      <td>62</td>\n",
       "      <td>152</td>\n",
       "      <td>All Levels</td>\n",
       "      <td>5.5</td>\n",
       "      <td>2016-09-04T20:51:08Z</td>\n",
       "      <td>Web Development</td>\n",
       "    </tr>\n",
       "    <tr>\n",
       "      <th>3658</th>\n",
       "      <td>459922</td>\n",
       "      <td>The Complete Web Developer Course - Build 20 W...</td>\n",
       "      <td>https://www.udemy.com/the-complete-web-develop...</td>\n",
       "      <td>True</td>\n",
       "      <td>20.0</td>\n",
       "      <td>2650</td>\n",
       "      <td>61</td>\n",
       "      <td>304</td>\n",
       "      <td>All Levels</td>\n",
       "      <td>15.5</td>\n",
       "      <td>2015-03-26T22:11:15Z</td>\n",
       "      <td>Web Development</td>\n",
       "    </tr>\n",
       "    <tr>\n",
       "      <th>3672</th>\n",
       "      <td>865438</td>\n",
       "      <td>jQuery UI in Action: Build 5 jQuery UI Projects</td>\n",
       "      <td>https://www.udemy.com/jquery-ui-practical-buil...</td>\n",
       "      <td>True</td>\n",
       "      <td>150.0</td>\n",
       "      <td>382</td>\n",
       "      <td>28</td>\n",
       "      <td>140</td>\n",
       "      <td>All Levels</td>\n",
       "      <td>15.5</td>\n",
       "      <td>2016-10-10T22:00:32Z</td>\n",
       "      <td>Web Development</td>\n",
       "    </tr>\n",
       "  </tbody>\n",
       "</table>\n",
       "<p>299 rows × 12 columns</p>\n",
       "</div>"
      ],
      "text/plain": [
       "      course_id                                       course_title  \\\n",
       "38       321410  Beginner to Pro in Excel: Financial Modeling a...   \n",
       "39       965832        The Complete Investment Banking Course 2017   \n",
       "40       648826         The Complete Financial Analyst Course 2017   \n",
       "41      1035472  Python for Finance: Investment Fundamentals & ...   \n",
       "44       301442       Black Algo Trading: Build Your Trading Robot   \n",
       "...         ...                                                ...   \n",
       "3647     975916  17 Complete JavaScript   projects explained st...   \n",
       "3652     919354  Learn Bootstrap 4 The Most Popular HTML5 CSS3 ...   \n",
       "3654     949134  The Extreme Web Development Course - For Begin...   \n",
       "3658     459922  The Complete Web Developer Course - Build 20 W...   \n",
       "3672     865438    jQuery UI in Action: Build 5 jQuery UI Projects   \n",
       "\n",
       "                                                    url  is_paid  price  \\\n",
       "38    https://www.udemy.com/beginner-to-pro-in-excel...     True  195.0   \n",
       "39    https://www.udemy.com/the-complete-investment-...     True  195.0   \n",
       "40    https://www.udemy.com/the-complete-financial-a...     True  195.0   \n",
       "41    https://www.udemy.com/python-for-finance-inves...     True  195.0   \n",
       "44      https://www.udemy.com/build-your-trading-robot/     True  200.0   \n",
       "...                                                 ...      ...    ...   \n",
       "3647  https://www.udemy.com/17-complete-javascript-p...     True  185.0   \n",
       "3652  https://www.udemy.com/learn-bootstrap-4-the-mo...     True  200.0   \n",
       "3654  https://www.udemy.com/the-extreme-web-developm...     True  200.0   \n",
       "3658  https://www.udemy.com/the-complete-web-develop...     True   20.0   \n",
       "3672  https://www.udemy.com/jquery-ui-practical-buil...     True  150.0   \n",
       "\n",
       "      num_subscribers  num_reviews  num_lectures           level  \\\n",
       "38              22257         2697           138      All Levels   \n",
       "39               8575          809           110      All Levels   \n",
       "40              24481         2347           174      All Levels   \n",
       "41               3811          278           103      All Levels   \n",
       "44              20195         1113           227      All Levels   \n",
       "...               ...          ...           ...             ...   \n",
       "3647              327           26           106  Beginner Level   \n",
       "3652              279           37           119      All Levels   \n",
       "3654             1420           62           152      All Levels   \n",
       "3658             2650           61           304      All Levels   \n",
       "3672              382           28           140      All Levels   \n",
       "\n",
       "      content_duration   published_timestamp           subject  \n",
       "38                 7.5  2014-11-25T23:00:40Z  Business Finance  \n",
       "39                 5.5  2016-10-10T16:16:26Z  Business Finance  \n",
       "40                10.0  2016-01-21T01:38:48Z  Business Finance  \n",
       "41                 6.5  2017-03-30T22:17:09Z  Business Finance  \n",
       "44                16.0  2014-10-27T22:01:36Z  Business Finance  \n",
       "...                ...                   ...               ...  \n",
       "3647               9.5  2016-10-26T14:03:38Z   Web Development  \n",
       "3652              10.0  2017-04-25T00:57:35Z   Web Development  \n",
       "3654               5.5  2016-09-04T20:51:08Z   Web Development  \n",
       "3658              15.5  2015-03-26T22:11:15Z   Web Development  \n",
       "3672              15.5  2016-10-10T22:00:32Z   Web Development  \n",
       "\n",
       "[299 rows x 12 columns]"
      ]
     },
     "execution_count": 131,
     "metadata": {},
     "output_type": "execute_result"
    }
   ],
   "source": [
    "data2[(data2.num_lectures<lower_limit)|(data2.num_lectures>upper_limit)]"
   ]
  },
  {
   "cell_type": "markdown",
   "metadata": {},
   "source": [
    "### Dataset without outliers in number of lectures"
   ]
  },
  {
   "cell_type": "code",
   "execution_count": 132,
   "metadata": {},
   "outputs": [
    {
     "data": {
      "text/html": [
       "<div>\n",
       "<style scoped>\n",
       "    .dataframe tbody tr th:only-of-type {\n",
       "        vertical-align: middle;\n",
       "    }\n",
       "\n",
       "    .dataframe tbody tr th {\n",
       "        vertical-align: top;\n",
       "    }\n",
       "\n",
       "    .dataframe thead th {\n",
       "        text-align: right;\n",
       "    }\n",
       "</style>\n",
       "<table border=\"1\" class=\"dataframe\">\n",
       "  <thead>\n",
       "    <tr style=\"text-align: right;\">\n",
       "      <th></th>\n",
       "      <th>course_id</th>\n",
       "      <th>course_title</th>\n",
       "      <th>url</th>\n",
       "      <th>is_paid</th>\n",
       "      <th>price</th>\n",
       "      <th>num_subscribers</th>\n",
       "      <th>num_reviews</th>\n",
       "      <th>num_lectures</th>\n",
       "      <th>level</th>\n",
       "      <th>content_duration</th>\n",
       "      <th>published_timestamp</th>\n",
       "      <th>subject</th>\n",
       "    </tr>\n",
       "  </thead>\n",
       "  <tbody>\n",
       "    <tr>\n",
       "      <th>4</th>\n",
       "      <td>1011058</td>\n",
       "      <td>How To Maximize Your Profits Trading Options</td>\n",
       "      <td>https://www.udemy.com/how-to-maximize-your-pro...</td>\n",
       "      <td>True</td>\n",
       "      <td>200.0</td>\n",
       "      <td>1276</td>\n",
       "      <td>45</td>\n",
       "      <td>26</td>\n",
       "      <td>Intermediate Level</td>\n",
       "      <td>2.0</td>\n",
       "      <td>2016-12-13T14:57:18Z</td>\n",
       "      <td>Business Finance</td>\n",
       "    </tr>\n",
       "    <tr>\n",
       "      <th>5</th>\n",
       "      <td>192870</td>\n",
       "      <td>Trading Penny Stocks: A Guide for All Levels I...</td>\n",
       "      <td>https://www.udemy.com/trading-penny-stocks-a-g...</td>\n",
       "      <td>True</td>\n",
       "      <td>150.0</td>\n",
       "      <td>9221</td>\n",
       "      <td>138</td>\n",
       "      <td>25</td>\n",
       "      <td>All Levels</td>\n",
       "      <td>3.0</td>\n",
       "      <td>2014-05-02T15:13:30Z</td>\n",
       "      <td>Business Finance</td>\n",
       "    </tr>\n",
       "    <tr>\n",
       "      <th>6</th>\n",
       "      <td>739964</td>\n",
       "      <td>Investing And Trading For Beginners: Mastering...</td>\n",
       "      <td>https://www.udemy.com/investing-and-trading-fo...</td>\n",
       "      <td>True</td>\n",
       "      <td>65.0</td>\n",
       "      <td>1540</td>\n",
       "      <td>178</td>\n",
       "      <td>26</td>\n",
       "      <td>Beginner Level</td>\n",
       "      <td>1.0</td>\n",
       "      <td>2016-02-21T18:23:12Z</td>\n",
       "      <td>Business Finance</td>\n",
       "    </tr>\n",
       "    <tr>\n",
       "      <th>7</th>\n",
       "      <td>403100</td>\n",
       "      <td>Trading Stock Chart Patterns For Immediate, Ex...</td>\n",
       "      <td>https://www.udemy.com/trading-chart-patterns-f...</td>\n",
       "      <td>True</td>\n",
       "      <td>95.0</td>\n",
       "      <td>2917</td>\n",
       "      <td>148</td>\n",
       "      <td>23</td>\n",
       "      <td>All Levels</td>\n",
       "      <td>2.5</td>\n",
       "      <td>2015-01-30T22:13:03Z</td>\n",
       "      <td>Business Finance</td>\n",
       "    </tr>\n",
       "    <tr>\n",
       "      <th>8</th>\n",
       "      <td>476268</td>\n",
       "      <td>Options Trading 3 : Advanced Stock Profit and ...</td>\n",
       "      <td>https://www.udemy.com/day-trading-stock-option...</td>\n",
       "      <td>True</td>\n",
       "      <td>195.0</td>\n",
       "      <td>5172</td>\n",
       "      <td>34</td>\n",
       "      <td>38</td>\n",
       "      <td>Expert Level</td>\n",
       "      <td>2.5</td>\n",
       "      <td>2015-05-28T00:14:03Z</td>\n",
       "      <td>Business Finance</td>\n",
       "    </tr>\n",
       "    <tr>\n",
       "      <th>...</th>\n",
       "      <td>...</td>\n",
       "      <td>...</td>\n",
       "      <td>...</td>\n",
       "      <td>...</td>\n",
       "      <td>...</td>\n",
       "      <td>...</td>\n",
       "      <td>...</td>\n",
       "      <td>...</td>\n",
       "      <td>...</td>\n",
       "      <td>...</td>\n",
       "      <td>...</td>\n",
       "      <td>...</td>\n",
       "    </tr>\n",
       "    <tr>\n",
       "      <th>3673</th>\n",
       "      <td>775618</td>\n",
       "      <td>Learn jQuery from Scratch - Master of JavaScri...</td>\n",
       "      <td>https://www.udemy.com/easy-jquery-for-beginner...</td>\n",
       "      <td>True</td>\n",
       "      <td>100.0</td>\n",
       "      <td>1040</td>\n",
       "      <td>14</td>\n",
       "      <td>21</td>\n",
       "      <td>All Levels</td>\n",
       "      <td>2.0</td>\n",
       "      <td>2016-06-14T17:36:46Z</td>\n",
       "      <td>Web Development</td>\n",
       "    </tr>\n",
       "    <tr>\n",
       "      <th>3674</th>\n",
       "      <td>1088178</td>\n",
       "      <td>How To Design A WordPress Website With No Codi...</td>\n",
       "      <td>https://www.udemy.com/how-to-make-a-wordpress-...</td>\n",
       "      <td>True</td>\n",
       "      <td>25.0</td>\n",
       "      <td>306</td>\n",
       "      <td>3</td>\n",
       "      <td>42</td>\n",
       "      <td>Beginner Level</td>\n",
       "      <td>3.5</td>\n",
       "      <td>2017-03-10T22:24:30Z</td>\n",
       "      <td>Web Development</td>\n",
       "    </tr>\n",
       "    <tr>\n",
       "      <th>3675</th>\n",
       "      <td>635248</td>\n",
       "      <td>Learn and Build using Polymer</td>\n",
       "      <td>https://www.udemy.com/learn-and-build-using-po...</td>\n",
       "      <td>True</td>\n",
       "      <td>40.0</td>\n",
       "      <td>513</td>\n",
       "      <td>169</td>\n",
       "      <td>48</td>\n",
       "      <td>All Levels</td>\n",
       "      <td>3.5</td>\n",
       "      <td>2015-12-30T16:41:42Z</td>\n",
       "      <td>Web Development</td>\n",
       "    </tr>\n",
       "    <tr>\n",
       "      <th>3676</th>\n",
       "      <td>905096</td>\n",
       "      <td>CSS Animations: Create Amazing Effects on Your...</td>\n",
       "      <td>https://www.udemy.com/css-animations-create-am...</td>\n",
       "      <td>True</td>\n",
       "      <td>50.0</td>\n",
       "      <td>300</td>\n",
       "      <td>31</td>\n",
       "      <td>38</td>\n",
       "      <td>All Levels</td>\n",
       "      <td>3.0</td>\n",
       "      <td>2016-08-11T19:06:15Z</td>\n",
       "      <td>Web Development</td>\n",
       "    </tr>\n",
       "    <tr>\n",
       "      <th>3677</th>\n",
       "      <td>297602</td>\n",
       "      <td>Using MODX CMS to Build Websites: A Beginner's...</td>\n",
       "      <td>https://www.udemy.com/using-modx-cms-to-build-...</td>\n",
       "      <td>True</td>\n",
       "      <td>45.0</td>\n",
       "      <td>901</td>\n",
       "      <td>36</td>\n",
       "      <td>20</td>\n",
       "      <td>Beginner Level</td>\n",
       "      <td>2.0</td>\n",
       "      <td>2014-09-28T19:51:11Z</td>\n",
       "      <td>Web Development</td>\n",
       "    </tr>\n",
       "  </tbody>\n",
       "</table>\n",
       "<p>3367 rows × 12 columns</p>\n",
       "</div>"
      ],
      "text/plain": [
       "      course_id                                       course_title  \\\n",
       "4       1011058       How To Maximize Your Profits Trading Options   \n",
       "5        192870  Trading Penny Stocks: A Guide for All Levels I...   \n",
       "6        739964  Investing And Trading For Beginners: Mastering...   \n",
       "7        403100  Trading Stock Chart Patterns For Immediate, Ex...   \n",
       "8        476268  Options Trading 3 : Advanced Stock Profit and ...   \n",
       "...         ...                                                ...   \n",
       "3673     775618  Learn jQuery from Scratch - Master of JavaScri...   \n",
       "3674    1088178  How To Design A WordPress Website With No Codi...   \n",
       "3675     635248                      Learn and Build using Polymer   \n",
       "3676     905096  CSS Animations: Create Amazing Effects on Your...   \n",
       "3677     297602  Using MODX CMS to Build Websites: A Beginner's...   \n",
       "\n",
       "                                                    url  is_paid  price  \\\n",
       "4     https://www.udemy.com/how-to-maximize-your-pro...     True  200.0   \n",
       "5     https://www.udemy.com/trading-penny-stocks-a-g...     True  150.0   \n",
       "6     https://www.udemy.com/investing-and-trading-fo...     True   65.0   \n",
       "7     https://www.udemy.com/trading-chart-patterns-f...     True   95.0   \n",
       "8     https://www.udemy.com/day-trading-stock-option...     True  195.0   \n",
       "...                                                 ...      ...    ...   \n",
       "3673  https://www.udemy.com/easy-jquery-for-beginner...     True  100.0   \n",
       "3674  https://www.udemy.com/how-to-make-a-wordpress-...     True   25.0   \n",
       "3675  https://www.udemy.com/learn-and-build-using-po...     True   40.0   \n",
       "3676  https://www.udemy.com/css-animations-create-am...     True   50.0   \n",
       "3677  https://www.udemy.com/using-modx-cms-to-build-...     True   45.0   \n",
       "\n",
       "      num_subscribers  num_reviews  num_lectures               level  \\\n",
       "4                1276           45            26  Intermediate Level   \n",
       "5                9221          138            25          All Levels   \n",
       "6                1540          178            26      Beginner Level   \n",
       "7                2917          148            23          All Levels   \n",
       "8                5172           34            38        Expert Level   \n",
       "...               ...          ...           ...                 ...   \n",
       "3673             1040           14            21          All Levels   \n",
       "3674              306            3            42      Beginner Level   \n",
       "3675              513          169            48          All Levels   \n",
       "3676              300           31            38          All Levels   \n",
       "3677              901           36            20      Beginner Level   \n",
       "\n",
       "      content_duration   published_timestamp           subject  \n",
       "4                  2.0  2016-12-13T14:57:18Z  Business Finance  \n",
       "5                  3.0  2014-05-02T15:13:30Z  Business Finance  \n",
       "6                  1.0  2016-02-21T18:23:12Z  Business Finance  \n",
       "7                  2.5  2015-01-30T22:13:03Z  Business Finance  \n",
       "8                  2.5  2015-05-28T00:14:03Z  Business Finance  \n",
       "...                ...                   ...               ...  \n",
       "3673               2.0  2016-06-14T17:36:46Z   Web Development  \n",
       "3674               3.5  2017-03-10T22:24:30Z   Web Development  \n",
       "3675               3.5  2015-12-30T16:41:42Z   Web Development  \n",
       "3676               3.0  2016-08-11T19:06:15Z   Web Development  \n",
       "3677               2.0  2014-09-28T19:51:11Z   Web Development  \n",
       "\n",
       "[3367 rows x 12 columns]"
      ]
     },
     "execution_count": 132,
     "metadata": {},
     "output_type": "execute_result"
    }
   ],
   "source": [
    "data3=data2[(data2.num_lectures>lower_limit)&(data2.num_lectures<upper_limit)]\n",
    "data3"
   ]
  },
  {
   "cell_type": "markdown",
   "metadata": {},
   "source": [
    "## Scatter plot before removing outliers from number of lectures"
   ]
  },
  {
   "cell_type": "markdown",
   "metadata": {},
   "source": [
    "### Number of lectures and content duration"
   ]
  },
  {
   "cell_type": "code",
   "execution_count": 133,
   "metadata": {},
   "outputs": [
    {
     "data": {
      "text/plain": [
       "<matplotlib.axes._subplots.AxesSubplot at 0x2aef771d700>"
      ]
     },
     "execution_count": 133,
     "metadata": {},
     "output_type": "execute_result"
    },
    {
     "data": {
      "image/png": "[encoded data removed]",
      "text/plain": [
       "<Figure size 432x288 with 1 Axes>"
      ]
     },
     "metadata": {},
     "output_type": "display_data"
    }
   ],
   "source": [
    "sns.scatterplot(x = data2[\"num_lectures\"],y=data2[\"content_duration\"])"
   ]
  },
  {
   "cell_type": "markdown",
   "metadata": {},
   "source": [
    "### Scatter plot after removing outliers from number of lectures"
   ]
  },
  {
   "cell_type": "code",
   "execution_count": 134,
   "metadata": {},
   "outputs": [
    {
     "data": {
      "text/plain": [
       "<matplotlib.axes._subplots.AxesSubplot at 0x2aef7777d60>"
      ]
     },
     "execution_count": 134,
     "metadata": {},
     "output_type": "execute_result"
    },
    {
     "data": {
      "image/png": "[encoded data removed]",
      "text/plain": [
       "<Figure size 432x288 with 1 Axes>"
      ]
     },
     "metadata": {},
     "output_type": "display_data"
    }
   ],
   "source": [
    "sns.scatterplot(x = data3[\"num_lectures\"],y=data3[\"content_duration\"])"
   ]
  },
  {
   "cell_type": "markdown",
   "metadata": {},
   "source": [
    "### Number of subscribers and number of reviews"
   ]
  },
  {
   "cell_type": "code",
   "execution_count": 135,
   "metadata": {},
   "outputs": [
    {
     "data": {
      "text/plain": [
       "<matplotlib.axes._subplots.AxesSubplot at 0x2aef77e7130>"
      ]
     },
     "execution_count": 135,
     "metadata": {},
     "output_type": "execute_result"
    },
    {
     "data": {
      "image/png": "[encoded data removed]",
      "text/plain": [
       "<Figure size 432x288 with 1 Axes>"
      ]
     },
     "metadata": {},
     "output_type": "display_data"
    }
   ],
   "source": [
    "sns.scatterplot(x = data3[\"num_subscribers\"],y=data3[\"num_reviews\"])"
   ]
  },
  {
   "cell_type": "markdown",
   "metadata": {},
   "source": [
    "### number of lectures and number of subscribers"
   ]
  },
  {
   "cell_type": "code",
   "execution_count": 136,
   "metadata": {},
   "outputs": [
    {
     "data": {
      "text/plain": [
       "<matplotlib.axes._subplots.AxesSubplot at 0x2aef782d310>"
      ]
     },
     "execution_count": 136,
     "metadata": {},
     "output_type": "execute_result"
    },
    {
     "data": {
      "image/png": "[encoded data removed]",
      "text/plain": [
       "<Figure size 432x288 with 1 Axes>"
      ]
     },
     "metadata": {},
     "output_type": "display_data"
    }
   ],
   "source": [
    "sns.scatterplot(x = data3[\"num_lectures\"],y=data3[\"num_subscribers\"])"
   ]
  },
  {
   "cell_type": "markdown",
   "metadata": {},
   "source": [
    "### Histogram"
   ]
  },
  {
   "cell_type": "code",
   "execution_count": 137,
   "metadata": {},
   "outputs": [
    {
     "name": "stderr",
     "output_type": "stream",
     "text": [
      "C:\\Users\\Mridula\\anaconda3\\lib\\site-packages\\seaborn\\distributions.py:369: UserWarning: Default bandwidth for data is 0; skipping density estimation.\n",
      "  warnings.warn(msg, UserWarning)\n"
     ]
    },
    {
     "data": {
      "text/plain": [
       "<matplotlib.axes._subplots.AxesSubplot at 0x2aef76b8c70>"
      ]
     },
     "execution_count": 137,
     "metadata": {},
     "output_type": "execute_result"
    },
    {
     "data": {
      "image/png": "[encoded data removed]",
      "text/plain": [
       "<Figure size 432x288 with 1 Axes>"
      ]
     },
     "metadata": {},
     "output_type": "display_data"
    }
   ],
   "source": [
    "sns.distplot(data3['is_paid'])"
   ]
  },
  {
   "cell_type": "code",
   "execution_count": 138,
   "metadata": {},
   "outputs": [
    {
     "data": {
      "text/plain": [
       "<matplotlib.axes._subplots.AxesSubplot at 0x2aef787deb0>"
      ]
     },
     "execution_count": 138,
     "metadata": {},
     "output_type": "execute_result"
    },
    {
     "data": {
      "image/png": "[encoded data removed]",
      "text/plain": [
       "<Figure size 432x288 with 1 Axes>"
      ]
     },
     "metadata": {},
     "output_type": "display_data"
    }
   ],
   "source": [
    "sns.distplot(data3['price'])"
   ]
  },
  {
   "cell_type": "code",
   "execution_count": 139,
   "metadata": {},
   "outputs": [
    {
     "data": {
      "text/plain": [
       "<matplotlib.axes._subplots.AxesSubplot at 0x2aef79eb0a0>"
      ]
     },
     "execution_count": 139,
     "metadata": {},
     "output_type": "execute_result"
    },
    {
     "data": {
      "image/png": "[encoded data removed]",
      "text/plain": [
       "<Figure size 432x288 with 1 Axes>"
      ]
     },
     "metadata": {},
     "output_type": "display_data"
    }
   ],
   "source": [
    "sns.distplot(data3['content_duration'])"
   ]
  },
  {
   "cell_type": "code",
   "execution_count": 140,
   "metadata": {},
   "outputs": [
    {
     "data": {
      "text/plain": [
       "<matplotlib.axes._subplots.AxesSubplot at 0x2aef7a90550>"
      ]
     },
     "execution_count": 140,
     "metadata": {},
     "output_type": "execute_result"
    },
    {
     "data": {
      "image/png": "[encoded data removed]",
      "text/plain": [
       "<Figure size 432x288 with 1 Axes>"
      ]
     },
     "metadata": {},
     "output_type": "display_data"
    }
   ],
   "source": [
    "sns.distplot(data3['num_lectures'])"
   ]
  },
  {
   "cell_type": "markdown",
   "metadata": {},
   "source": [
    "### Stripplot"
   ]
  },
  {
   "cell_type": "code",
   "execution_count": 141,
   "metadata": {},
   "outputs": [
    {
     "data": {
      "text/plain": [
       "<matplotlib.axes._subplots.AxesSubplot at 0x2aef7b558b0>"
      ]
     },
     "execution_count": 141,
     "metadata": {},
     "output_type": "execute_result"
    },
    {
     "data": {
      "image/png": "[encoded data removed]",
      "text/plain": [
       "<Figure size 432x288 with 1 Axes>"
      ]
     },
     "metadata": {},
     "output_type": "display_data"
    }
   ],
   "source": [
    "sns.stripplot(data3['is_paid'],data3['num_subscribers'])"
   ]
  },
  {
   "cell_type": "code",
   "execution_count": 142,
   "metadata": {},
   "outputs": [
    {
     "data": {
      "text/plain": [
       "<matplotlib.axes._subplots.AxesSubplot at 0x2aef6439fd0>"
      ]
     },
     "execution_count": 142,
     "metadata": {},
     "output_type": "execute_result"
    },
    {
     "data": {
      "image/png": "[encoded data removed]",
      "text/plain": [
       "<Figure size 432x288 with 1 Axes>"
      ]
     },
     "metadata": {},
     "output_type": "display_data"
    }
   ],
   "source": [
    "sns.stripplot(data3['subject'],data3['num_subscribers'])"
   ]
  },
  {
   "cell_type": "code",
   "execution_count": 143,
   "metadata": {},
   "outputs": [
    {
     "data": {
      "text/plain": [
       "<matplotlib.axes._subplots.AxesSubplot at 0x2aef78330d0>"
      ]
     },
     "execution_count": 143,
     "metadata": {},
     "output_type": "execute_result"
    },
    {
     "data": {
      "image/png": "[encoded data removed]",
      "text/plain": [
       "<Figure size 432x288 with 1 Axes>"
      ]
     },
     "metadata": {},
     "output_type": "display_data"
    }
   ],
   "source": [
    "sns.stripplot(data3['level'],data3['num_subscribers'])"
   ]
  },
  {
   "cell_type": "markdown",
   "metadata": {},
   "source": [
    "### Pairplot"
   ]
  },
  {
   "cell_type": "code",
   "execution_count": 144,
   "metadata": {
    "scrolled": true
   },
   "outputs": [
    {
     "data": {
      "text/plain": [
       "<seaborn.axisgrid.PairGrid at 0x2aef787df10>"
      ]
     },
     "execution_count": 144,
     "metadata": {},
     "output_type": "execute_result"
    },
    {
     "data": {
      "image/png": "[encoded data removed]",
      "text/plain": [
       "<Figure size 540x540 with 12 Axes>"
      ]
     },
     "metadata": {},
     "output_type": "display_data"
    }
   ],
   "source": [
    "sns.pairplot(data3[['num_reviews','num_subscribers','content_duration']])"
   ]
  },
  {
   "cell_type": "markdown",
   "metadata": {},
   "source": [
    "### Countplot"
   ]
  },
  {
   "cell_type": "code",
   "execution_count": 145,
   "metadata": {},
   "outputs": [
    {
     "data": {
      "text/plain": [
       "<matplotlib.axes._subplots.AxesSubplot at 0x2aef7fe5b20>"
      ]
     },
     "execution_count": 145,
     "metadata": {},
     "output_type": "execute_result"
    },
    {
     "data": {
      "image/png": "[encoded data removed]",
      "text/plain": [
       "<Figure size 432x288 with 1 Axes>"
      ]
     },
     "metadata": {},
     "output_type": "display_data"
    }
   ],
   "source": [
    "sns.countplot(data3['subject'])"
   ]
  },
  {
   "cell_type": "code",
   "execution_count": 146,
   "metadata": {},
   "outputs": [
    {
     "data": {
      "text/plain": [
       "<matplotlib.axes._subplots.AxesSubplot at 0x2aef91d8b50>"
      ]
     },
     "execution_count": 146,
     "metadata": {},
     "output_type": "execute_result"
    },
    {
     "data": {
      "image/png": "[encoded data removed]",
      "text/plain": [
       "<Figure size 432x288 with 1 Axes>"
      ]
     },
     "metadata": {},
     "output_type": "display_data"
    }
   ],
   "source": [
    "sns.countplot(data3['level'])"
   ]
  },
  {
   "cell_type": "code",
   "execution_count": 147,
   "metadata": {},
   "outputs": [
    {
     "data": {
      "text/plain": [
       "<matplotlib.axes._subplots.AxesSubplot at 0x2aef92290a0>"
      ]
     },
     "execution_count": 147,
     "metadata": {},
     "output_type": "execute_result"
    },
    {
     "data": {
      "image/png": "[encoded data removed]",
      "text/plain": [
       "<Figure size 432x288 with 1 Axes>"
      ]
     },
     "metadata": {},
     "output_type": "display_data"
    }
   ],
   "source": [
    "sns.countplot(data3['is_paid'])"
   ]
  },
  {
   "cell_type": "markdown",
   "metadata": {},
   "source": [
    "### Violinplot"
   ]
  },
  {
   "cell_type": "code",
   "execution_count": 148,
   "metadata": {},
   "outputs": [
    {
     "data": {
      "text/plain": [
       "<matplotlib.axes._subplots.AxesSubplot at 0x2aef926bf70>"
      ]
     },
     "execution_count": 148,
     "metadata": {},
     "output_type": "execute_result"
    },
    {
     "data": {
      "image/png": "[encoded data removed]",
      "text/plain": [
       "<Figure size 432x288 with 1 Axes>"
      ]
     },
     "metadata": {},
     "output_type": "display_data"
    }
   ],
   "source": [
    "sns.violinplot(data3['is_paid'],data3['price'])"
   ]
  },
  {
   "cell_type": "code",
   "execution_count": 149,
   "metadata": {},
   "outputs": [
    {
     "data": {
      "text/plain": [
       "<matplotlib.axes._subplots.AxesSubplot at 0x2aef92ac6d0>"
      ]
     },
     "execution_count": 149,
     "metadata": {},
     "output_type": "execute_result"
    },
    {
     "data": {
      "image/png": "[encoded data removed]",
      "text/plain": [
       "<Figure size 432x288 with 1 Axes>"
      ]
     },
     "metadata": {},
     "output_type": "display_data"
    }
   ],
   "source": [
    "sns.violinplot(data3['subject'],data3['price'])"
   ]
  },
  {
   "cell_type": "code",
   "execution_count": 150,
   "metadata": {},
   "outputs": [
    {
     "data": {
      "text/plain": [
       "<matplotlib.axes._subplots.AxesSubplot at 0x2aef92b9be0>"
      ]
     },
     "execution_count": 150,
     "metadata": {},
     "output_type": "execute_result"
    },
    {
     "data": {
      "image/png": "[encoded data removed]",
      "text/plain": [
       "<Figure size 432x288 with 1 Axes>"
      ]
     },
     "metadata": {},
     "output_type": "display_data"
    }
   ],
   "source": [
    "sns.violinplot(data3['level'],data3['price'])"
   ]
  },
  {
   "cell_type": "markdown",
   "metadata": {},
   "source": [
    "# Prediction of whether a course is paid or not according to number of subscribers, number of lectures and number of reviews"
   ]
  },
  {
   "cell_type": "markdown",
   "metadata": {},
   "source": [
    "# Normalization"
   ]
  },
  {
   "cell_type": "code",
   "execution_count": 151,
   "metadata": {},
   "outputs": [],
   "source": [
    "from sklearn.preprocessing import LabelEncoder"
   ]
  },
  {
   "cell_type": "markdown",
   "metadata": {},
   "source": [
    "### Label encoding for is_paid column"
   ]
  },
  {
   "cell_type": "code",
   "execution_count": 152,
   "metadata": {},
   "outputs": [],
   "source": [
    "lE=LabelEncoder()\n",
    "label=lE.fit_transform(data3[\"is_paid\"])\n",
    "data3=data3.drop(\"is_paid\",axis=\"columns\")\n",
    "data3[\"is_paid\"]=label"
   ]
  },
  {
   "cell_type": "markdown",
   "metadata": {},
   "source": [
    "## Dataset after encoding"
   ]
  },
  {
   "cell_type": "code",
   "execution_count": 153,
   "metadata": {},
   "outputs": [
    {
     "data": {
      "text/html": [
       "<div>\n",
       "<style scoped>\n",
       "    .dataframe tbody tr th:only-of-type {\n",
       "        vertical-align: middle;\n",
       "    }\n",
       "\n",
       "    .dataframe tbody tr th {\n",
       "        vertical-align: top;\n",
       "    }\n",
       "\n",
       "    .dataframe thead th {\n",
       "        text-align: right;\n",
       "    }\n",
       "</style>\n",
       "<table border=\"1\" class=\"dataframe\">\n",
       "  <thead>\n",
       "    <tr style=\"text-align: right;\">\n",
       "      <th></th>\n",
       "      <th>course_id</th>\n",
       "      <th>course_title</th>\n",
       "      <th>url</th>\n",
       "      <th>price</th>\n",
       "      <th>num_subscribers</th>\n",
       "      <th>num_reviews</th>\n",
       "      <th>num_lectures</th>\n",
       "      <th>level</th>\n",
       "      <th>content_duration</th>\n",
       "      <th>published_timestamp</th>\n",
       "      <th>subject</th>\n",
       "      <th>is_paid</th>\n",
       "    </tr>\n",
       "  </thead>\n",
       "  <tbody>\n",
       "    <tr>\n",
       "      <th>4</th>\n",
       "      <td>1011058</td>\n",
       "      <td>How To Maximize Your Profits Trading Options</td>\n",
       "      <td>https://www.udemy.com/how-to-maximize-your-pro...</td>\n",
       "      <td>200.0</td>\n",
       "      <td>1276</td>\n",
       "      <td>45</td>\n",
       "      <td>26</td>\n",
       "      <td>Intermediate Level</td>\n",
       "      <td>2.0</td>\n",
       "      <td>2016-12-13T14:57:18Z</td>\n",
       "      <td>Business Finance</td>\n",
       "      <td>1</td>\n",
       "    </tr>\n",
       "    <tr>\n",
       "      <th>5</th>\n",
       "      <td>192870</td>\n",
       "      <td>Trading Penny Stocks: A Guide for All Levels I...</td>\n",
       "      <td>https://www.udemy.com/trading-penny-stocks-a-g...</td>\n",
       "      <td>150.0</td>\n",
       "      <td>9221</td>\n",
       "      <td>138</td>\n",
       "      <td>25</td>\n",
       "      <td>All Levels</td>\n",
       "      <td>3.0</td>\n",
       "      <td>2014-05-02T15:13:30Z</td>\n",
       "      <td>Business Finance</td>\n",
       "      <td>1</td>\n",
       "    </tr>\n",
       "    <tr>\n",
       "      <th>6</th>\n",
       "      <td>739964</td>\n",
       "      <td>Investing And Trading For Beginners: Mastering...</td>\n",
       "      <td>https://www.udemy.com/investing-and-trading-fo...</td>\n",
       "      <td>65.0</td>\n",
       "      <td>1540</td>\n",
       "      <td>178</td>\n",
       "      <td>26</td>\n",
       "      <td>Beginner Level</td>\n",
       "      <td>1.0</td>\n",
       "      <td>2016-02-21T18:23:12Z</td>\n",
       "      <td>Business Finance</td>\n",
       "      <td>1</td>\n",
       "    </tr>\n",
       "    <tr>\n",
       "      <th>7</th>\n",
       "      <td>403100</td>\n",
       "      <td>Trading Stock Chart Patterns For Immediate, Ex...</td>\n",
       "      <td>https://www.udemy.com/trading-chart-patterns-f...</td>\n",
       "      <td>95.0</td>\n",
       "      <td>2917</td>\n",
       "      <td>148</td>\n",
       "      <td>23</td>\n",
       "      <td>All Levels</td>\n",
       "      <td>2.5</td>\n",
       "      <td>2015-01-30T22:13:03Z</td>\n",
       "      <td>Business Finance</td>\n",
       "      <td>1</td>\n",
       "    </tr>\n",
       "    <tr>\n",
       "      <th>8</th>\n",
       "      <td>476268</td>\n",
       "      <td>Options Trading 3 : Advanced Stock Profit and ...</td>\n",
       "      <td>https://www.udemy.com/day-trading-stock-option...</td>\n",
       "      <td>195.0</td>\n",
       "      <td>5172</td>\n",
       "      <td>34</td>\n",
       "      <td>38</td>\n",
       "      <td>Expert Level</td>\n",
       "      <td>2.5</td>\n",
       "      <td>2015-05-28T00:14:03Z</td>\n",
       "      <td>Business Finance</td>\n",
       "      <td>1</td>\n",
       "    </tr>\n",
       "    <tr>\n",
       "      <th>9</th>\n",
       "      <td>1167710</td>\n",
       "      <td>The Only Investment Strategy You Need For Your...</td>\n",
       "      <td>https://www.udemy.com/the-only-investment-stra...</td>\n",
       "      <td>200.0</td>\n",
       "      <td>827</td>\n",
       "      <td>14</td>\n",
       "      <td>15</td>\n",
       "      <td>All Levels</td>\n",
       "      <td>1.0</td>\n",
       "      <td>2017-04-18T18:13:32Z</td>\n",
       "      <td>Business Finance</td>\n",
       "      <td>1</td>\n",
       "    </tr>\n",
       "    <tr>\n",
       "      <th>10</th>\n",
       "      <td>592338</td>\n",
       "      <td>Forex Trading Secrets of the Pros With Amazon'...</td>\n",
       "      <td>https://www.udemy.com/trading-with-amazons-aws...</td>\n",
       "      <td>200.0</td>\n",
       "      <td>4284</td>\n",
       "      <td>93</td>\n",
       "      <td>76</td>\n",
       "      <td>All Levels</td>\n",
       "      <td>5.0</td>\n",
       "      <td>2015-09-11T16:47:02Z</td>\n",
       "      <td>Business Finance</td>\n",
       "      <td>1</td>\n",
       "    </tr>\n",
       "    <tr>\n",
       "      <th>11</th>\n",
       "      <td>975046</td>\n",
       "      <td>Trading Options With Money Flow</td>\n",
       "      <td>https://www.udemy.com/trading-options-using-mo...</td>\n",
       "      <td>200.0</td>\n",
       "      <td>1380</td>\n",
       "      <td>42</td>\n",
       "      <td>17</td>\n",
       "      <td>All Levels</td>\n",
       "      <td>1.0</td>\n",
       "      <td>2016-10-18T22:52:31Z</td>\n",
       "      <td>Business Finance</td>\n",
       "      <td>1</td>\n",
       "    </tr>\n",
       "    <tr>\n",
       "      <th>12</th>\n",
       "      <td>742602</td>\n",
       "      <td>Financial Management Risk and Return For Secur...</td>\n",
       "      <td>https://www.udemy.com/risk-and-return-finance/</td>\n",
       "      <td>30.0</td>\n",
       "      <td>3607</td>\n",
       "      <td>21</td>\n",
       "      <td>19</td>\n",
       "      <td>All Levels</td>\n",
       "      <td>1.5</td>\n",
       "      <td>2016-02-03T18:04:01Z</td>\n",
       "      <td>Business Finance</td>\n",
       "      <td>1</td>\n",
       "    </tr>\n",
       "    <tr>\n",
       "      <th>13</th>\n",
       "      <td>794151</td>\n",
       "      <td>Forex Trading Course: Work Smarter Not Harder ...</td>\n",
       "      <td>https://www.udemy.com/the-complete-trading-cou...</td>\n",
       "      <td>195.0</td>\n",
       "      <td>4061</td>\n",
       "      <td>52</td>\n",
       "      <td>16</td>\n",
       "      <td>All Levels</td>\n",
       "      <td>2.0</td>\n",
       "      <td>2016-03-16T15:40:19Z</td>\n",
       "      <td>Business Finance</td>\n",
       "      <td>1</td>\n",
       "    </tr>\n",
       "  </tbody>\n",
       "</table>\n",
       "</div>"
      ],
      "text/plain": [
       "    course_id                                       course_title  \\\n",
       "4     1011058       How To Maximize Your Profits Trading Options   \n",
       "5      192870  Trading Penny Stocks: A Guide for All Levels I...   \n",
       "6      739964  Investing And Trading For Beginners: Mastering...   \n",
       "7      403100  Trading Stock Chart Patterns For Immediate, Ex...   \n",
       "8      476268  Options Trading 3 : Advanced Stock Profit and ...   \n",
       "9     1167710  The Only Investment Strategy You Need For Your...   \n",
       "10     592338  Forex Trading Secrets of the Pros With Amazon'...   \n",
       "11     975046                    Trading Options With Money Flow   \n",
       "12     742602  Financial Management Risk and Return For Secur...   \n",
       "13     794151  Forex Trading Course: Work Smarter Not Harder ...   \n",
       "\n",
       "                                                  url  price  num_subscribers  \\\n",
       "4   https://www.udemy.com/how-to-maximize-your-pro...  200.0             1276   \n",
       "5   https://www.udemy.com/trading-penny-stocks-a-g...  150.0             9221   \n",
       "6   https://www.udemy.com/investing-and-trading-fo...   65.0             1540   \n",
       "7   https://www.udemy.com/trading-chart-patterns-f...   95.0             2917   \n",
       "8   https://www.udemy.com/day-trading-stock-option...  195.0             5172   \n",
       "9   https://www.udemy.com/the-only-investment-stra...  200.0              827   \n",
       "10  https://www.udemy.com/trading-with-amazons-aws...  200.0             4284   \n",
       "11  https://www.udemy.com/trading-options-using-mo...  200.0             1380   \n",
       "12     https://www.udemy.com/risk-and-return-finance/   30.0             3607   \n",
       "13  https://www.udemy.com/the-complete-trading-cou...  195.0             4061   \n",
       "\n",
       "    num_reviews  num_lectures               level  content_duration  \\\n",
       "4            45            26  Intermediate Level               2.0   \n",
       "5           138            25          All Levels               3.0   \n",
       "6           178            26      Beginner Level               1.0   \n",
       "7           148            23          All Levels               2.5   \n",
       "8            34            38        Expert Level               2.5   \n",
       "9            14            15          All Levels               1.0   \n",
       "10           93            76          All Levels               5.0   \n",
       "11           42            17          All Levels               1.0   \n",
       "12           21            19          All Levels               1.5   \n",
       "13           52            16          All Levels               2.0   \n",
       "\n",
       "     published_timestamp           subject  is_paid  \n",
       "4   2016-12-13T14:57:18Z  Business Finance        1  \n",
       "5   2014-05-02T15:13:30Z  Business Finance        1  \n",
       "6   2016-02-21T18:23:12Z  Business Finance        1  \n",
       "7   2015-01-30T22:13:03Z  Business Finance        1  \n",
       "8   2015-05-28T00:14:03Z  Business Finance        1  \n",
       "9   2017-04-18T18:13:32Z  Business Finance        1  \n",
       "10  2015-09-11T16:47:02Z  Business Finance        1  \n",
       "11  2016-10-18T22:52:31Z  Business Finance        1  \n",
       "12  2016-02-03T18:04:01Z  Business Finance        1  \n",
       "13  2016-03-16T15:40:19Z  Business Finance        1  "
      ]
     },
     "execution_count": 153,
     "metadata": {},
     "output_type": "execute_result"
    }
   ],
   "source": [
    "data3.head(10)"
   ]
  },
  {
   "cell_type": "code",
   "execution_count": 154,
   "metadata": {},
   "outputs": [
    {
     "data": {
      "text/html": [
       "<div>\n",
       "<style scoped>\n",
       "    .dataframe tbody tr th:only-of-type {\n",
       "        vertical-align: middle;\n",
       "    }\n",
       "\n",
       "    .dataframe tbody tr th {\n",
       "        vertical-align: top;\n",
       "    }\n",
       "\n",
       "    .dataframe thead th {\n",
       "        text-align: right;\n",
       "    }\n",
       "</style>\n",
       "<table border=\"1\" class=\"dataframe\">\n",
       "  <thead>\n",
       "    <tr style=\"text-align: right;\">\n",
       "      <th></th>\n",
       "      <th>course_id</th>\n",
       "      <th>course_title</th>\n",
       "      <th>url</th>\n",
       "      <th>price</th>\n",
       "      <th>num_subscribers</th>\n",
       "      <th>num_reviews</th>\n",
       "      <th>num_lectures</th>\n",
       "      <th>level</th>\n",
       "      <th>content_duration</th>\n",
       "      <th>published_timestamp</th>\n",
       "      <th>subject</th>\n",
       "      <th>is_paid</th>\n",
       "    </tr>\n",
       "  </thead>\n",
       "  <tbody>\n",
       "    <tr>\n",
       "      <th>3667</th>\n",
       "      <td>523216</td>\n",
       "      <td>The Fastest Way to Create a Website Using Godaddy</td>\n",
       "      <td>https://www.udemy.com/create-your-own-website/</td>\n",
       "      <td>30.0</td>\n",
       "      <td>1454</td>\n",
       "      <td>14</td>\n",
       "      <td>12</td>\n",
       "      <td>Beginner Level</td>\n",
       "      <td>0.500000</td>\n",
       "      <td>2015-11-09T20:44:25Z</td>\n",
       "      <td>Web Development</td>\n",
       "      <td>1</td>\n",
       "    </tr>\n",
       "    <tr>\n",
       "      <th>3668</th>\n",
       "      <td>270976</td>\n",
       "      <td>A how to guide in HTML</td>\n",
       "      <td>https://www.udemy.com/a-how-to-guide-in-html/</td>\n",
       "      <td>0.0</td>\n",
       "      <td>7318</td>\n",
       "      <td>205</td>\n",
       "      <td>8</td>\n",
       "      <td>Beginner Level</td>\n",
       "      <td>0.583333</td>\n",
       "      <td>2014-08-10T20:19:10Z</td>\n",
       "      <td>Web Development</td>\n",
       "      <td>0</td>\n",
       "    </tr>\n",
       "    <tr>\n",
       "      <th>3669</th>\n",
       "      <td>679992</td>\n",
       "      <td>Building Better APIs with GraphQL</td>\n",
       "      <td>https://www.udemy.com/building-better-apis-wit...</td>\n",
       "      <td>50.0</td>\n",
       "      <td>555</td>\n",
       "      <td>89</td>\n",
       "      <td>16</td>\n",
       "      <td>All Levels</td>\n",
       "      <td>2.500000</td>\n",
       "      <td>2015-11-29T22:02:02Z</td>\n",
       "      <td>Web Development</td>\n",
       "      <td>1</td>\n",
       "    </tr>\n",
       "    <tr>\n",
       "      <th>3670</th>\n",
       "      <td>330900</td>\n",
       "      <td>Learn Grunt with Examples: Automate Your Front...</td>\n",
       "      <td>https://www.udemy.com/learn-grunt-automate-you...</td>\n",
       "      <td>20.0</td>\n",
       "      <td>496</td>\n",
       "      <td>113</td>\n",
       "      <td>17</td>\n",
       "      <td>All Levels</td>\n",
       "      <td>1.000000</td>\n",
       "      <td>2014-12-19T21:38:54Z</td>\n",
       "      <td>Web Development</td>\n",
       "      <td>1</td>\n",
       "    </tr>\n",
       "    <tr>\n",
       "      <th>3671</th>\n",
       "      <td>667122</td>\n",
       "      <td>Build A Stock Downloader With Visual Studio 20...</td>\n",
       "      <td>https://www.udemy.com/csharpyahoostockdownloader/</td>\n",
       "      <td>20.0</td>\n",
       "      <td>436</td>\n",
       "      <td>36</td>\n",
       "      <td>22</td>\n",
       "      <td>Intermediate Level</td>\n",
       "      <td>1.500000</td>\n",
       "      <td>2015-11-19T17:22:47Z</td>\n",
       "      <td>Web Development</td>\n",
       "      <td>1</td>\n",
       "    </tr>\n",
       "    <tr>\n",
       "      <th>3673</th>\n",
       "      <td>775618</td>\n",
       "      <td>Learn jQuery from Scratch - Master of JavaScri...</td>\n",
       "      <td>https://www.udemy.com/easy-jquery-for-beginner...</td>\n",
       "      <td>100.0</td>\n",
       "      <td>1040</td>\n",
       "      <td>14</td>\n",
       "      <td>21</td>\n",
       "      <td>All Levels</td>\n",
       "      <td>2.000000</td>\n",
       "      <td>2016-06-14T17:36:46Z</td>\n",
       "      <td>Web Development</td>\n",
       "      <td>1</td>\n",
       "    </tr>\n",
       "    <tr>\n",
       "      <th>3674</th>\n",
       "      <td>1088178</td>\n",
       "      <td>How To Design A WordPress Website With No Codi...</td>\n",
       "      <td>https://www.udemy.com/how-to-make-a-wordpress-...</td>\n",
       "      <td>25.0</td>\n",
       "      <td>306</td>\n",
       "      <td>3</td>\n",
       "      <td>42</td>\n",
       "      <td>Beginner Level</td>\n",
       "      <td>3.500000</td>\n",
       "      <td>2017-03-10T22:24:30Z</td>\n",
       "      <td>Web Development</td>\n",
       "      <td>1</td>\n",
       "    </tr>\n",
       "    <tr>\n",
       "      <th>3675</th>\n",
       "      <td>635248</td>\n",
       "      <td>Learn and Build using Polymer</td>\n",
       "      <td>https://www.udemy.com/learn-and-build-using-po...</td>\n",
       "      <td>40.0</td>\n",
       "      <td>513</td>\n",
       "      <td>169</td>\n",
       "      <td>48</td>\n",
       "      <td>All Levels</td>\n",
       "      <td>3.500000</td>\n",
       "      <td>2015-12-30T16:41:42Z</td>\n",
       "      <td>Web Development</td>\n",
       "      <td>1</td>\n",
       "    </tr>\n",
       "    <tr>\n",
       "      <th>3676</th>\n",
       "      <td>905096</td>\n",
       "      <td>CSS Animations: Create Amazing Effects on Your...</td>\n",
       "      <td>https://www.udemy.com/css-animations-create-am...</td>\n",
       "      <td>50.0</td>\n",
       "      <td>300</td>\n",
       "      <td>31</td>\n",
       "      <td>38</td>\n",
       "      <td>All Levels</td>\n",
       "      <td>3.000000</td>\n",
       "      <td>2016-08-11T19:06:15Z</td>\n",
       "      <td>Web Development</td>\n",
       "      <td>1</td>\n",
       "    </tr>\n",
       "    <tr>\n",
       "      <th>3677</th>\n",
       "      <td>297602</td>\n",
       "      <td>Using MODX CMS to Build Websites: A Beginner's...</td>\n",
       "      <td>https://www.udemy.com/using-modx-cms-to-build-...</td>\n",
       "      <td>45.0</td>\n",
       "      <td>901</td>\n",
       "      <td>36</td>\n",
       "      <td>20</td>\n",
       "      <td>Beginner Level</td>\n",
       "      <td>2.000000</td>\n",
       "      <td>2014-09-28T19:51:11Z</td>\n",
       "      <td>Web Development</td>\n",
       "      <td>1</td>\n",
       "    </tr>\n",
       "  </tbody>\n",
       "</table>\n",
       "</div>"
      ],
      "text/plain": [
       "      course_id                                       course_title  \\\n",
       "3667     523216  The Fastest Way to Create a Website Using Godaddy   \n",
       "3668     270976                             A how to guide in HTML   \n",
       "3669     679992                  Building Better APIs with GraphQL   \n",
       "3670     330900  Learn Grunt with Examples: Automate Your Front...   \n",
       "3671     667122  Build A Stock Downloader With Visual Studio 20...   \n",
       "3673     775618  Learn jQuery from Scratch - Master of JavaScri...   \n",
       "3674    1088178  How To Design A WordPress Website With No Codi...   \n",
       "3675     635248                      Learn and Build using Polymer   \n",
       "3676     905096  CSS Animations: Create Amazing Effects on Your...   \n",
       "3677     297602  Using MODX CMS to Build Websites: A Beginner's...   \n",
       "\n",
       "                                                    url  price  \\\n",
       "3667     https://www.udemy.com/create-your-own-website/   30.0   \n",
       "3668      https://www.udemy.com/a-how-to-guide-in-html/    0.0   \n",
       "3669  https://www.udemy.com/building-better-apis-wit...   50.0   \n",
       "3670  https://www.udemy.com/learn-grunt-automate-you...   20.0   \n",
       "3671  https://www.udemy.com/csharpyahoostockdownloader/   20.0   \n",
       "3673  https://www.udemy.com/easy-jquery-for-beginner...  100.0   \n",
       "3674  https://www.udemy.com/how-to-make-a-wordpress-...   25.0   \n",
       "3675  https://www.udemy.com/learn-and-build-using-po...   40.0   \n",
       "3676  https://www.udemy.com/css-animations-create-am...   50.0   \n",
       "3677  https://www.udemy.com/using-modx-cms-to-build-...   45.0   \n",
       "\n",
       "      num_subscribers  num_reviews  num_lectures               level  \\\n",
       "3667             1454           14            12      Beginner Level   \n",
       "3668             7318          205             8      Beginner Level   \n",
       "3669              555           89            16          All Levels   \n",
       "3670              496          113            17          All Levels   \n",
       "3671              436           36            22  Intermediate Level   \n",
       "3673             1040           14            21          All Levels   \n",
       "3674              306            3            42      Beginner Level   \n",
       "3675              513          169            48          All Levels   \n",
       "3676              300           31            38          All Levels   \n",
       "3677              901           36            20      Beginner Level   \n",
       "\n",
       "      content_duration   published_timestamp          subject  is_paid  \n",
       "3667          0.500000  2015-11-09T20:44:25Z  Web Development        1  \n",
       "3668          0.583333  2014-08-10T20:19:10Z  Web Development        0  \n",
       "3669          2.500000  2015-11-29T22:02:02Z  Web Development        1  \n",
       "3670          1.000000  2014-12-19T21:38:54Z  Web Development        1  \n",
       "3671          1.500000  2015-11-19T17:22:47Z  Web Development        1  \n",
       "3673          2.000000  2016-06-14T17:36:46Z  Web Development        1  \n",
       "3674          3.500000  2017-03-10T22:24:30Z  Web Development        1  \n",
       "3675          3.500000  2015-12-30T16:41:42Z  Web Development        1  \n",
       "3676          3.000000  2016-08-11T19:06:15Z  Web Development        1  \n",
       "3677          2.000000  2014-09-28T19:51:11Z  Web Development        1  "
      ]
     },
     "execution_count": 154,
     "metadata": {},
     "output_type": "execute_result"
    }
   ],
   "source": [
    "data3.tail(10)"
   ]
  },
  {
   "cell_type": "markdown",
   "metadata": {},
   "source": [
    "### Training data and label data"
   ]
  },
  {
   "cell_type": "code",
   "execution_count": 155,
   "metadata": {},
   "outputs": [],
   "source": [
    "x_data=data3[[\"num_reviews\",\"num_subscribers\",\"num_lectures\",\"content_duration\"]]\n",
    "y_data=data3[\"is_paid\"]"
   ]
  },
  {
   "cell_type": "code",
   "execution_count": 156,
   "metadata": {},
   "outputs": [],
   "source": [
    "from sklearn.preprocessing import MinMaxScaler"
   ]
  },
  {
   "cell_type": "markdown",
   "metadata": {},
   "source": [
    "### Scaling training data using MinMaxScaler"
   ]
  },
  {
   "cell_type": "code",
   "execution_count": 157,
   "metadata": {},
   "outputs": [
    {
     "data": {
      "text/plain": [
       "array([[0.0026508 , 0.00474485, 0.29213483, 0.02857143],\n",
       "       [0.00812912, 0.03428863, 0.28089888, 0.04285714],\n",
       "       [0.01048539, 0.00572655, 0.29213483, 0.01428571],\n",
       "       ...,\n",
       "       [0.00995523, 0.00190761, 0.53932584, 0.05      ],\n",
       "       [0.00182611, 0.00111556, 0.42696629, 0.04285714],\n",
       "       [0.00212064, 0.0033504 , 0.2247191 , 0.02857143]])"
      ]
     },
     "execution_count": 157,
     "metadata": {},
     "output_type": "execute_result"
    }
   ],
   "source": [
    "scalar=MinMaxScaler()\n",
    "scalar.fit(x_data)\n",
    "new_data=scalar.transform(x_data)\n",
    "new_data"
   ]
  },
  {
   "cell_type": "code",
   "execution_count": null,
   "metadata": {},
   "outputs": [],
   "source": []
  },
  {
   "cell_type": "code",
   "execution_count": null,
   "metadata": {},
   "outputs": [],
   "source": []
  },
  {
   "cell_type": "markdown",
   "metadata": {},
   "source": [
    "# Prediction of number of subscribers"
   ]
  },
  {
   "cell_type": "markdown",
   "metadata": {},
   "source": [
    "## Taking part of dataset that contains numerical values"
   ]
  },
  {
   "cell_type": "code",
   "execution_count": 158,
   "metadata": {},
   "outputs": [
    {
     "data": {
      "text/html": [
       "<div>\n",
       "<style scoped>\n",
       "    .dataframe tbody tr th:only-of-type {\n",
       "        vertical-align: middle;\n",
       "    }\n",
       "\n",
       "    .dataframe tbody tr th {\n",
       "        vertical-align: top;\n",
       "    }\n",
       "\n",
       "    .dataframe thead th {\n",
       "        text-align: right;\n",
       "    }\n",
       "</style>\n",
       "<table border=\"1\" class=\"dataframe\">\n",
       "  <thead>\n",
       "    <tr style=\"text-align: right;\">\n",
       "      <th></th>\n",
       "      <th>num_subscribers</th>\n",
       "      <th>num_reviews</th>\n",
       "      <th>num_lectures</th>\n",
       "      <th>content_duration</th>\n",
       "      <th>is_paid</th>\n",
       "    </tr>\n",
       "  </thead>\n",
       "  <tbody>\n",
       "    <tr>\n",
       "      <th>4</th>\n",
       "      <td>1276</td>\n",
       "      <td>45</td>\n",
       "      <td>26</td>\n",
       "      <td>2.0</td>\n",
       "      <td>1</td>\n",
       "    </tr>\n",
       "    <tr>\n",
       "      <th>5</th>\n",
       "      <td>9221</td>\n",
       "      <td>138</td>\n",
       "      <td>25</td>\n",
       "      <td>3.0</td>\n",
       "      <td>1</td>\n",
       "    </tr>\n",
       "    <tr>\n",
       "      <th>6</th>\n",
       "      <td>1540</td>\n",
       "      <td>178</td>\n",
       "      <td>26</td>\n",
       "      <td>1.0</td>\n",
       "      <td>1</td>\n",
       "    </tr>\n",
       "    <tr>\n",
       "      <th>7</th>\n",
       "      <td>2917</td>\n",
       "      <td>148</td>\n",
       "      <td>23</td>\n",
       "      <td>2.5</td>\n",
       "      <td>1</td>\n",
       "    </tr>\n",
       "    <tr>\n",
       "      <th>8</th>\n",
       "      <td>5172</td>\n",
       "      <td>34</td>\n",
       "      <td>38</td>\n",
       "      <td>2.5</td>\n",
       "      <td>1</td>\n",
       "    </tr>\n",
       "    <tr>\n",
       "      <th>...</th>\n",
       "      <td>...</td>\n",
       "      <td>...</td>\n",
       "      <td>...</td>\n",
       "      <td>...</td>\n",
       "      <td>...</td>\n",
       "    </tr>\n",
       "    <tr>\n",
       "      <th>3673</th>\n",
       "      <td>1040</td>\n",
       "      <td>14</td>\n",
       "      <td>21</td>\n",
       "      <td>2.0</td>\n",
       "      <td>1</td>\n",
       "    </tr>\n",
       "    <tr>\n",
       "      <th>3674</th>\n",
       "      <td>306</td>\n",
       "      <td>3</td>\n",
       "      <td>42</td>\n",
       "      <td>3.5</td>\n",
       "      <td>1</td>\n",
       "    </tr>\n",
       "    <tr>\n",
       "      <th>3675</th>\n",
       "      <td>513</td>\n",
       "      <td>169</td>\n",
       "      <td>48</td>\n",
       "      <td>3.5</td>\n",
       "      <td>1</td>\n",
       "    </tr>\n",
       "    <tr>\n",
       "      <th>3676</th>\n",
       "      <td>300</td>\n",
       "      <td>31</td>\n",
       "      <td>38</td>\n",
       "      <td>3.0</td>\n",
       "      <td>1</td>\n",
       "    </tr>\n",
       "    <tr>\n",
       "      <th>3677</th>\n",
       "      <td>901</td>\n",
       "      <td>36</td>\n",
       "      <td>20</td>\n",
       "      <td>2.0</td>\n",
       "      <td>1</td>\n",
       "    </tr>\n",
       "  </tbody>\n",
       "</table>\n",
       "<p>3367 rows × 5 columns</p>\n",
       "</div>"
      ],
      "text/plain": [
       "      num_subscribers  num_reviews  num_lectures  content_duration  is_paid\n",
       "4                1276           45            26               2.0        1\n",
       "5                9221          138            25               3.0        1\n",
       "6                1540          178            26               1.0        1\n",
       "7                2917          148            23               2.5        1\n",
       "8                5172           34            38               2.5        1\n",
       "...               ...          ...           ...               ...      ...\n",
       "3673             1040           14            21               2.0        1\n",
       "3674              306            3            42               3.5        1\n",
       "3675              513          169            48               3.5        1\n",
       "3676              300           31            38               3.0        1\n",
       "3677              901           36            20               2.0        1\n",
       "\n",
       "[3367 rows x 5 columns]"
      ]
     },
     "execution_count": 158,
     "metadata": {},
     "output_type": "execute_result"
    }
   ],
   "source": [
    "data4=data3.drop([\"course_id\",\"course_title\",\"url\",\"price\",\"level\",\"published_timestamp\",\"subject\"],axis=1)\n",
    "data4"
   ]
  },
  {
   "cell_type": "markdown",
   "metadata": {},
   "source": [
    "## dividing dataset for training(first 3000 records) and testing(remaining 367 records)"
   ]
  },
  {
   "cell_type": "code",
   "execution_count": 159,
   "metadata": {},
   "outputs": [],
   "source": [
    "train=data4[0:2499]\n",
    "test=data4[2500:]"
   ]
  },
  {
   "cell_type": "code",
   "execution_count": 160,
   "metadata": {},
   "outputs": [
    {
     "data": {
      "text/html": [
       "<div>\n",
       "<style scoped>\n",
       "    .dataframe tbody tr th:only-of-type {\n",
       "        vertical-align: middle;\n",
       "    }\n",
       "\n",
       "    .dataframe tbody tr th {\n",
       "        vertical-align: top;\n",
       "    }\n",
       "\n",
       "    .dataframe thead th {\n",
       "        text-align: right;\n",
       "    }\n",
       "</style>\n",
       "<table border=\"1\" class=\"dataframe\">\n",
       "  <thead>\n",
       "    <tr style=\"text-align: right;\">\n",
       "      <th></th>\n",
       "      <th>num_subscribers</th>\n",
       "      <th>num_reviews</th>\n",
       "      <th>num_lectures</th>\n",
       "      <th>content_duration</th>\n",
       "      <th>is_paid</th>\n",
       "    </tr>\n",
       "  </thead>\n",
       "  <tbody>\n",
       "    <tr>\n",
       "      <th>4</th>\n",
       "      <td>1276</td>\n",
       "      <td>45</td>\n",
       "      <td>26</td>\n",
       "      <td>2.0</td>\n",
       "      <td>1</td>\n",
       "    </tr>\n",
       "    <tr>\n",
       "      <th>5</th>\n",
       "      <td>9221</td>\n",
       "      <td>138</td>\n",
       "      <td>25</td>\n",
       "      <td>3.0</td>\n",
       "      <td>1</td>\n",
       "    </tr>\n",
       "    <tr>\n",
       "      <th>6</th>\n",
       "      <td>1540</td>\n",
       "      <td>178</td>\n",
       "      <td>26</td>\n",
       "      <td>1.0</td>\n",
       "      <td>1</td>\n",
       "    </tr>\n",
       "    <tr>\n",
       "      <th>7</th>\n",
       "      <td>2917</td>\n",
       "      <td>148</td>\n",
       "      <td>23</td>\n",
       "      <td>2.5</td>\n",
       "      <td>1</td>\n",
       "    </tr>\n",
       "    <tr>\n",
       "      <th>8</th>\n",
       "      <td>5172</td>\n",
       "      <td>34</td>\n",
       "      <td>38</td>\n",
       "      <td>2.5</td>\n",
       "      <td>1</td>\n",
       "    </tr>\n",
       "    <tr>\n",
       "      <th>...</th>\n",
       "      <td>...</td>\n",
       "      <td>...</td>\n",
       "      <td>...</td>\n",
       "      <td>...</td>\n",
       "      <td>...</td>\n",
       "    </tr>\n",
       "    <tr>\n",
       "      <th>2670</th>\n",
       "      <td>7867</td>\n",
       "      <td>147</td>\n",
       "      <td>23</td>\n",
       "      <td>3.0</td>\n",
       "      <td>1</td>\n",
       "    </tr>\n",
       "    <tr>\n",
       "      <th>2671</th>\n",
       "      <td>8594</td>\n",
       "      <td>37</td>\n",
       "      <td>18</td>\n",
       "      <td>2.0</td>\n",
       "      <td>1</td>\n",
       "    </tr>\n",
       "    <tr>\n",
       "      <th>2672</th>\n",
       "      <td>1892</td>\n",
       "      <td>147</td>\n",
       "      <td>24</td>\n",
       "      <td>2.5</td>\n",
       "      <td>1</td>\n",
       "    </tr>\n",
       "    <tr>\n",
       "      <th>2673</th>\n",
       "      <td>3960</td>\n",
       "      <td>220</td>\n",
       "      <td>47</td>\n",
       "      <td>4.5</td>\n",
       "      <td>1</td>\n",
       "    </tr>\n",
       "    <tr>\n",
       "      <th>2674</th>\n",
       "      <td>10518</td>\n",
       "      <td>129</td>\n",
       "      <td>57</td>\n",
       "      <td>4.5</td>\n",
       "      <td>1</td>\n",
       "    </tr>\n",
       "  </tbody>\n",
       "</table>\n",
       "<p>2499 rows × 5 columns</p>\n",
       "</div>"
      ],
      "text/plain": [
       "      num_subscribers  num_reviews  num_lectures  content_duration  is_paid\n",
       "4                1276           45            26               2.0        1\n",
       "5                9221          138            25               3.0        1\n",
       "6                1540          178            26               1.0        1\n",
       "7                2917          148            23               2.5        1\n",
       "8                5172           34            38               2.5        1\n",
       "...               ...          ...           ...               ...      ...\n",
       "2670             7867          147            23               3.0        1\n",
       "2671             8594           37            18               2.0        1\n",
       "2672             1892          147            24               2.5        1\n",
       "2673             3960          220            47               4.5        1\n",
       "2674            10518          129            57               4.5        1\n",
       "\n",
       "[2499 rows x 5 columns]"
      ]
     },
     "execution_count": 160,
     "metadata": {},
     "output_type": "execute_result"
    }
   ],
   "source": [
    "train"
   ]
  },
  {
   "cell_type": "code",
   "execution_count": 161,
   "metadata": {
    "scrolled": true
   },
   "outputs": [
    {
     "data": {
      "text/html": [
       "<div>\n",
       "<style scoped>\n",
       "    .dataframe tbody tr th:only-of-type {\n",
       "        vertical-align: middle;\n",
       "    }\n",
       "\n",
       "    .dataframe tbody tr th {\n",
       "        vertical-align: top;\n",
       "    }\n",
       "\n",
       "    .dataframe thead th {\n",
       "        text-align: right;\n",
       "    }\n",
       "</style>\n",
       "<table border=\"1\" class=\"dataframe\">\n",
       "  <thead>\n",
       "    <tr style=\"text-align: right;\">\n",
       "      <th></th>\n",
       "      <th>num_subscribers</th>\n",
       "      <th>num_reviews</th>\n",
       "      <th>num_lectures</th>\n",
       "      <th>content_duration</th>\n",
       "      <th>is_paid</th>\n",
       "    </tr>\n",
       "  </thead>\n",
       "  <tbody>\n",
       "    <tr>\n",
       "      <th>2676</th>\n",
       "      <td>1023</td>\n",
       "      <td>118</td>\n",
       "      <td>38</td>\n",
       "      <td>6.0</td>\n",
       "      <td>1</td>\n",
       "    </tr>\n",
       "    <tr>\n",
       "      <th>2677</th>\n",
       "      <td>3392</td>\n",
       "      <td>29</td>\n",
       "      <td>19</td>\n",
       "      <td>1.5</td>\n",
       "      <td>1</td>\n",
       "    </tr>\n",
       "    <tr>\n",
       "      <th>2678</th>\n",
       "      <td>7213</td>\n",
       "      <td>50</td>\n",
       "      <td>38</td>\n",
       "      <td>3.0</td>\n",
       "      <td>1</td>\n",
       "    </tr>\n",
       "    <tr>\n",
       "      <th>2679</th>\n",
       "      <td>4183</td>\n",
       "      <td>231</td>\n",
       "      <td>86</td>\n",
       "      <td>14.0</td>\n",
       "      <td>1</td>\n",
       "    </tr>\n",
       "    <tr>\n",
       "      <th>2680</th>\n",
       "      <td>25854</td>\n",
       "      <td>306</td>\n",
       "      <td>17</td>\n",
       "      <td>2.0</td>\n",
       "      <td>1</td>\n",
       "    </tr>\n",
       "    <tr>\n",
       "      <th>...</th>\n",
       "      <td>...</td>\n",
       "      <td>...</td>\n",
       "      <td>...</td>\n",
       "      <td>...</td>\n",
       "      <td>...</td>\n",
       "    </tr>\n",
       "    <tr>\n",
       "      <th>3673</th>\n",
       "      <td>1040</td>\n",
       "      <td>14</td>\n",
       "      <td>21</td>\n",
       "      <td>2.0</td>\n",
       "      <td>1</td>\n",
       "    </tr>\n",
       "    <tr>\n",
       "      <th>3674</th>\n",
       "      <td>306</td>\n",
       "      <td>3</td>\n",
       "      <td>42</td>\n",
       "      <td>3.5</td>\n",
       "      <td>1</td>\n",
       "    </tr>\n",
       "    <tr>\n",
       "      <th>3675</th>\n",
       "      <td>513</td>\n",
       "      <td>169</td>\n",
       "      <td>48</td>\n",
       "      <td>3.5</td>\n",
       "      <td>1</td>\n",
       "    </tr>\n",
       "    <tr>\n",
       "      <th>3676</th>\n",
       "      <td>300</td>\n",
       "      <td>31</td>\n",
       "      <td>38</td>\n",
       "      <td>3.0</td>\n",
       "      <td>1</td>\n",
       "    </tr>\n",
       "    <tr>\n",
       "      <th>3677</th>\n",
       "      <td>901</td>\n",
       "      <td>36</td>\n",
       "      <td>20</td>\n",
       "      <td>2.0</td>\n",
       "      <td>1</td>\n",
       "    </tr>\n",
       "  </tbody>\n",
       "</table>\n",
       "<p>867 rows × 5 columns</p>\n",
       "</div>"
      ],
      "text/plain": [
       "      num_subscribers  num_reviews  num_lectures  content_duration  is_paid\n",
       "2676             1023          118            38               6.0        1\n",
       "2677             3392           29            19               1.5        1\n",
       "2678             7213           50            38               3.0        1\n",
       "2679             4183          231            86              14.0        1\n",
       "2680            25854          306            17               2.0        1\n",
       "...               ...          ...           ...               ...      ...\n",
       "3673             1040           14            21               2.0        1\n",
       "3674              306            3            42               3.5        1\n",
       "3675              513          169            48               3.5        1\n",
       "3676              300           31            38               3.0        1\n",
       "3677              901           36            20               2.0        1\n",
       "\n",
       "[867 rows x 5 columns]"
      ]
     },
     "execution_count": 161,
     "metadata": {},
     "output_type": "execute_result"
    }
   ],
   "source": [
    "test"
   ]
  },
  {
   "cell_type": "markdown",
   "metadata": {},
   "source": [
    "## The target column is is_paid "
   ]
  },
  {
   "cell_type": "code",
   "execution_count": 162,
   "metadata": {},
   "outputs": [],
   "source": [
    "x_train=train.drop(\"num_subscribers\",axis=1)\n",
    "y_train=train[\"num_subscribers\"]"
   ]
  },
  {
   "cell_type": "code",
   "execution_count": 163,
   "metadata": {},
   "outputs": [
    {
     "data": {
      "text/html": [
       "<div>\n",
       "<style scoped>\n",
       "    .dataframe tbody tr th:only-of-type {\n",
       "        vertical-align: middle;\n",
       "    }\n",
       "\n",
       "    .dataframe tbody tr th {\n",
       "        vertical-align: top;\n",
       "    }\n",
       "\n",
       "    .dataframe thead th {\n",
       "        text-align: right;\n",
       "    }\n",
       "</style>\n",
       "<table border=\"1\" class=\"dataframe\">\n",
       "  <thead>\n",
       "    <tr style=\"text-align: right;\">\n",
       "      <th></th>\n",
       "      <th>num_reviews</th>\n",
       "      <th>num_lectures</th>\n",
       "      <th>content_duration</th>\n",
       "      <th>is_paid</th>\n",
       "    </tr>\n",
       "  </thead>\n",
       "  <tbody>\n",
       "    <tr>\n",
       "      <th>4</th>\n",
       "      <td>45</td>\n",
       "      <td>26</td>\n",
       "      <td>2.0</td>\n",
       "      <td>1</td>\n",
       "    </tr>\n",
       "    <tr>\n",
       "      <th>5</th>\n",
       "      <td>138</td>\n",
       "      <td>25</td>\n",
       "      <td>3.0</td>\n",
       "      <td>1</td>\n",
       "    </tr>\n",
       "    <tr>\n",
       "      <th>6</th>\n",
       "      <td>178</td>\n",
       "      <td>26</td>\n",
       "      <td>1.0</td>\n",
       "      <td>1</td>\n",
       "    </tr>\n",
       "    <tr>\n",
       "      <th>7</th>\n",
       "      <td>148</td>\n",
       "      <td>23</td>\n",
       "      <td>2.5</td>\n",
       "      <td>1</td>\n",
       "    </tr>\n",
       "    <tr>\n",
       "      <th>8</th>\n",
       "      <td>34</td>\n",
       "      <td>38</td>\n",
       "      <td>2.5</td>\n",
       "      <td>1</td>\n",
       "    </tr>\n",
       "    <tr>\n",
       "      <th>...</th>\n",
       "      <td>...</td>\n",
       "      <td>...</td>\n",
       "      <td>...</td>\n",
       "      <td>...</td>\n",
       "    </tr>\n",
       "    <tr>\n",
       "      <th>2670</th>\n",
       "      <td>147</td>\n",
       "      <td>23</td>\n",
       "      <td>3.0</td>\n",
       "      <td>1</td>\n",
       "    </tr>\n",
       "    <tr>\n",
       "      <th>2671</th>\n",
       "      <td>37</td>\n",
       "      <td>18</td>\n",
       "      <td>2.0</td>\n",
       "      <td>1</td>\n",
       "    </tr>\n",
       "    <tr>\n",
       "      <th>2672</th>\n",
       "      <td>147</td>\n",
       "      <td>24</td>\n",
       "      <td>2.5</td>\n",
       "      <td>1</td>\n",
       "    </tr>\n",
       "    <tr>\n",
       "      <th>2673</th>\n",
       "      <td>220</td>\n",
       "      <td>47</td>\n",
       "      <td>4.5</td>\n",
       "      <td>1</td>\n",
       "    </tr>\n",
       "    <tr>\n",
       "      <th>2674</th>\n",
       "      <td>129</td>\n",
       "      <td>57</td>\n",
       "      <td>4.5</td>\n",
       "      <td>1</td>\n",
       "    </tr>\n",
       "  </tbody>\n",
       "</table>\n",
       "<p>2499 rows × 4 columns</p>\n",
       "</div>"
      ],
      "text/plain": [
       "      num_reviews  num_lectures  content_duration  is_paid\n",
       "4              45            26               2.0        1\n",
       "5             138            25               3.0        1\n",
       "6             178            26               1.0        1\n",
       "7             148            23               2.5        1\n",
       "8              34            38               2.5        1\n",
       "...           ...           ...               ...      ...\n",
       "2670          147            23               3.0        1\n",
       "2671           37            18               2.0        1\n",
       "2672          147            24               2.5        1\n",
       "2673          220            47               4.5        1\n",
       "2674          129            57               4.5        1\n",
       "\n",
       "[2499 rows x 4 columns]"
      ]
     },
     "execution_count": 163,
     "metadata": {},
     "output_type": "execute_result"
    }
   ],
   "source": [
    "x_train"
   ]
  },
  {
   "cell_type": "code",
   "execution_count": 164,
   "metadata": {},
   "outputs": [
    {
     "data": {
      "text/plain": [
       "4        1276\n",
       "5        9221\n",
       "6        1540\n",
       "7        2917\n",
       "8        5172\n",
       "        ...  \n",
       "2670     7867\n",
       "2671     8594\n",
       "2672     1892\n",
       "2673     3960\n",
       "2674    10518\n",
       "Name: num_subscribers, Length: 2499, dtype: int64"
      ]
     },
     "execution_count": 164,
     "metadata": {},
     "output_type": "execute_result"
    }
   ],
   "source": [
    "y_train"
   ]
  },
  {
   "cell_type": "markdown",
   "metadata": {},
   "source": [
    "## The target variable is removed from test data"
   ]
  },
  {
   "cell_type": "code",
   "execution_count": 165,
   "metadata": {},
   "outputs": [
    {
     "data": {
      "text/html": [
       "<div>\n",
       "<style scoped>\n",
       "    .dataframe tbody tr th:only-of-type {\n",
       "        vertical-align: middle;\n",
       "    }\n",
       "\n",
       "    .dataframe tbody tr th {\n",
       "        vertical-align: top;\n",
       "    }\n",
       "\n",
       "    .dataframe thead th {\n",
       "        text-align: right;\n",
       "    }\n",
       "</style>\n",
       "<table border=\"1\" class=\"dataframe\">\n",
       "  <thead>\n",
       "    <tr style=\"text-align: right;\">\n",
       "      <th></th>\n",
       "      <th>num_reviews</th>\n",
       "      <th>num_lectures</th>\n",
       "      <th>content_duration</th>\n",
       "      <th>is_paid</th>\n",
       "    </tr>\n",
       "  </thead>\n",
       "  <tbody>\n",
       "    <tr>\n",
       "      <th>2676</th>\n",
       "      <td>118</td>\n",
       "      <td>38</td>\n",
       "      <td>6.0</td>\n",
       "      <td>1</td>\n",
       "    </tr>\n",
       "    <tr>\n",
       "      <th>2677</th>\n",
       "      <td>29</td>\n",
       "      <td>19</td>\n",
       "      <td>1.5</td>\n",
       "      <td>1</td>\n",
       "    </tr>\n",
       "    <tr>\n",
       "      <th>2678</th>\n",
       "      <td>50</td>\n",
       "      <td>38</td>\n",
       "      <td>3.0</td>\n",
       "      <td>1</td>\n",
       "    </tr>\n",
       "    <tr>\n",
       "      <th>2679</th>\n",
       "      <td>231</td>\n",
       "      <td>86</td>\n",
       "      <td>14.0</td>\n",
       "      <td>1</td>\n",
       "    </tr>\n",
       "    <tr>\n",
       "      <th>2680</th>\n",
       "      <td>306</td>\n",
       "      <td>17</td>\n",
       "      <td>2.0</td>\n",
       "      <td>1</td>\n",
       "    </tr>\n",
       "    <tr>\n",
       "      <th>...</th>\n",
       "      <td>...</td>\n",
       "      <td>...</td>\n",
       "      <td>...</td>\n",
       "      <td>...</td>\n",
       "    </tr>\n",
       "    <tr>\n",
       "      <th>3673</th>\n",
       "      <td>14</td>\n",
       "      <td>21</td>\n",
       "      <td>2.0</td>\n",
       "      <td>1</td>\n",
       "    </tr>\n",
       "    <tr>\n",
       "      <th>3674</th>\n",
       "      <td>3</td>\n",
       "      <td>42</td>\n",
       "      <td>3.5</td>\n",
       "      <td>1</td>\n",
       "    </tr>\n",
       "    <tr>\n",
       "      <th>3675</th>\n",
       "      <td>169</td>\n",
       "      <td>48</td>\n",
       "      <td>3.5</td>\n",
       "      <td>1</td>\n",
       "    </tr>\n",
       "    <tr>\n",
       "      <th>3676</th>\n",
       "      <td>31</td>\n",
       "      <td>38</td>\n",
       "      <td>3.0</td>\n",
       "      <td>1</td>\n",
       "    </tr>\n",
       "    <tr>\n",
       "      <th>3677</th>\n",
       "      <td>36</td>\n",
       "      <td>20</td>\n",
       "      <td>2.0</td>\n",
       "      <td>1</td>\n",
       "    </tr>\n",
       "  </tbody>\n",
       "</table>\n",
       "<p>867 rows × 4 columns</p>\n",
       "</div>"
      ],
      "text/plain": [
       "      num_reviews  num_lectures  content_duration  is_paid\n",
       "2676          118            38               6.0        1\n",
       "2677           29            19               1.5        1\n",
       "2678           50            38               3.0        1\n",
       "2679          231            86              14.0        1\n",
       "2680          306            17               2.0        1\n",
       "...           ...           ...               ...      ...\n",
       "3673           14            21               2.0        1\n",
       "3674            3            42               3.5        1\n",
       "3675          169            48               3.5        1\n",
       "3676           31            38               3.0        1\n",
       "3677           36            20               2.0        1\n",
       "\n",
       "[867 rows x 4 columns]"
      ]
     },
     "execution_count": 165,
     "metadata": {},
     "output_type": "execute_result"
    }
   ],
   "source": [
    "x_test=test.drop(\"num_subscribers\",axis=1)\n",
    "x_test"
   ]
  },
  {
   "cell_type": "markdown",
   "metadata": {},
   "source": [
    "## Target variable is saved separately to check the accuracy of predictions finally"
   ]
  },
  {
   "cell_type": "code",
   "execution_count": 166,
   "metadata": {},
   "outputs": [
    {
     "data": {
      "text/plain": [
       "2676     1023\n",
       "2677     3392\n",
       "2678     7213\n",
       "2679     4183\n",
       "2680    25854\n",
       "        ...  \n",
       "3673     1040\n",
       "3674      306\n",
       "3675      513\n",
       "3676      300\n",
       "3677      901\n",
       "Name: num_subscribers, Length: 867, dtype: int64"
      ]
     },
     "execution_count": 166,
     "metadata": {},
     "output_type": "execute_result"
    }
   ],
   "source": [
    "true_data=test[\"num_subscribers\"]\n",
    "true_data"
   ]
  },
  {
   "cell_type": "markdown",
   "metadata": {},
   "source": [
    "## Linear Regression"
   ]
  },
  {
   "cell_type": "code",
   "execution_count": 167,
   "metadata": {},
   "outputs": [],
   "source": [
    "from sklearn.linear_model import LinearRegression\n",
    "linear_regression=LinearRegression()"
   ]
  },
  {
   "cell_type": "code",
   "execution_count": 168,
   "metadata": {},
   "outputs": [
    {
     "data": {
      "text/plain": [
       "LinearRegression()"
      ]
     },
     "execution_count": 168,
     "metadata": {},
     "output_type": "execute_result"
    }
   ],
   "source": [
    "linear_regression.fit(x_train,y_train)"
   ]
  },
  {
   "cell_type": "markdown",
   "metadata": {},
   "source": [
    "## Prediction"
   ]
  },
  {
   "cell_type": "code",
   "execution_count": 169,
   "metadata": {},
   "outputs": [
    {
     "data": {
      "text/plain": [
       "array([  2617.45795872,   1186.76824489,   1622.32073706,   4547.94375245,\n",
       "         5578.10581717,   3111.5755388 ,    956.6645328 ,   1299.54233527,\n",
       "         2101.46603623,   5468.32853542,    756.80542161,    967.58408348,\n",
       "         3600.52913671,   4798.28136147,   1076.32722765,   1144.8565378 ,\n",
       "          846.48831358,    844.92457999,   6045.97118537,  11352.52111233,\n",
       "        30537.95320316,   8913.99119264,   2768.8033404 ,  10866.63464039,\n",
       "         6900.95913628,   1433.77837357,   7123.00596686,  11674.75314496,\n",
       "         3715.28476855,   3350.47228246,   1323.44971175,  10965.65366266,\n",
       "          977.31531354,    975.72039524,   4585.45119761,   1104.1063564 ,\n",
       "         3645.45652283,   4845.27993636,   1178.10796913,   8951.46473471,\n",
       "        10471.8708868 ,   1132.25588722,   5106.61846203,   1185.86650633,\n",
       "         8461.96629762,   1038.0375075 ,   4549.3668057 ,   3109.85087081,\n",
       "         2161.79604408,   3119.73127302,   2130.38991751,   4124.45229304,\n",
       "          844.15022954,    978.99140255,   1202.47130817,    869.8493209 ,\n",
       "         1877.9911415 ,   3609.8699211 ,    872.9517336 ,   1789.99436034,\n",
       "          991.20487791,    979.38358867,    988.62203944,   4109.57717008,\n",
       "         4109.78837822,    844.92457999,   1614.81478054,   4870.17077418,\n",
       "         1077.62115234,   1531.58693438,   1314.85822333,   1460.07758874,\n",
       "         1193.51943946,   2353.76421906,   1567.9407784 ,   4518.87243948,\n",
       "         1082.95103412,   2255.89705748,   1539.14428524,   1383.01539094,\n",
       "         1052.05445998,  18689.85975819,   1318.25723988,   1261.04422234,\n",
       "        43835.51248616,  97303.79557412,    857.78501769,   1479.81660912,\n",
       "         1351.21206735,   3759.91636721,   1994.79617808,   1091.63810482,\n",
       "          998.18906466,   3205.5391423 ,   1145.40290697,   1427.36577524,\n",
       "         1026.1106142 ,   1482.79664461,   1600.64082966,    970.29932095,\n",
       "         1047.78551071,   7352.3253067 ,   8594.85155092,   4393.49769852,\n",
       "         1297.47406013,   1396.35858614,   8038.61224812,   1432.96219549,\n",
       "         1025.84581619,   1064.39532345,  18489.85111805,   2484.45707956,\n",
       "         1285.28737971,   2752.03934461,   2160.39651533,   1185.34693209,\n",
       "         2856.89069295,   1081.77948665, 140372.33355715,   1840.59814902,\n",
       "         9848.14853047,   5137.14499088,   2446.67190095,   1126.95781127,\n",
       "          850.64163699,   8321.27776586,  14773.27114769,   2535.44804346,\n",
       "         2148.46962202,    956.40975658,   1451.12572003,   1569.10230408,\n",
       "         2860.83106777,   2348.17455017,   1851.45800179,   2496.10915306,\n",
       "         1485.51188209,   1597.27862984,   5470.27443334,   4395.19091748,\n",
       "         1265.94054545,   1231.27281223,    979.51097678,    672.00286679,\n",
       "         3501.01651876,    812.74410296,   1823.62795599,   1638.12940442,\n",
       "          749.14747758,    981.58254455,   1373.92611232,   3244.60216138,\n",
       "         1090.34919103,    780.94579027,    888.93135714,   1285.04262529,\n",
       "          826.24649211,   1236.23229193,   1389.88896273,   1161.85352577,\n",
       "         1081.39231142,   1722.88135208,   1227.6458144 ,   1483.95817029,\n",
       "          953.5621201 ,    938.11383303,    750.31401415,   1465.79464575,\n",
       "         1828.77685978,   1433.87395584,   1290.34571213,   1205.57873177,\n",
       "          930.32850089,    963.68052538,   1337.86245293,   1064.39532345,\n",
       "         6657.64462799,   1323.16814059,   1450.09158246,   1043.75456451,\n",
       "         3413.26740566,    919.17595804,   1081.39231142,   1459.81780163,\n",
       "         1953.3722394 ,   1720.94046506,    972.6273832 ,   1639.44511314,\n",
       "         1917.17758932,   2390.60583148,    772.76827201,   3031.32052169,\n",
       "         1480.07639624,   1327.1990868 ,   1187.80238245,   3288.53461614,\n",
       "         1148.21873762,   1333.95529226,   3516.44266498,   5399.43383409,\n",
       "         1158.36894874,   3034.8636995 ,   2267.17698844,   6494.62922648,\n",
       "         1203.66965058,   4142.14016824,    882.82712491,   2230.84993935,\n",
       "         1450.37816452,   6482.76312817,   1042.51642393,    952.65537064,\n",
       "          835.43963434,   2643.69339745,    837.01185974,    914.75783661,\n",
       "         1002.22502175,    922.80295587,   1235.30375843,   7020.99898456,\n",
       "         1282.15817207,   1178.72312563,   1363.13896065,    964.58226395,\n",
       "         2295.87789933,   1708.88618364,   1530.84940066,   2506.40853633,\n",
       "         2698.5761572 ,   4921.46509329,   1646.23861134,   1209.38169669,\n",
       "         1690.74945404,   1009.23600344,   1595.43833599,   1322.26139114,\n",
       "         1983.87662741,   6850.26546515,   1488.23714136,   1873.44062107,\n",
       "         1361.45284985,   2327.279015  ,   1019.86897206,   9356.2751926 ,\n",
       "          734.09137663,  18420.25419312,   1131.69071673,   4022.33159386,\n",
       "         1084.36733601,   2907.90845179,   4265.92729431,   1111.12735988,\n",
       "         3032.87924439,    836.61967362,    930.06871378,   1324.20227816,\n",
       "         1648.64500672,   1093.96616707,   2552.94957297,    955.54609793,\n",
       "         2901.03488001,   4013.51348562,  20294.56189411,   3059.62423556,\n",
       "         2111.45204251,   1165.24252053,    774.96894615,   1288.91437754,\n",
       "         1136.55163143,   1266.14142188,   4769.33533936,    740.7151831 ,\n",
       "         1078.41728683,   1571.81754155,   1271.13802822,   1539.1174903 ,\n",
       "         2173.35079485,   2432.80412062,   1192.09812667,   1554.98475843,\n",
       "         1900.0314292 ,   3125.05614391,   1584.93275547,    900.0839    ,\n",
       "         3445.83505791,   1612.5945179 ,   5491.54037059,   2294.70134096,\n",
       "         1617.80202247,   7974.78263055,   2201.37968891,   4409.47732206,\n",
       "         1247.6446219 ,   3182.64411934,   3451.93929014,   4508.85462737,\n",
       "         2326.61026862,   3534.24580924,   4445.26301288,   5297.01114117,\n",
       "         2539.34157976,   1443.21299978,    938.76079537,   7155.47512319,\n",
       "         2394.38026101,   1146.69683166,    981.34451928,   1966.88465034,\n",
       "         2320.52280953,    733.83158952,    897.88823675,   7625.43415315,\n",
       "         4200.01472572,   1424.27512479,    852.11105149,    682.31525329,\n",
       "         1054.38753313,   1184.8591637 ,   1298.12603337,   1358.49285795,\n",
       "         1133.56985549,    756.83581912,   1726.78992107,   2094.70403268,\n",
       "         1560.79739771,   1195.7201136 ,   2906.72514208,   1248.29158424,\n",
       "         1536.69384577,   2268.62509617,   2883.62893277,   2059.00795998,\n",
       "         1538.59791607,   5829.24073387,   1496.43143276,   2559.83316655,\n",
       "         4319.80946278,   1564.8333548 ,   1634.37501848,   9361.96836831,\n",
       "         2531.29646051,   2247.97431543,   2137.92047343,   2532.48979202,\n",
       "         1165.76898997,    966.01860943,   1799.33340427,   1748.7365108 ,\n",
       "          818.58854808,   3092.56730079,   1292.9285506 ,   2479.27135903,\n",
       "         7381.26596112,   1041.68127848,   7824.86357255,   1484.88670379,\n",
       "         1196.62686306,   2464.83041459,   3128.0361794 ,   1042.9969872 ,\n",
       "         1357.96326192,   1090.22180292,    895.83955012,   1050.11858386,\n",
       "          947.06570174,   1184.18039552,   1643.32688719,   1220.3800565 ,\n",
       "         2786.29811856,   6309.439041  ,   2126.90534048,   4214.94343856,\n",
       "         6399.24431019,   1215.7435205 ,   1335.90119019,   9254.39385796,\n",
       "         3170.47456886,   1432.92599989,    882.43994969,   2702.35907853,\n",
       "         2223.44677154,  10340.87968201,  10056.13949458,   3080.2700054 ,\n",
       "        12348.18967047,   1594.1444113 ,   1675.3899979 ,   6749.27515834,\n",
       "         1032.47964444,    687.10957488,    997.02753898,    939.54015672,\n",
       "         1495.31127963,   1521.47353999,    851.60918145,   1638.41598647,\n",
       "         1833.74135038,   1039.87279046,   2250.48836657,   1983.49446308,\n",
       "        28316.61797887,   9221.54427776,   6750.16012376,  11849.3253945 ,\n",
       "          933.30352548,  16374.5756063 ,  10632.36758309,   7401.79436465,\n",
       "         3725.28043983,   3383.27758098,   3716.30177617,   2728.54092739,\n",
       "          688.40349957,   1028.04649033,   1313.43691053,   1108.8948799 ,\n",
       "         1792.22684031,   1369.63036811,    974.59506516,   1040.76777767,\n",
       "         1939.89664519,    838.56056064,   1228.81736187,    940.05472006,\n",
       "         1270.72405806,   1463.20679638,   1888.10954679,   2459.78711487,\n",
       "         2935.71473228,   5091.19560844,   1913.96957255,   4864.58611618,\n",
       "         6907.45054373,   2264.58913907,   1381.20690292,  11037.81963563,\n",
       "         7837.85139836,  13489.62396319,   9231.93249195,   2780.47044659,\n",
       "         1103.07722973,   1763.79072744,   1233.64945346,   1132.51567433,\n",
       "         2436.95570358,   1162.76528613,   1807.25614632,   1036.3513967 ,\n",
       "         2080.82026639,    785.75029974,  32179.64956013,  50945.58759146,\n",
       "         4599.35543787,   3531.1115907 ,   1059.97219113,   5380.21438794,\n",
       "         5631.06947393,   2143.1179562 ,   1354.06471473,   2454.33485588,\n",
       "         1122.82126101,  45620.74710864,   1108.50770468,   1242.70191535,\n",
       "         4819.32397153,  17229.32264049,  11573.34020315,   2344.27600297,\n",
       "         1234.40201987,  44500.75973116,   1930.4034182 ,   1623.61967264,\n",
       "         7020.11437595,   7720.14672048,   1611.78836161, 185683.72211023,\n",
       "       271913.4962905 ,  31104.41651531, 114283.84317201,  44191.88556962,\n",
       "         2918.67575063,   4058.03017201,   2904.13228181,   1239.60952444,\n",
       "         1671.11102683,   1048.02179552,   1229.22632114,   1137.21362646,\n",
       "         1068.92405984,   1777.92330578,   1022.35622826,    769.14048699,\n",
       "          997.2873261 ,   2022.79152586,    725.78647026,   4846.89444316,\n",
       "         1765.46681645,    969.5014682 ,    913.46892283,    715.74656419,\n",
       "         1069.59280623,   1302.54916569,   3526.82586828,   1360.45051812,\n",
       "         1639.57577169,   1441.7327763 ,  12586.87520599,   2959.32340766,\n",
       "         1249.97268415,  76146.53239524,  17755.84192752,  22339.24826796,\n",
       "         1595.82551121,   8931.6422511 ,   2140.26356837,   4282.15703998,\n",
       "          859.4661176 ,   5112.09787276,   2210.98854176,    827.6678049 ,\n",
       "         1338.09184253,    956.01757046,   1085.6612607 ,   1179.8896622 ,\n",
       "         4588.71280426,   3539.30623891,   1441.4262958 ,   4896.27591117,\n",
       "         1580.12745882,   2019.16452803,   3150.34837325,   1665.43078656,\n",
       "         8628.99505581,  13922.84373902,   4831.90994623,   1012.34342704,\n",
       "         2918.95073648,    843.37587908,  19909.7875833 ,   3501.27129498,\n",
       "         5599.02850407,   5373.86749854,   2738.32574733,   4841.58555824,\n",
       "        93152.425343  ,   2145.58342835,  36195.52199091,   3696.0699765 ,\n",
       "         2872.22872185,   4841.50376638,   1149.02489391,   1147.57678618,\n",
       "         1571.30297822,   1147.44438717,   8156.73335022,   1296.70472058,\n",
       "          708.44539787,   1002.99937221,   1381.17008619,   3031.87900991,\n",
       "         1636.60749845,   3004.35465739,   1738.84921338,   1032.46962265,\n",
       "         1224.43779763,    897.88322586,   3076.26585414,   1307.46006641,\n",
       "         1104.1063564 ,   2102.75495002,   6509.17076409,   1225.09478177,\n",
       "         6572.64000136,    861.79417985,   1178.35193636,   3780.55748295,\n",
       "         2283.553809  ,  11348.89447131,   1338.5058127 ,  34011.63508945,\n",
       "         1036.89776587,   1023.25796682,   1550.81139143,    883.86126248,\n",
       "         1140.82058071,    948.75181255,   1090.50337408,    907.48205691,\n",
       "         4193.00374403,    742.13649589,   4872.65511674,   2295.22418564,\n",
       "         5340.77526116,    907.3546688 ,    787.70199574,   1853.0428761 ,\n",
       "          945.77678796,  91890.82381388,   4432.18671294,   4234.0354966 ,\n",
       "         9190.41506825,   1739.67715371,    885.41497428,   1099.5826309 ,\n",
       "          914.4930386 ,   3548.13537361,   1076.84179099,   1306.81310407,\n",
       "         1000.41653374,   1075.02829207,   4050.10533272,   1147.05721194,\n",
       "         1883.5808104 ,   5532.84193206,   2669.25507891,    941.34864474,\n",
       "         3134.75382768,   1696.28553306,   1305.26440317,   1838.14269866,\n",
       "         3095.95128465,   1248.93854659,   1744.05671795,   1403.62935495,\n",
       "          970.17193284,   1242.96170246,    915.65957517,   1023.75403875,\n",
       "         2736.72345655,   7461.3521193 ,   1719.51915227,   1057.11875657,\n",
       "         1235.69093366,   1730.54931791,    898.40280009,    726.17364549,\n",
       "         1085.42826852,   5415.3920304 ,   8601.78408028,   2984.4882489 ,\n",
       "          813.90562864,   2123.66551787,   1345.88719647,   1135.13031864,\n",
       "         1029.75438517,   6082.58016242,   1542.37408605,   2794.61805763,\n",
       "          763.49002307,   3325.94473857,    940.18711906,   6532.27198429,\n",
       "         1521.34615188,   1291.23742889,   1483.31120795,    984.38207933,\n",
       "          849.02133208,   6077.26705378,   1410.5615275 ,   3763.67075315,\n",
       "         1961.54975766,   1141.37196077,   1655.79513877,   1095.03211047,\n",
       "         3628.3100059 ,    920.97268381,   2009.17852175,   1647.36284429,\n",
       "         2169.45398811,   1071.79348037,   7302.52476067,  10955.9224326 ,\n",
       "         5408.89561204,    974.71069103,   9048.55790265,   1880.82875619,\n",
       "         1795.42984618,    739.36735862,   7235.54415142,   1201.20417843,\n",
       "         2229.71520862,   1211.70975894,   2976.70255996,   1315.39049085,\n",
       "         1735.46522952,   1991.92174666,    870.48626144,    851.28859933,\n",
       "          980.93228957,    766.40425266,   1211.6879749 ,    914.11087427,\n",
       "         3975.35115358,    914.10586337,   1031.43548508,   1643.97384953,\n",
       "         1114.35214979,   4304.59743834,   1546.2558601 ,   6026.28575487,\n",
       "         1866.57881153,   1214.40321237,   2258.7614671 ,   1914.18579158,\n",
       "         1066.7841807 ,   1531.45954627,   2837.91991499,    879.73160742,\n",
       "          750.44140226,   4271.29609008,   5278.75005176,   7823.84155404,\n",
       "         3081.98291115,   5257.83180151,   1262.6939715 ,   1395.89260179,\n",
       "          957.95845748,   1098.13452317,   1282.04080576,    973.27434554,\n",
       "         1513.81559596,   1082.43145989,   1078.54968584,   1254.91539071,\n",
       "          966.39576286,   2436.68589467,   4602.71126533,   1241.67278868,\n",
       "          825.07995554,   2370.48464677,   3379.01056291,   1975.70412004,\n",
       "          794.76876153,   2629.94799434,   1018.9672335 ,  19163.35208802,\n",
       "         1404.68527655,   1767.05233408,   1034.15072256,   2143.01736303,\n",
       "        22630.77472623,    955.1158319 ,    978.99140255,   2385.04295752,\n",
       "         1096.20053136,   6406.12289287,   1154.45536886,   4391.56893054,\n",
       "         1139.91884215,   1429.21282044,   1300.07193129,    890.83604857,\n",
       "         2352.73008149,    828.18737913,   1548.06935901,    946.93831363,\n",
       "         2891.91384245,   1105.01310585,   2285.49469603,   6982.83665252,\n",
       "         2200.73773747,   4238.42973673,   1901.34713792,    862.18636597,\n",
       "         2050.05609126,   1089.69721779,    898.01562486,   2162.70279353,\n",
       "          955.76279424,   1315.51019656,   1166.79623233,   1174.81956754,\n",
       "          905.800957  ,   1132.77546145,    816.38613348,   1196.75425117,\n",
       "         2063.46790903,   1695.92515277,    656.04001639,   1546.26588189,\n",
       "         2226.03462091,    882.82712491,   1522.24789044,   3767.57431124,\n",
       "         2518.95559704,   7524.41204051,   1228.06980636,   4011.55081455,\n",
       "         2060.9588688 ,   2716.47989463,   2688.08734983,   1562.2187105 ,\n",
       "          790.1574461 ,   1055.83062997,   1289.8161161 ,   1089.95700491,\n",
       "         2068.11401174,   2290.43239169,   1705.1418195 ,   1042.71541605,\n",
       "         1194.94576315,   1118.50373275,    820.5421284 ,   1341.20427703,\n",
       "         1551.58574188,   1415.83781941,   1267.51604129,   5883.90436094,\n",
       "         4091.89675984,    717.22177677,   1482.14467137,   1345.22847188,\n",
       "          970.70152887,   2148.31369852,    971.85303275,   1012.24283387,\n",
       "         1403.66617168,   1241.28561345,   1043.90373666,   1489.42546197,\n",
       "          894.25544084,    665.70544055,   1063.488574  ,   1008.97621633,\n",
       "          843.6306553 ,    733.83158952,    779.13229136,   1168.74213025,\n",
       "         3563.8287719 ,    834.7091841 ,    906.83509457,   2235.69205274,\n",
       "         8667.0032048 ,    766.01707744,    962.55707962,   1189.88067938,\n",
       "         1806.63597892,   3523.85795184,    963.42073827,   1385.20604329,\n",
       "          927.83184404,    739.42125841,    693.48628752,    976.14703651,\n",
       "         3199.69004309,    771.0871721 ,   2446.38861153,   1309.14116632,\n",
       "         1732.40137401,    860.76004228,   1423.62315155,   1084.91370518,\n",
       "         3966.53168387,   2143.00058988,    685.94303831,  30100.96973319,\n",
       "          761.98441297,    923.83208254,   5916.55051241,   2091.45323501,\n",
       "         2527.38789152,   1321.48202979,    947.58527598,    887.64244336,\n",
       "         3583.42327423,   1319.02657943,   1291.11004078])"
      ]
     },
     "execution_count": 169,
     "metadata": {},
     "output_type": "execute_result"
    }
   ],
   "source": [
    "prediction1=linear_regression.predict(x_test)\n",
    "prediction1"
   ]
  },
  {
   "cell_type": "code",
   "execution_count": 170,
   "metadata": {},
   "outputs": [],
   "source": [
    "##prediction=np.round(np.clip(linear_regression.predict(x_test),0,1))\n",
    "##prediction"
   ]
  },
  {
   "cell_type": "markdown",
   "metadata": {},
   "source": [
    "## Evaluation of Root Mean Squared Error"
   ]
  },
  {
   "cell_type": "code",
   "execution_count": 171,
   "metadata": {},
   "outputs": [
    {
     "data": {
      "text/plain": [
       "0.27789568455157976"
      ]
     },
     "execution_count": 171,
     "metadata": {},
     "output_type": "execute_result"
    }
   ],
   "source": [
    "linear_regression.score(x_test,true_data)"
   ]
  },
  {
   "cell_type": "code",
   "execution_count": 172,
   "metadata": {},
   "outputs": [
    {
     "data": {
      "text/plain": [
       "0.6119777558125968"
      ]
     },
     "execution_count": 172,
     "metadata": {},
     "output_type": "execute_result"
    }
   ],
   "source": [
    "linear_regression.score(x_train,y_train)"
   ]
  },
  {
   "cell_type": "code",
   "execution_count": 173,
   "metadata": {},
   "outputs": [
    {
     "data": {
      "text/plain": [
       "11947.502597790983"
      ]
     },
     "execution_count": 173,
     "metadata": {},
     "output_type": "execute_result"
    }
   ],
   "source": [
    "from sklearn.metrics import mean_squared_error\n",
    "mse_test = mean_squared_error(true_data, prediction1)\n",
    "rmse_test = np.sqrt(mse_test)\n",
    "rmse_test"
   ]
  },
  {
   "cell_type": "code",
   "execution_count": 174,
   "metadata": {},
   "outputs": [
    {
     "data": {
      "text/plain": [
       "3448.6335174651185"
      ]
     },
     "execution_count": 174,
     "metadata": {},
     "output_type": "execute_result"
    }
   ],
   "source": [
    "mse_train = mean_squared_error(y_train, linear_regression.predict(x_train))\n",
    "rmse_train = np.sqrt(mse_train)\n",
    "rmse_train"
   ]
  },
  {
   "cell_type": "markdown",
   "metadata": {},
   "source": [
    "## Visualization of true and predicted data"
   ]
  },
  {
   "cell_type": "code",
   "execution_count": 175,
   "metadata": {},
   "outputs": [
    {
     "data": {
      "text/plain": [
       "[<matplotlib.lines.Line2D at 0x2aef63fb700>]"
      ]
     },
     "execution_count": 175,
     "metadata": {},
     "output_type": "execute_result"
    },
    {
     "data": {
      "image/png": "[encoded data removed]",
      "text/plain": [
       "<Figure size 432x288 with 1 Axes>"
      ]
     },
     "metadata": {},
     "output_type": "display_data"
    }
   ],
   "source": [
    "import matplotlib.pyplot as plt\n",
    "plt.scatter(prediction1,true_data,color=\"blue\")\n",
    "plt.plot(prediction1,prediction1,color=\"black\")"
   ]
  },
  {
   "cell_type": "code",
   "execution_count": 176,
   "metadata": {},
   "outputs": [
    {
     "data": {
      "text/plain": [
       "<matplotlib.axes._subplots.AxesSubplot at 0x2aef938a940>"
      ]
     },
     "execution_count": 176,
     "metadata": {},
     "output_type": "execute_result"
    },
    {
     "data": {
      "image/png": "[encoded data removed]",
      "text/plain": [
       "<Figure size 432x288 with 1 Axes>"
      ]
     },
     "metadata": {},
     "output_type": "display_data"
    }
   ],
   "source": [
    "sns.distplot(true_data)"
   ]
  },
  {
   "cell_type": "code",
   "execution_count": 177,
   "metadata": {},
   "outputs": [
    {
     "data": {
      "text/plain": [
       "<matplotlib.axes._subplots.AxesSubplot at 0x2aef94041f0>"
      ]
     },
     "execution_count": 177,
     "metadata": {},
     "output_type": "execute_result"
    },
    {
     "data": {
      "image/png": "[encoded data removed]",
      "text/plain": [
       "<Figure size 432x288 with 1 Axes>"
      ]
     },
     "metadata": {},
     "output_type": "display_data"
    }
   ],
   "source": [
    "sns.distplot(prediction1)"
   ]
  },
  {
   "cell_type": "code",
   "execution_count": 178,
   "metadata": {},
   "outputs": [
    {
     "data": {
      "text/plain": [
       "0.27789568455157976"
      ]
     },
     "execution_count": 178,
     "metadata": {},
     "output_type": "execute_result"
    }
   ],
   "source": [
    "from sklearn.metrics import r2_score \n",
    "r2=r2_score(true_data,prediction1)\n",
    "r2"
   ]
  },
  {
   "cell_type": "markdown",
   "metadata": {},
   "source": [
    "# Prediction of content duration based on number of lectures"
   ]
  },
  {
   "cell_type": "code",
   "execution_count": 179,
   "metadata": {},
   "outputs": [
    {
     "data": {
      "text/html": [
       "<div>\n",
       "<style scoped>\n",
       "    .dataframe tbody tr th:only-of-type {\n",
       "        vertical-align: middle;\n",
       "    }\n",
       "\n",
       "    .dataframe tbody tr th {\n",
       "        vertical-align: top;\n",
       "    }\n",
       "\n",
       "    .dataframe thead th {\n",
       "        text-align: right;\n",
       "    }\n",
       "</style>\n",
       "<table border=\"1\" class=\"dataframe\">\n",
       "  <thead>\n",
       "    <tr style=\"text-align: right;\">\n",
       "      <th></th>\n",
       "      <th>num_lectures</th>\n",
       "      <th>content_duration</th>\n",
       "    </tr>\n",
       "  </thead>\n",
       "  <tbody>\n",
       "    <tr>\n",
       "      <th>4</th>\n",
       "      <td>26</td>\n",
       "      <td>2.0</td>\n",
       "    </tr>\n",
       "    <tr>\n",
       "      <th>5</th>\n",
       "      <td>25</td>\n",
       "      <td>3.0</td>\n",
       "    </tr>\n",
       "    <tr>\n",
       "      <th>6</th>\n",
       "      <td>26</td>\n",
       "      <td>1.0</td>\n",
       "    </tr>\n",
       "    <tr>\n",
       "      <th>7</th>\n",
       "      <td>23</td>\n",
       "      <td>2.5</td>\n",
       "    </tr>\n",
       "    <tr>\n",
       "      <th>8</th>\n",
       "      <td>38</td>\n",
       "      <td>2.5</td>\n",
       "    </tr>\n",
       "    <tr>\n",
       "      <th>...</th>\n",
       "      <td>...</td>\n",
       "      <td>...</td>\n",
       "    </tr>\n",
       "    <tr>\n",
       "      <th>3673</th>\n",
       "      <td>21</td>\n",
       "      <td>2.0</td>\n",
       "    </tr>\n",
       "    <tr>\n",
       "      <th>3674</th>\n",
       "      <td>42</td>\n",
       "      <td>3.5</td>\n",
       "    </tr>\n",
       "    <tr>\n",
       "      <th>3675</th>\n",
       "      <td>48</td>\n",
       "      <td>3.5</td>\n",
       "    </tr>\n",
       "    <tr>\n",
       "      <th>3676</th>\n",
       "      <td>38</td>\n",
       "      <td>3.0</td>\n",
       "    </tr>\n",
       "    <tr>\n",
       "      <th>3677</th>\n",
       "      <td>20</td>\n",
       "      <td>2.0</td>\n",
       "    </tr>\n",
       "  </tbody>\n",
       "</table>\n",
       "<p>3367 rows × 2 columns</p>\n",
       "</div>"
      ],
      "text/plain": [
       "      num_lectures  content_duration\n",
       "4               26               2.0\n",
       "5               25               3.0\n",
       "6               26               1.0\n",
       "7               23               2.5\n",
       "8               38               2.5\n",
       "...            ...               ...\n",
       "3673            21               2.0\n",
       "3674            42               3.5\n",
       "3675            48               3.5\n",
       "3676            38               3.0\n",
       "3677            20               2.0\n",
       "\n",
       "[3367 rows x 2 columns]"
      ]
     },
     "execution_count": 179,
     "metadata": {},
     "output_type": "execute_result"
    }
   ],
   "source": [
    "data5=data3.drop([\"course_id\",\"num_subscribers\",\"num_reviews\",\"is_paid\",\"course_title\",\"url\",\"price\",\"level\",\"published_timestamp\",\"subject\"],axis=1)\n",
    "data5"
   ]
  },
  {
   "cell_type": "code",
   "execution_count": 180,
   "metadata": {},
   "outputs": [],
   "source": [
    "train1=data5[0:2499]\n",
    "test1=data5[2500:]"
   ]
  },
  {
   "cell_type": "code",
   "execution_count": 181,
   "metadata": {},
   "outputs": [
    {
     "data": {
      "text/html": [
       "<div>\n",
       "<style scoped>\n",
       "    .dataframe tbody tr th:only-of-type {\n",
       "        vertical-align: middle;\n",
       "    }\n",
       "\n",
       "    .dataframe tbody tr th {\n",
       "        vertical-align: top;\n",
       "    }\n",
       "\n",
       "    .dataframe thead th {\n",
       "        text-align: right;\n",
       "    }\n",
       "</style>\n",
       "<table border=\"1\" class=\"dataframe\">\n",
       "  <thead>\n",
       "    <tr style=\"text-align: right;\">\n",
       "      <th></th>\n",
       "      <th>num_lectures</th>\n",
       "      <th>content_duration</th>\n",
       "    </tr>\n",
       "  </thead>\n",
       "  <tbody>\n",
       "    <tr>\n",
       "      <th>4</th>\n",
       "      <td>26</td>\n",
       "      <td>2.0</td>\n",
       "    </tr>\n",
       "    <tr>\n",
       "      <th>5</th>\n",
       "      <td>25</td>\n",
       "      <td>3.0</td>\n",
       "    </tr>\n",
       "    <tr>\n",
       "      <th>6</th>\n",
       "      <td>26</td>\n",
       "      <td>1.0</td>\n",
       "    </tr>\n",
       "    <tr>\n",
       "      <th>7</th>\n",
       "      <td>23</td>\n",
       "      <td>2.5</td>\n",
       "    </tr>\n",
       "    <tr>\n",
       "      <th>8</th>\n",
       "      <td>38</td>\n",
       "      <td>2.5</td>\n",
       "    </tr>\n",
       "    <tr>\n",
       "      <th>...</th>\n",
       "      <td>...</td>\n",
       "      <td>...</td>\n",
       "    </tr>\n",
       "    <tr>\n",
       "      <th>2670</th>\n",
       "      <td>23</td>\n",
       "      <td>3.0</td>\n",
       "    </tr>\n",
       "    <tr>\n",
       "      <th>2671</th>\n",
       "      <td>18</td>\n",
       "      <td>2.0</td>\n",
       "    </tr>\n",
       "    <tr>\n",
       "      <th>2672</th>\n",
       "      <td>24</td>\n",
       "      <td>2.5</td>\n",
       "    </tr>\n",
       "    <tr>\n",
       "      <th>2673</th>\n",
       "      <td>47</td>\n",
       "      <td>4.5</td>\n",
       "    </tr>\n",
       "    <tr>\n",
       "      <th>2674</th>\n",
       "      <td>57</td>\n",
       "      <td>4.5</td>\n",
       "    </tr>\n",
       "  </tbody>\n",
       "</table>\n",
       "<p>2499 rows × 2 columns</p>\n",
       "</div>"
      ],
      "text/plain": [
       "      num_lectures  content_duration\n",
       "4               26               2.0\n",
       "5               25               3.0\n",
       "6               26               1.0\n",
       "7               23               2.5\n",
       "8               38               2.5\n",
       "...            ...               ...\n",
       "2670            23               3.0\n",
       "2671            18               2.0\n",
       "2672            24               2.5\n",
       "2673            47               4.5\n",
       "2674            57               4.5\n",
       "\n",
       "[2499 rows x 2 columns]"
      ]
     },
     "execution_count": 181,
     "metadata": {},
     "output_type": "execute_result"
    }
   ],
   "source": [
    "train1"
   ]
  },
  {
   "cell_type": "code",
   "execution_count": 182,
   "metadata": {},
   "outputs": [
    {
     "data": {
      "text/html": [
       "<div>\n",
       "<style scoped>\n",
       "    .dataframe tbody tr th:only-of-type {\n",
       "        vertical-align: middle;\n",
       "    }\n",
       "\n",
       "    .dataframe tbody tr th {\n",
       "        vertical-align: top;\n",
       "    }\n",
       "\n",
       "    .dataframe thead th {\n",
       "        text-align: right;\n",
       "    }\n",
       "</style>\n",
       "<table border=\"1\" class=\"dataframe\">\n",
       "  <thead>\n",
       "    <tr style=\"text-align: right;\">\n",
       "      <th></th>\n",
       "      <th>num_lectures</th>\n",
       "      <th>content_duration</th>\n",
       "    </tr>\n",
       "  </thead>\n",
       "  <tbody>\n",
       "    <tr>\n",
       "      <th>2676</th>\n",
       "      <td>38</td>\n",
       "      <td>6.0</td>\n",
       "    </tr>\n",
       "    <tr>\n",
       "      <th>2677</th>\n",
       "      <td>19</td>\n",
       "      <td>1.5</td>\n",
       "    </tr>\n",
       "    <tr>\n",
       "      <th>2678</th>\n",
       "      <td>38</td>\n",
       "      <td>3.0</td>\n",
       "    </tr>\n",
       "    <tr>\n",
       "      <th>2679</th>\n",
       "      <td>86</td>\n",
       "      <td>14.0</td>\n",
       "    </tr>\n",
       "    <tr>\n",
       "      <th>2680</th>\n",
       "      <td>17</td>\n",
       "      <td>2.0</td>\n",
       "    </tr>\n",
       "    <tr>\n",
       "      <th>...</th>\n",
       "      <td>...</td>\n",
       "      <td>...</td>\n",
       "    </tr>\n",
       "    <tr>\n",
       "      <th>3673</th>\n",
       "      <td>21</td>\n",
       "      <td>2.0</td>\n",
       "    </tr>\n",
       "    <tr>\n",
       "      <th>3674</th>\n",
       "      <td>42</td>\n",
       "      <td>3.5</td>\n",
       "    </tr>\n",
       "    <tr>\n",
       "      <th>3675</th>\n",
       "      <td>48</td>\n",
       "      <td>3.5</td>\n",
       "    </tr>\n",
       "    <tr>\n",
       "      <th>3676</th>\n",
       "      <td>38</td>\n",
       "      <td>3.0</td>\n",
       "    </tr>\n",
       "    <tr>\n",
       "      <th>3677</th>\n",
       "      <td>20</td>\n",
       "      <td>2.0</td>\n",
       "    </tr>\n",
       "  </tbody>\n",
       "</table>\n",
       "<p>867 rows × 2 columns</p>\n",
       "</div>"
      ],
      "text/plain": [
       "      num_lectures  content_duration\n",
       "2676            38               6.0\n",
       "2677            19               1.5\n",
       "2678            38               3.0\n",
       "2679            86              14.0\n",
       "2680            17               2.0\n",
       "...            ...               ...\n",
       "3673            21               2.0\n",
       "3674            42               3.5\n",
       "3675            48               3.5\n",
       "3676            38               3.0\n",
       "3677            20               2.0\n",
       "\n",
       "[867 rows x 2 columns]"
      ]
     },
     "execution_count": 182,
     "metadata": {},
     "output_type": "execute_result"
    }
   ],
   "source": [
    "test1"
   ]
  },
  {
   "cell_type": "code",
   "execution_count": 183,
   "metadata": {},
   "outputs": [],
   "source": [
    "x_train1=train1.drop(\"content_duration\",axis=1)\n",
    "y_train1=train1[\"content_duration\"]"
   ]
  },
  {
   "cell_type": "code",
   "execution_count": 184,
   "metadata": {},
   "outputs": [
    {
     "data": {
      "text/html": [
       "<div>\n",
       "<style scoped>\n",
       "    .dataframe tbody tr th:only-of-type {\n",
       "        vertical-align: middle;\n",
       "    }\n",
       "\n",
       "    .dataframe tbody tr th {\n",
       "        vertical-align: top;\n",
       "    }\n",
       "\n",
       "    .dataframe thead th {\n",
       "        text-align: right;\n",
       "    }\n",
       "</style>\n",
       "<table border=\"1\" class=\"dataframe\">\n",
       "  <thead>\n",
       "    <tr style=\"text-align: right;\">\n",
       "      <th></th>\n",
       "      <th>num_lectures</th>\n",
       "    </tr>\n",
       "  </thead>\n",
       "  <tbody>\n",
       "    <tr>\n",
       "      <th>4</th>\n",
       "      <td>26</td>\n",
       "    </tr>\n",
       "    <tr>\n",
       "      <th>5</th>\n",
       "      <td>25</td>\n",
       "    </tr>\n",
       "    <tr>\n",
       "      <th>6</th>\n",
       "      <td>26</td>\n",
       "    </tr>\n",
       "    <tr>\n",
       "      <th>7</th>\n",
       "      <td>23</td>\n",
       "    </tr>\n",
       "    <tr>\n",
       "      <th>8</th>\n",
       "      <td>38</td>\n",
       "    </tr>\n",
       "    <tr>\n",
       "      <th>...</th>\n",
       "      <td>...</td>\n",
       "    </tr>\n",
       "    <tr>\n",
       "      <th>2670</th>\n",
       "      <td>23</td>\n",
       "    </tr>\n",
       "    <tr>\n",
       "      <th>2671</th>\n",
       "      <td>18</td>\n",
       "    </tr>\n",
       "    <tr>\n",
       "      <th>2672</th>\n",
       "      <td>24</td>\n",
       "    </tr>\n",
       "    <tr>\n",
       "      <th>2673</th>\n",
       "      <td>47</td>\n",
       "    </tr>\n",
       "    <tr>\n",
       "      <th>2674</th>\n",
       "      <td>57</td>\n",
       "    </tr>\n",
       "  </tbody>\n",
       "</table>\n",
       "<p>2499 rows × 1 columns</p>\n",
       "</div>"
      ],
      "text/plain": [
       "      num_lectures\n",
       "4               26\n",
       "5               25\n",
       "6               26\n",
       "7               23\n",
       "8               38\n",
       "...            ...\n",
       "2670            23\n",
       "2671            18\n",
       "2672            24\n",
       "2673            47\n",
       "2674            57\n",
       "\n",
       "[2499 rows x 1 columns]"
      ]
     },
     "execution_count": 184,
     "metadata": {},
     "output_type": "execute_result"
    }
   ],
   "source": [
    "x_train1"
   ]
  },
  {
   "cell_type": "code",
   "execution_count": 185,
   "metadata": {},
   "outputs": [
    {
     "data": {
      "text/plain": [
       "4       2.0\n",
       "5       3.0\n",
       "6       1.0\n",
       "7       2.5\n",
       "8       2.5\n",
       "       ... \n",
       "2670    3.0\n",
       "2671    2.0\n",
       "2672    2.5\n",
       "2673    4.5\n",
       "2674    4.5\n",
       "Name: content_duration, Length: 2499, dtype: float64"
      ]
     },
     "execution_count": 185,
     "metadata": {},
     "output_type": "execute_result"
    }
   ],
   "source": [
    "y_train1"
   ]
  },
  {
   "cell_type": "code",
   "execution_count": 186,
   "metadata": {},
   "outputs": [
    {
     "data": {
      "text/html": [
       "<div>\n",
       "<style scoped>\n",
       "    .dataframe tbody tr th:only-of-type {\n",
       "        vertical-align: middle;\n",
       "    }\n",
       "\n",
       "    .dataframe tbody tr th {\n",
       "        vertical-align: top;\n",
       "    }\n",
       "\n",
       "    .dataframe thead th {\n",
       "        text-align: right;\n",
       "    }\n",
       "</style>\n",
       "<table border=\"1\" class=\"dataframe\">\n",
       "  <thead>\n",
       "    <tr style=\"text-align: right;\">\n",
       "      <th></th>\n",
       "      <th>num_lectures</th>\n",
       "    </tr>\n",
       "  </thead>\n",
       "  <tbody>\n",
       "    <tr>\n",
       "      <th>2676</th>\n",
       "      <td>38</td>\n",
       "    </tr>\n",
       "    <tr>\n",
       "      <th>2677</th>\n",
       "      <td>19</td>\n",
       "    </tr>\n",
       "    <tr>\n",
       "      <th>2678</th>\n",
       "      <td>38</td>\n",
       "    </tr>\n",
       "    <tr>\n",
       "      <th>2679</th>\n",
       "      <td>86</td>\n",
       "    </tr>\n",
       "    <tr>\n",
       "      <th>2680</th>\n",
       "      <td>17</td>\n",
       "    </tr>\n",
       "    <tr>\n",
       "      <th>...</th>\n",
       "      <td>...</td>\n",
       "    </tr>\n",
       "    <tr>\n",
       "      <th>3673</th>\n",
       "      <td>21</td>\n",
       "    </tr>\n",
       "    <tr>\n",
       "      <th>3674</th>\n",
       "      <td>42</td>\n",
       "    </tr>\n",
       "    <tr>\n",
       "      <th>3675</th>\n",
       "      <td>48</td>\n",
       "    </tr>\n",
       "    <tr>\n",
       "      <th>3676</th>\n",
       "      <td>38</td>\n",
       "    </tr>\n",
       "    <tr>\n",
       "      <th>3677</th>\n",
       "      <td>20</td>\n",
       "    </tr>\n",
       "  </tbody>\n",
       "</table>\n",
       "<p>867 rows × 1 columns</p>\n",
       "</div>"
      ],
      "text/plain": [
       "      num_lectures\n",
       "2676            38\n",
       "2677            19\n",
       "2678            38\n",
       "2679            86\n",
       "2680            17\n",
       "...            ...\n",
       "3673            21\n",
       "3674            42\n",
       "3675            48\n",
       "3676            38\n",
       "3677            20\n",
       "\n",
       "[867 rows x 1 columns]"
      ]
     },
     "execution_count": 186,
     "metadata": {},
     "output_type": "execute_result"
    }
   ],
   "source": [
    "x_test1=test1.drop(\"content_duration\",axis=1)\n",
    "x_test1"
   ]
  },
  {
   "cell_type": "code",
   "execution_count": 187,
   "metadata": {},
   "outputs": [
    {
     "data": {
      "text/plain": [
       "2676     6.0\n",
       "2677     1.5\n",
       "2678     3.0\n",
       "2679    14.0\n",
       "2680     2.0\n",
       "        ... \n",
       "3673     2.0\n",
       "3674     3.5\n",
       "3675     3.5\n",
       "3676     3.0\n",
       "3677     2.0\n",
       "Name: content_duration, Length: 867, dtype: float64"
      ]
     },
     "execution_count": 187,
     "metadata": {},
     "output_type": "execute_result"
    }
   ],
   "source": [
    "true_data1=test1[\"content_duration\"]\n",
    "true_data1"
   ]
  },
  {
   "cell_type": "code",
   "execution_count": 188,
   "metadata": {},
   "outputs": [],
   "source": [
    "a=linear_regression.fit(x_train1,y_train1)"
   ]
  },
  {
   "cell_type": "markdown",
   "metadata": {},
   "source": [
    "## Prediction"
   ]
  },
  {
   "cell_type": "code",
   "execution_count": 189,
   "metadata": {},
   "outputs": [
    {
     "data": {
      "text/plain": [
       "array([3.94082151, 2.03864635, 3.94082151, 8.74631666, 1.83841738,\n",
       "       8.5460877 , 1.33784497, 1.43795945, 4.14105048, 3.13990565,\n",
       "       1.43795945, 3.74059255, 6.94425598, 2.03864635, 3.03979117,\n",
       "       2.93967669, 3.94082151, 1.33784497, 3.34013462, 4.24116496,\n",
       "       8.14562977, 8.34585873, 5.94311116, 6.74402702, 4.44139392,\n",
       "       8.84643115, 6.34356909, 3.03979117, 2.33898979, 2.73944772,\n",
       "       5.04208082, 1.33784497, 4.04093599, 1.63818842, 1.43795945,\n",
       "       2.63933324, 1.43795945, 2.53921876, 7.24459943, 2.13876083,\n",
       "       7.54494288, 1.33784497, 1.7383029 , 3.4402491 , 8.84643115,\n",
       "       2.53921876, 4.04093599, 5.54265323, 1.63818842, 7.14448495,\n",
       "       2.03864635, 2.43910428, 2.13876083, 1.83841738, 1.83841738,\n",
       "       3.84070703, 5.54265323, 2.53921876, 2.03864635, 3.64047806,\n",
       "       3.84070703, 2.83956221, 6.04322564, 8.44597322, 3.4402491 ,\n",
       "       1.33784497, 0.83727256, 6.14334012, 2.63933324, 1.53807393,\n",
       "       1.63818842, 1.43795945, 2.13876083, 4.54150841, 4.04093599,\n",
       "       5.84299668, 3.74059255, 3.84070703, 5.54265323, 6.14334012,\n",
       "       1.7383029 , 1.33784497, 6.14334012, 1.63818842, 2.23887531,\n",
       "       3.13990565, 3.13990565, 2.73944772, 4.14105048, 3.54036358,\n",
       "       5.04208082, 1.83841738, 0.83727256, 8.5460877 , 6.64391253,\n",
       "       3.13990565, 4.04093599, 2.93967669, 3.24002013, 2.33898979,\n",
       "       3.34013462, 5.04208082, 4.94196633, 4.84185185, 2.63933324,\n",
       "       2.23887531, 4.74173737, 2.13876083, 2.43910428, 3.13990565,\n",
       "       2.23887531, 7.54494288, 3.94082151, 3.4402491 , 4.54150841,\n",
       "       3.03979117, 1.13761601, 2.13876083, 4.64162289, 2.23887531,\n",
       "       3.84070703, 2.53921876, 3.24002013, 4.94196633, 2.03864635,\n",
       "       1.83841738, 3.94082151, 5.74288219, 6.04322564, 2.53921876,\n",
       "       1.7383029 , 2.83956221, 7.9454008 , 3.24002013, 1.23773049,\n",
       "       1.63818842, 1.53807393, 4.84185185, 3.94082151, 1.03750152,\n",
       "       3.64047806, 1.7383029 , 2.23887531, 0.83727256, 2.23887531,\n",
       "       2.53921876, 6.14334012, 1.23773049, 1.33784497, 2.13876083,\n",
       "       4.24116496, 0.83727256, 3.64047806, 1.93853186, 2.53921876,\n",
       "       7.9454008 , 2.73944772, 3.74059255, 4.24116496, 2.33898979,\n",
       "       2.53921876, 1.33784497, 1.7383029 , 1.7383029 , 3.13990565,\n",
       "       2.13876083, 1.53807393, 2.13876083, 1.23773049, 3.54036358,\n",
       "       5.74288219, 1.43795945, 2.63933324, 3.03979117, 1.33784497,\n",
       "       3.13990565, 8.44597322, 2.93967669, 2.33898979, 3.24002013,\n",
       "       3.54036358, 3.34013462, 2.53921876, 1.23773049, 1.63818842,\n",
       "       1.93853186, 1.33784497, 2.73944772, 3.24002013, 2.73944772,\n",
       "       1.43795945, 2.33898979, 2.93967669, 3.03979117, 1.43795945,\n",
       "       0.93738704, 1.33784497, 4.54150841, 3.4402491 , 5.54265323,\n",
       "       5.94311116, 6.74402702, 2.53921876, 0.93738704, 6.74402702,\n",
       "       3.34013462, 2.23887531, 3.34013462, 5.84299668, 1.23773049,\n",
       "       1.03750152, 3.13990565, 5.84299668, 6.54379805, 2.43910428,\n",
       "       3.64047806, 2.33898979, 3.34013462, 1.83841738, 2.93967669,\n",
       "       2.43910428, 2.33898979, 2.63933324, 1.63818842, 6.34356909,\n",
       "       4.04093599, 8.44597322, 7.54494288, 6.34356909, 8.34585873,\n",
       "       0.83727256, 6.04322564, 7.74517184, 2.63933324, 1.53807393,\n",
       "       2.93967669, 2.63933324, 1.43795945, 2.93967669, 5.04208082,\n",
       "       2.03864635, 4.54150841, 1.53807393, 2.63933324, 1.33784497,\n",
       "       0.83727256, 1.83841738, 1.43795945, 1.33784497, 2.63933324,\n",
       "       5.64276771, 5.74288219, 3.54036358, 1.43795945, 2.43910428,\n",
       "       2.33898979, 3.54036358, 0.83727256, 1.33784497, 0.93738704,\n",
       "       4.54150841, 4.94196633, 0.93738704, 3.74059255, 3.24002013,\n",
       "       4.04093599, 1.03750152, 3.94082151, 3.03979117, 0.83727256,\n",
       "       4.34127944, 2.03864635, 3.74059255, 1.43795945, 3.94082151,\n",
       "       2.23887531, 4.74173737, 5.34242426, 3.13990565, 7.54494288,\n",
       "       2.53921876, 6.8441415 , 2.03864635, 1.83841738, 1.93853186,\n",
       "       5.04208082, 1.7383029 , 3.34013462, 8.14562977, 6.64391253,\n",
       "       1.7383029 , 5.34242426, 3.24002013, 2.43910428, 2.23887531,\n",
       "       2.03864635, 2.83956221, 6.74402702, 2.23887531, 2.93967669,\n",
       "       3.64047806, 2.83956221, 1.93853186, 2.83956221, 7.74517184,\n",
       "       6.24345461, 7.84528632, 4.64162289, 3.03979117, 1.13761601,\n",
       "       3.64047806, 1.13761601, 2.43910428, 4.04093599, 0.83727256,\n",
       "       0.73715808, 2.13876083, 7.34471391, 3.84070703, 7.44482839,\n",
       "       6.54379805, 0.83727256, 3.4402491 , 0.83727256, 2.93967669,\n",
       "       1.7383029 , 1.93853186, 3.03979117, 8.5460877 , 4.84185185,\n",
       "       3.64047806, 1.33784497, 1.83841738, 7.14448495, 3.94082151,\n",
       "       2.23887531, 7.04437046, 4.44139392, 1.83841738, 7.24459943,\n",
       "       3.94082151, 2.13876083, 2.73944772, 7.44482839, 1.63818842,\n",
       "       4.84185185, 2.93967669, 1.53807393, 2.63933324, 2.63933324,\n",
       "       3.54036358, 6.34356909, 3.4402491 , 3.03979117, 5.04208082,\n",
       "       3.64047806, 1.7383029 , 1.43795945, 7.04437046, 4.54150841,\n",
       "       4.24116496, 4.24116496, 1.03750152, 3.74059255, 1.83841738,\n",
       "       2.83956221, 1.53807393, 2.63933324, 3.84070703, 1.43795945,\n",
       "       5.64276771, 3.03979117, 1.93853186, 0.83727256, 5.34242426,\n",
       "       2.33898979, 2.13876083, 0.93738704, 2.63933324, 5.34242426,\n",
       "       2.03864635, 1.93853186, 6.24345461, 5.04208082, 3.74059255,\n",
       "       1.93853186, 3.74059255, 8.04551529, 5.94311116, 1.33784497,\n",
       "       2.03864635, 2.53921876, 3.24002013, 3.03979117, 0.83727256,\n",
       "       4.74173737, 4.64162289, 4.44139392, 8.5460877 , 4.44139392,\n",
       "       5.94311116, 3.94082151, 6.14334012, 7.84528632, 1.43795945,\n",
       "       5.44253875, 5.1421953 , 8.14562977, 6.34356909, 1.53807393,\n",
       "       3.34013462, 1.33784497, 0.93738704, 2.03864635, 2.63933324,\n",
       "       1.43795945, 7.9454008 , 2.53921876, 4.04093599, 5.34242426,\n",
       "       4.74173737, 0.83727256, 3.34013462, 1.53807393, 1.03750152,\n",
       "       2.93967669, 5.44253875, 3.84070703, 3.4402491 , 1.63818842,\n",
       "       7.54494288, 6.24345461, 4.34127944, 3.34013462, 7.54494288,\n",
       "       6.14334012, 6.24345461, 6.74402702, 6.8441415 , 4.24116496,\n",
       "       4.64162289, 5.74288219, 5.94311116, 1.53807393, 7.14448495,\n",
       "       3.74059255, 4.64162289, 1.93853186, 2.83956221, 0.83727256,\n",
       "       7.84528632, 4.54150841, 7.54494288, 3.84070703, 2.03864635,\n",
       "       4.64162289, 4.14105048, 3.03979117, 4.94196633, 4.74173737,\n",
       "       7.34471391, 2.53921876, 1.83841738, 1.7383029 , 7.84528632,\n",
       "       1.03750152, 0.63704359, 3.94082151, 3.24002013, 3.34013462,\n",
       "       2.73944772, 4.94196633, 2.73944772, 2.33898979, 1.13761601,\n",
       "       5.64276771, 8.64620218, 5.74288219, 7.84528632, 6.94425598,\n",
       "       1.03750152, 1.63818842, 1.33784497, 6.34356909, 2.53921876,\n",
       "       1.33784497, 4.84185185, 7.04437046, 1.7383029 , 5.24230978,\n",
       "       4.64162289, 1.03750152, 2.23887531, 1.03750152, 1.43795945,\n",
       "       1.13761601, 3.54036358, 0.93738704, 5.44253875, 0.73715808,\n",
       "       3.4402491 , 4.94196633, 4.94196633, 7.34471391, 7.24459943,\n",
       "       0.83727256, 2.93967669, 6.54379805, 2.23887531, 4.64162289,\n",
       "       2.23887531, 1.03750152, 1.13761601, 3.13990565, 5.94311116,\n",
       "       1.43795945, 2.33898979, 2.03864635, 4.04093599, 1.7383029 ,\n",
       "       2.13876083, 1.53807393, 0.93738704, 2.53921876, 3.74059255,\n",
       "       2.73944772, 6.14334012, 2.13876083, 2.73944772, 1.03750152,\n",
       "       1.23773049, 7.9454008 , 2.93967669, 6.14334012, 3.13990565,\n",
       "       2.23887531, 0.93738704, 2.93967669, 1.43795945, 1.03750152,\n",
       "       1.7383029 , 2.53921876, 8.24574425, 1.53807393, 5.1421953 ,\n",
       "       4.24116496, 1.43795945, 4.94196633, 1.13761601, 1.23773049,\n",
       "       5.24230978, 2.93967669, 2.43910428, 2.13876083, 3.64047806,\n",
       "       4.84185185, 0.83727256, 1.53807393, 1.43795945, 3.03979117,\n",
       "       6.14334012, 2.23887531, 2.73944772, 3.13990565, 6.04322564,\n",
       "       2.23887531, 8.24574425, 1.7383029 , 2.63933324, 2.33898979,\n",
       "       1.93853186, 8.64620218, 3.74059255, 1.33784497, 2.83956221,\n",
       "       1.33784497, 5.44253875, 2.13876083, 5.04208082, 5.44253875,\n",
       "       5.64276771, 3.24002013, 3.84070703, 1.63818842, 1.43795945,\n",
       "       2.43910428, 6.34356909, 1.7383029 , 2.13876083, 1.03750152,\n",
       "       2.03864635, 8.84643115, 2.33898979, 2.33898979, 3.4402491 ,\n",
       "       4.84185185, 3.64047806, 4.24116496, 1.93853186, 4.54150841,\n",
       "       2.93967669, 8.5460877 , 1.43795945, 5.44253875, 2.03864635,\n",
       "       6.54379805, 2.03864635, 1.93853186, 3.74059255, 2.03864635,\n",
       "       5.74288219, 2.53921876, 6.8441415 , 7.14448495, 6.04322564,\n",
       "       1.13761601, 6.14334012, 2.43910428, 3.54036358, 3.84070703,\n",
       "       2.93967669, 2.83956221, 5.84299668, 2.73944772, 2.93967669,\n",
       "       1.93853186, 2.23887531, 1.43795945, 3.24002013, 0.63704359,\n",
       "       2.93967669, 0.83727256, 1.43795945, 4.24116496, 2.63933324,\n",
       "       1.03750152, 4.04093599, 2.03864635, 8.94654563, 1.53807393,\n",
       "       1.33784497, 5.24230978, 4.44139392, 4.04093599, 4.54150841,\n",
       "       2.53921876, 3.13990565, 7.9454008 , 0.93738704, 2.63933324,\n",
       "       2.33898979, 1.63818842, 3.64047806, 1.53807393, 1.93853186,\n",
       "       1.7383029 , 1.63818842, 1.93853186, 8.84643115, 2.93967669,\n",
       "       2.13876083, 6.54379805, 2.33898979, 4.94196633, 2.83956221,\n",
       "       2.83956221, 1.93853186, 3.03979117, 1.7383029 , 3.03979117,\n",
       "       3.13990565, 1.03750152, 0.73715808, 4.34127944, 1.53807393,\n",
       "       2.13876083, 2.23887531, 0.83727256, 1.63818842, 5.54265323,\n",
       "       7.84528632, 5.04208082, 4.14105048, 1.03750152, 2.43910428,\n",
       "       2.33898979, 0.83727256, 1.83841738, 1.23773049, 0.93738704,\n",
       "       3.13990565, 3.84070703, 3.84070703, 2.43910428, 3.74059255,\n",
       "       1.33784497, 1.93853186, 8.04551529, 1.93853186, 8.64620218,\n",
       "       6.04322564, 1.7383029 , 3.74059255, 3.94082151, 0.93738704,\n",
       "       2.13876083, 2.23887531, 1.23773049, 0.93738704, 7.04437046,\n",
       "       1.33784497, 2.63933324, 8.94654563, 0.83727256, 5.54265323,\n",
       "       8.44597322, 0.93738704, 3.13990565, 5.84299668, 1.13761601,\n",
       "       2.93967669, 3.34013462, 4.54150841, 3.74059255, 1.63818842,\n",
       "       4.14105048, 2.13876083, 3.74059255, 2.53921876, 3.24002013,\n",
       "       1.83841738, 3.54036358, 1.13761601, 6.64391253, 2.93967669,\n",
       "       0.73715808, 4.04093599, 8.04551529, 2.33898979, 6.94425598,\n",
       "       6.64391253, 2.93967669, 1.83841738, 4.74173737, 0.93738704,\n",
       "       1.43795945, 2.43910428, 2.43910428, 2.83956221, 4.14105048,\n",
       "       4.64162289, 0.73715808, 5.1421953 , 2.13876083, 1.93853186,\n",
       "       2.43910428, 0.83727256, 2.63933324, 4.84185185, 1.83841738,\n",
       "       3.34013462, 8.14562977, 4.04093599, 2.33898979, 1.63818842,\n",
       "       2.43910428, 3.03979117, 1.63818842, 2.73944772, 2.83956221,\n",
       "       3.84070703, 1.63818842, 2.53921876, 1.7383029 , 6.74402702,\n",
       "       1.13761601, 8.5460877 , 6.14334012, 0.83727256, 4.74173737,\n",
       "       1.23773049, 2.23887531, 2.23887531, 3.64047806, 2.53921876,\n",
       "       3.03979117, 7.44482839, 3.64047806, 3.54036358, 5.74288219,\n",
       "       7.34471391, 1.93853186, 1.83841738, 3.03979117, 2.53921876,\n",
       "       2.63933324, 3.74059255, 4.94196633, 7.44482839, 2.43910428,\n",
       "       2.53921876, 3.74059255, 1.03750152, 3.13990565, 3.03979117,\n",
       "       3.34013462, 5.34242426, 3.34013462, 1.03750152, 1.33784497,\n",
       "       1.7383029 , 5.54265323, 6.14334012, 7.04437046, 2.13876083,\n",
       "       6.14334012, 8.84643115, 4.14105048, 4.54150841, 5.04208082,\n",
       "       1.83841738, 0.93738704, 3.13990565, 2.43910428, 1.7383029 ,\n",
       "       1.13761601, 1.93853186, 4.64162289, 1.43795945, 1.43795945,\n",
       "       1.93853186, 8.74631666, 1.33784497, 1.33784497, 1.23773049,\n",
       "       3.03979117, 8.14562977, 1.7383029 , 2.83956221, 2.93967669,\n",
       "       1.63818842, 2.43910428, 0.83727256, 7.54494288, 4.94196633,\n",
       "       2.23887531, 0.83727256, 0.93738704, 6.64391253, 1.93853186,\n",
       "       2.83956221, 5.04208082, 4.94196633, 6.44368357, 1.13761601,\n",
       "       2.33898979, 0.93738704, 1.33784497, 0.93738704, 1.7383029 ,\n",
       "       1.83841738, 2.33898979, 2.23887531, 4.34127944, 4.94196633,\n",
       "       3.94082151, 2.13876083])"
      ]
     },
     "execution_count": 189,
     "metadata": {},
     "output_type": "execute_result"
    }
   ],
   "source": [
    "prediction2=linear_regression.predict(x_test1)\n",
    "prediction2"
   ]
  },
  {
   "cell_type": "code",
   "execution_count": 190,
   "metadata": {},
   "outputs": [
    {
     "data": {
      "text/plain": [
       "0.6117781186541263"
      ]
     },
     "execution_count": 190,
     "metadata": {},
     "output_type": "execute_result"
    }
   ],
   "source": [
    "linear_regression.score(x_test1,true_data1)"
   ]
  },
  {
   "cell_type": "code",
   "execution_count": 191,
   "metadata": {},
   "outputs": [
    {
     "data": {
      "text/plain": [
       "0.282145274002051"
      ]
     },
     "execution_count": 191,
     "metadata": {},
     "output_type": "execute_result"
    }
   ],
   "source": [
    "linear_regression.score(x_train1,y_train1)"
   ]
  },
  {
   "cell_type": "code",
   "execution_count": 192,
   "metadata": {},
   "outputs": [
    {
     "data": {
      "text/plain": [
       "1.7720077776352403"
      ]
     },
     "execution_count": 192,
     "metadata": {},
     "output_type": "execute_result"
    }
   ],
   "source": [
    "mse_test1 = mean_squared_error(true_data1, prediction2)\n",
    "rmse_test1 = np.sqrt(mse_test1)\n",
    "rmse_test1"
   ]
  },
  {
   "cell_type": "code",
   "execution_count": 193,
   "metadata": {},
   "outputs": [
    {
     "data": {
      "text/plain": [
       "2.9984482392725633"
      ]
     },
     "execution_count": 193,
     "metadata": {},
     "output_type": "execute_result"
    }
   ],
   "source": [
    "mse_train1 = mean_squared_error(y_train1, linear_regression.predict(x_train1))\n",
    "rmse_train1 = np.sqrt(mse_train1)\n",
    "rmse_train1"
   ]
  },
  {
   "cell_type": "code",
   "execution_count": 194,
   "metadata": {},
   "outputs": [
    {
     "data": {
      "text/plain": [
       "0.6117781186541263"
      ]
     },
     "execution_count": 194,
     "metadata": {},
     "output_type": "execute_result"
    }
   ],
   "source": [
    "r2=r2_score(true_data1,prediction2)\n",
    "r2"
   ]
  },
  {
   "cell_type": "code",
   "execution_count": 195,
   "metadata": {},
   "outputs": [
    {
     "data": {
      "text/plain": [
       "[<matplotlib.lines.Line2D at 0x2aef95e0370>]"
      ]
     },
     "execution_count": 195,
     "metadata": {},
     "output_type": "execute_result"
    },
    {
     "data": {
      "image/png": "[encoded data removed]",
      "text/plain": [
       "<Figure size 432x288 with 1 Axes>"
      ]
     },
     "metadata": {},
     "output_type": "display_data"
    }
   ],
   "source": [
    "import matplotlib.pyplot as plt\n",
    "plt.scatter(prediction2,true_data1,color=\"blue\")\n",
    "plt.plot(prediction2,prediction2,color=\"black\")"
   ]
  },
  {
   "cell_type": "code",
   "execution_count": 196,
   "metadata": {},
   "outputs": [
    {
     "data": {
      "text/plain": [
       "<matplotlib.axes._subplots.AxesSubplot at 0x2aef9606460>"
      ]
     },
     "execution_count": 196,
     "metadata": {},
     "output_type": "execute_result"
    },
    {
     "data": {
      "image/png": "[encoded data removed]",
      "text/plain": [
       "<Figure size 432x288 with 1 Axes>"
      ]
     },
     "metadata": {},
     "output_type": "display_data"
    }
   ],
   "source": [
    "sns.distplot(true_data1)"
   ]
  },
  {
   "cell_type": "code",
   "execution_count": 197,
   "metadata": {},
   "outputs": [
    {
     "data": {
      "text/plain": [
       "<matplotlib.axes._subplots.AxesSubplot at 0x2aef96a4820>"
      ]
     },
     "execution_count": 197,
     "metadata": {},
     "output_type": "execute_result"
    },
    {
     "data": {
      "image/png": "[encoded data removed]",
      "text/plain": [
       "<Figure size 432x288 with 1 Axes>"
      ]
     },
     "metadata": {},
     "output_type": "display_data"
    }
   ],
   "source": [
    "sns.distplot(prediction2)"
   ]
  },
  {
   "cell_type": "code",
   "execution_count": 198,
   "metadata": {},
   "outputs": [
    {
     "name": "stdout",
     "output_type": "stream",
     "text": [
      "Enter number of lectures: 22\n",
      "Predicted number of lectures:  2.338989793553808\n"
     ]
    }
   ],
   "source": [
    "num_lectures=int(input(\"Enter number of lectures: \"))\n",
    "predictions=a.predict([[num_lectures]])\n",
    "print(\"Predicted number of lectures: \",predictions[0])"
   ]
  },
  {
   "cell_type": "code",
   "execution_count": null,
   "metadata": {},
   "outputs": [],
   "source": []
  }
 ],
 "metadata": {
  "kernelspec": {
   "display_name": "Python 3",
   "language": "python",
   "name": "python3"
  },
  "language_info": {
   "codemirror_mode": {
    "name": "ipython",
    "version": 3
   },
   "file_extension": ".py",
   "mimetype": "text/x-python",
   "name": "python",
   "nbconvert_exporter": "python",
   "pygments_lexer": "ipython3",
   "version": "3.8.3"
  }
 },
 "nbformat": 4,
 "nbformat_minor": 4
}
